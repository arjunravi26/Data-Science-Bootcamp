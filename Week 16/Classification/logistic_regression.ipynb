{
 "cells": [
  {
   "cell_type": "markdown",
   "metadata": {},
   "source": [
    "# **Logistic Regression**"
   ]
  },
  {
   "cell_type": "markdown",
   "metadata": {},
   "source": [
    "## Theory"
   ]
  },
  {
   "cell_type": "markdown",
   "metadata": {},
   "source": [
    "**What is logistic regression?**\n",
    "\n",
    "Logistic regression models the probability of a dependent variable belonging to a particular class. It’s primarily used for binary classification, where the output is either 0 or 1.\n",
    "\n",
    "The algorithm uses the sigmoid function to map any real-valued input to the range (0, 1). The output of the sigmoid function is interpreted as the probability of the positive class. The decision boundary is defined by selecting a threshold, typically 0.5."
   ]
  },
  {
   "cell_type": "markdown",
   "metadata": {},
   "source": [
    "**Advantages of Logistic Regression** <br>\n",
    "* Simple and Interpretable: Logistic regression is easy to implement and provides clear interpretability of coefficients, showing the relationship between features and the target variable.\n",
    "* Efficient: It works well for linearly separable data and is computationally less intensive compared to complex models.\n",
    "* Probabilistic Output: Provides probabilities as outputs, which can be useful for understanding uncertainty.\n",
    "* Regularization: Techniques like L1 (Lasso) and L2 (Ridge) regularization can prevent overfitting by penalizing large coefficients.\n",
    "* Baseline Model: It often serves as a strong baseline in machine learning tasks due to its simplicity and efficiency."
   ]
  },
  {
   "cell_type": "markdown",
   "metadata": {},
   "source": [
    "**Disadvantages of Logistic Regression**\n",
    "* Linear Decision Boundary: It assumes a linear relationship between the features and the log-odds of the target, which may not hold for complex datasets.\n",
    "* Outlier Sensitivity: Logistic regression is sensitive to outliers, which can skew the model.\n",
    "* Multicollinearity: High correlation among independent variables can reduce model interpretability.\n",
    "* Not Suitable for Complex Relationships: For non-linear or intricate patterns in data, logistic regression fails to capture underlying trends without significant feature engineering.\n",
    "* Data Imbalance: It struggles with highly imbalanced datasets, often predicting the majority class."
   ]
  },
  {
   "cell_type": "markdown",
   "metadata": {},
   "source": [
    "**Assumptions of Logistic Regression**\n",
    "* Binary or Multinomial Response Variable: For binary logistic regression, the target variable must have two classes (0 and 1).\n",
    "* Independence of Observations: Each observation must be independent of others.\n",
    "* Linearity of Log-Odds: The relationship between independent variables and the log-odds of the target variable is assumed to be linear.\\\n",
    "* No Multicollinearity: Independent variables should not be highly correlated.\n",
    "* Large Sample Size: Logistic regression requires a sufficiently large dataset for stable and reliable coefficient estimates."
   ]
  },
  {
   "cell_type": "markdown",
   "metadata": {},
   "source": [
    "**Extension of logisitc regression**\n",
    "1. Multinomial logistic regression\n",
    "2. Regularized logistic regression\n",
    "3. logisitic regression with feature engineering"
   ]
  },
  {
   "cell_type": "markdown",
   "metadata": {},
   "source": [
    "Imp topics in logestic regression"
   ]
  },
  {
   "cell_type": "markdown",
   "metadata": {},
   "source": [
    "* Linear equation <br>\n",
    "y = WX + b"
   ]
  },
  {
   "cell_type": "markdown",
   "metadata": {},
   "source": [
    "* Sigmoid function <br>\n",
    "Convert the linear equation value(y) into probability value(0 to 1)"
   ]
  },
  {
   "cell_type": "markdown",
   "metadata": {},
   "source": [
    "* Cost function(loss function) <br>\n",
    "formula:-(y * ln(p) + (1 - y) * ln(1 - p)) <br>\n",
    "It compute how well model find correct class"
   ]
  },
  {
   "cell_type": "markdown",
   "metadata": {},
   "source": [
    "* Gradient Descent <br>\n",
    "It was an algorithms used to minimize cost function: min J(w,b) by finding correct value to w and b.<br>\n",
    "Gradeint tell us, how the loss function changes with respect to parameter(w,b). Update the parameter based on this gradient.\n",
    "\n"
   ]
  },
  {
   "cell_type": "markdown",
   "metadata": {},
   "source": [
    "* Learning rate <br>\n",
    "determines how quickly the algorithm converges to the optimal solution"
   ]
  },
  {
   "cell_type": "markdown",
   "metadata": {},
   "source": [
    "## Implementation"
   ]
  },
  {
   "cell_type": "markdown",
   "metadata": {},
   "source": [
    "Implement Logestic regression from scratch"
   ]
  },
  {
   "cell_type": "markdown",
   "metadata": {},
   "source": [
    "Steps:\n",
    "* Initialize weight and bias\n",
    "* Compute y\n",
    "* Calculate loss\n",
    "* Gradient descent (re-calculate weights)\n",
    "* repeat until converge"
   ]
  },
  {
   "cell_type": "code",
   "execution_count": 75,
   "metadata": {},
   "outputs": [],
   "source": [
    "import numpy as np"
   ]
  },
  {
   "cell_type": "markdown",
   "metadata": {},
   "source": [
    "Implementing logistic regression"
   ]
  },
  {
   "cell_type": "code",
   "execution_count": 76,
   "metadata": {},
   "outputs": [],
   "source": [
    "class LogesticRegression:\n",
    "    '''Code for implementing Logistic regression'''\n",
    "\n",
    "    def __init__(self, n_iter=100, alpha=0.01) -> None:\n",
    "        self.W = None\n",
    "        self.b = 0\n",
    "        self.n_iter = n_iter\n",
    "        self.alpha = alpha\n",
    "        self.threshold = 0.1\n",
    "\n",
    "    def sigmoid(self, pred):\n",
    "        '''Convert regression value into probabilies using sigmoid function'''\n",
    "        return 1 / (1 + np.exp(-pred))\n",
    "\n",
    "    def _cost_function(self, pred):\n",
    "        '''Calculate the cost value(measure how well model predictions matches actual prediction) for prediction'''\n",
    "        return (np.sum(-(self.y * np.log(pred) + ((1 - self.y) * np.log(1 - pred))))) / self.n_sample\n",
    "\n",
    "    def _gradient_descent(self):\n",
    "        '''Calculate gradient of cost function with respect to w and b and update the weights and bias using learning_rate'''\n",
    "        z = np.dot(self.X, self.W) + self.b # regrssion value\n",
    "        pred = 1 / (1 + np.exp(-z)) # convert regression value into proability\n",
    "        cost = self._cost_function(pred) # calculate cost value\n",
    "        dw = np.dot(self.X.T, (pred - self.y)) / self.n_sample # calculate parital derivate of cost with respect to w(slope)\n",
    "        db = np.mean(pred - self.y) # calculate partial derivative of cost with respect to b(slope)\n",
    "        self.W -= self.alpha * dw # update weight using dw\n",
    "        self.b -= self.alpha * db # update weight using db\n",
    "        return cost\n",
    "\n",
    "    def fit(self, X, y):\n",
    "        '''Fit the training data into the model'''\n",
    "        self.X = X\n",
    "        self.y = y\n",
    "        self.n_features = self.X.shape[1]\n",
    "        self.n_sample = self.X.shape[0]\n",
    "        self.W = np.zeros(shape=self.n_features) # Initialize weights with zero value\n",
    "        for i in range(self.n_iter):\n",
    "            cost = self._gradient_descent()\n",
    "            if cost < self.threshold:\n",
    "                break\n",
    "        return cost\n",
    "\n",
    "    def predict(self, test):\n",
    "        '''Predcit class for new unseen values'''\n",
    "        z = np.dot(test, self.W) + self.b\n",
    "        p = self.sigmoid(z)\n",
    "        if not isinstance(p, np.ndarray):\n",
    "            return 0 if p < 0.5 else 1\n",
    "        return [0 if i < 0.5 else 1 for i in p]\n",
    "\n",
    "    def predict_proba(self, test):\n",
    "        '''predict proabaility for new unseen value'''\n",
    "        z = np.dot(test, self.W) + self.b\n",
    "        return self.sigmoid(z)"
   ]
  },
  {
   "cell_type": "markdown",
   "metadata": {},
   "source": [
    "Test Logesitc Regeression model"
   ]
  },
  {
   "cell_type": "code",
   "execution_count": 77,
   "metadata": {},
   "outputs": [],
   "source": [
    "from sklearn.datasets import make_classification\n",
    "from sklearn.linear_model import LogisticRegression\n",
    "from sklearn.model_selection import train_test_split\n",
    "from sklearn.metrics import accuracy_score"
   ]
  },
  {
   "cell_type": "code",
   "execution_count": 78,
   "metadata": {},
   "outputs": [],
   "source": [
    "X,y  = make_classification(n_samples=1000,n_features=4,n_informative=2,n_classes=2,random_state=42)\n",
    "# X = np.random.randn(1000, 1)\n",
    "# y = (X[:, 0] > 0).astype(int)\n",
    "X_train,X_test,y_train,y_test = train_test_split(X,y,test_size=0.2,random_state=42)"
   ]
  },
  {
   "cell_type": "code",
   "execution_count": 80,
   "metadata": {},
   "outputs": [
    {
     "data": {
      "text/plain": [
       "0.5079247995155056"
      ]
     },
     "execution_count": 80,
     "metadata": {},
     "output_type": "execute_result"
    }
   ],
   "source": [
    "lr = LogesticRegression()\n",
    "lr.fit(X_train,y_train)"
   ]
  },
  {
   "cell_type": "code",
   "execution_count": 81,
   "metadata": {},
   "outputs": [
    {
     "data": {
      "text/html": [
       "<style>#sk-container-id-3 {color: black;background-color: white;}#sk-container-id-3 pre{padding: 0;}#sk-container-id-3 div.sk-toggleable {background-color: white;}#sk-container-id-3 label.sk-toggleable__label {cursor: pointer;display: block;width: 100%;margin-bottom: 0;padding: 0.3em;box-sizing: border-box;text-align: center;}#sk-container-id-3 label.sk-toggleable__label-arrow:before {content: \"▸\";float: left;margin-right: 0.25em;color: #696969;}#sk-container-id-3 label.sk-toggleable__label-arrow:hover:before {color: black;}#sk-container-id-3 div.sk-estimator:hover label.sk-toggleable__label-arrow:before {color: black;}#sk-container-id-3 div.sk-toggleable__content {max-height: 0;max-width: 0;overflow: hidden;text-align: left;background-color: #f0f8ff;}#sk-container-id-3 div.sk-toggleable__content pre {margin: 0.2em;color: black;border-radius: 0.25em;background-color: #f0f8ff;}#sk-container-id-3 input.sk-toggleable__control:checked~div.sk-toggleable__content {max-height: 200px;max-width: 100%;overflow: auto;}#sk-container-id-3 input.sk-toggleable__control:checked~label.sk-toggleable__label-arrow:before {content: \"▾\";}#sk-container-id-3 div.sk-estimator input.sk-toggleable__control:checked~label.sk-toggleable__label {background-color: #d4ebff;}#sk-container-id-3 div.sk-label input.sk-toggleable__control:checked~label.sk-toggleable__label {background-color: #d4ebff;}#sk-container-id-3 input.sk-hidden--visually {border: 0;clip: rect(1px 1px 1px 1px);clip: rect(1px, 1px, 1px, 1px);height: 1px;margin: -1px;overflow: hidden;padding: 0;position: absolute;width: 1px;}#sk-container-id-3 div.sk-estimator {font-family: monospace;background-color: #f0f8ff;border: 1px dotted black;border-radius: 0.25em;box-sizing: border-box;margin-bottom: 0.5em;}#sk-container-id-3 div.sk-estimator:hover {background-color: #d4ebff;}#sk-container-id-3 div.sk-parallel-item::after {content: \"\";width: 100%;border-bottom: 1px solid gray;flex-grow: 1;}#sk-container-id-3 div.sk-label:hover label.sk-toggleable__label {background-color: #d4ebff;}#sk-container-id-3 div.sk-serial::before {content: \"\";position: absolute;border-left: 1px solid gray;box-sizing: border-box;top: 0;bottom: 0;left: 50%;z-index: 0;}#sk-container-id-3 div.sk-serial {display: flex;flex-direction: column;align-items: center;background-color: white;padding-right: 0.2em;padding-left: 0.2em;position: relative;}#sk-container-id-3 div.sk-item {position: relative;z-index: 1;}#sk-container-id-3 div.sk-parallel {display: flex;align-items: stretch;justify-content: center;background-color: white;position: relative;}#sk-container-id-3 div.sk-item::before, #sk-container-id-3 div.sk-parallel-item::before {content: \"\";position: absolute;border-left: 1px solid gray;box-sizing: border-box;top: 0;bottom: 0;left: 50%;z-index: -1;}#sk-container-id-3 div.sk-parallel-item {display: flex;flex-direction: column;z-index: 1;position: relative;background-color: white;}#sk-container-id-3 div.sk-parallel-item:first-child::after {align-self: flex-end;width: 50%;}#sk-container-id-3 div.sk-parallel-item:last-child::after {align-self: flex-start;width: 50%;}#sk-container-id-3 div.sk-parallel-item:only-child::after {width: 0;}#sk-container-id-3 div.sk-dashed-wrapped {border: 1px dashed gray;margin: 0 0.4em 0.5em 0.4em;box-sizing: border-box;padding-bottom: 0.4em;background-color: white;}#sk-container-id-3 div.sk-label label {font-family: monospace;font-weight: bold;display: inline-block;line-height: 1.2em;}#sk-container-id-3 div.sk-label-container {text-align: center;}#sk-container-id-3 div.sk-container {/* jupyter's `normalize.less` sets `[hidden] { display: none; }` but bootstrap.min.css set `[hidden] { display: none !important; }` so we also need the `!important` here to be able to override the default hidden behavior on the sphinx rendered scikit-learn.org. See: https://github.com/scikit-learn/scikit-learn/issues/21755 */display: inline-block !important;position: relative;}#sk-container-id-3 div.sk-text-repr-fallback {display: none;}</style><div id=\"sk-container-id-3\" class=\"sk-top-container\"><div class=\"sk-text-repr-fallback\"><pre>LogisticRegression()</pre><b>In a Jupyter environment, please rerun this cell to show the HTML representation or trust the notebook. <br />On GitHub, the HTML representation is unable to render, please try loading this page with nbviewer.org.</b></div><div class=\"sk-container\" hidden><div class=\"sk-item\"><div class=\"sk-estimator sk-toggleable\"><input class=\"sk-toggleable__control sk-hidden--visually\" id=\"sk-estimator-id-3\" type=\"checkbox\" checked><label for=\"sk-estimator-id-3\" class=\"sk-toggleable__label sk-toggleable__label-arrow\">LogisticRegression</label><div class=\"sk-toggleable__content\"><pre>LogisticRegression()</pre></div></div></div></div></div>"
      ],
      "text/plain": [
       "LogisticRegression()"
      ]
     },
     "execution_count": 81,
     "metadata": {},
     "output_type": "execute_result"
    }
   ],
   "source": [
    "lr1 = LogisticRegression()\n",
    "lr1.fit(X_train,y_train)"
   ]
  },
  {
   "cell_type": "code",
   "execution_count": 82,
   "metadata": {},
   "outputs": [
    {
     "data": {
      "text/plain": [
       "0.885"
      ]
     },
     "execution_count": 82,
     "metadata": {},
     "output_type": "execute_result"
    }
   ],
   "source": [
    "pred = lr1.predict(X_test)\n",
    "accuracy_score(pred,y_test)"
   ]
  },
  {
   "cell_type": "code",
   "execution_count": 83,
   "metadata": {},
   "outputs": [
    {
     "data": {
      "text/plain": [
       "0.865"
      ]
     },
     "execution_count": 83,
     "metadata": {},
     "output_type": "execute_result"
    }
   ],
   "source": [
    "pred = lr.predict(X_test)\n",
    "accuracy_score(pred,y_test)"
   ]
  },
  {
   "cell_type": "code",
   "execution_count": 84,
   "metadata": {},
   "outputs": [],
   "source": [
    "def test(model, x):\n",
    "    print(f\"Value of x: {x}\")\n",
    "    print(f\"Probability of x is {model.predict_proba(x)}\")\n",
    "    print(f\"Class is {model.predict(x)}\")"
   ]
  },
  {
   "cell_type": "code",
   "execution_count": 88,
   "metadata": {},
   "outputs": [
    {
     "name": "stdout",
     "output_type": "stream",
     "text": [
      "Value of x: [array([-2.4766318 ,  0.81176843,  0.46168007,  0.23398858])]\n",
      "Probability of x is [0.51453084]\n",
      "Class is [1]\n",
      "Value of x: [array([-0.41921964, -0.19445516,  0.83584285, -0.36593445])]\n",
      "Probability of x is [0.59948564]\n",
      "Class is [1]\n",
      "Value of x: [array([ 2.08923409, -0.40319141, -1.03239735,  0.14673053])]\n",
      "Probability of x is [0.40821425]\n",
      "Class is [0]\n",
      "Value of x: [array([ 0.30463008,  0.41722807, -1.23735285,  0.6030946 ])]\n",
      "Probability of x is [0.3522295]\n",
      "Class is [0]\n",
      "Value of x: [array([-0.66971816,  0.53869068, -0.60388303,  0.45331218])]\n",
      "Probability of x is [0.41198324]\n",
      "Class is [0]\n"
     ]
    }
   ],
   "source": [
    "for i in range(5):\n",
    "    test(lr,[X_test[i]])"
   ]
  },
  {
   "cell_type": "code",
   "execution_count": 87,
   "metadata": {},
   "outputs": [
    {
     "name": "stdout",
     "output_type": "stream",
     "text": [
      "Value of x: [array([-2.4766318 ,  0.81176843,  0.46168007,  0.23398858])]\n",
      "Probability of x is [[0.17460786 0.82539214]]\n",
      "Class is [1]\n",
      "Value of x: [array([-0.41921964, -0.19445516,  0.83584285, -0.36593445])]\n",
      "Probability of x is [[0.13701538 0.86298462]]\n",
      "Class is [1]\n",
      "Value of x: [array([ 2.08923409, -0.40319141, -1.03239735,  0.14673053])]\n",
      "Probability of x is [[0.90263491 0.09736509]]\n",
      "Class is [0]\n",
      "Value of x: [array([ 0.30463008,  0.41722807, -1.23735285,  0.6030946 ])]\n",
      "Probability of x is [[0.904523 0.095477]]\n",
      "Class is [0]\n",
      "Value of x: [array([-0.66971816,  0.53869068, -0.60388303,  0.45331218])]\n",
      "Probability of x is [[0.69929556 0.30070444]]\n",
      "Class is [0]\n"
     ]
    }
   ],
   "source": [
    "for i in range(5):\n",
    "    test(lr1,[X_test[i]])"
   ]
  }
 ],
 "metadata": {
  "kernelspec": {
   "display_name": "Python 3",
   "language": "python",
   "name": "python3"
  },
  "language_info": {
   "codemirror_mode": {
    "name": "ipython",
    "version": 3
   },
   "file_extension": ".py",
   "mimetype": "text/x-python",
   "name": "python",
   "nbconvert_exporter": "python",
   "pygments_lexer": "ipython3",
   "version": "3.11.3"
  }
 },
 "nbformat": 4,
 "nbformat_minor": 2
}
