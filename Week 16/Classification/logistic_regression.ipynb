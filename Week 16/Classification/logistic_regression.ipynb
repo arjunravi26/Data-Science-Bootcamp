{
 "cells": [
  {
   "cell_type": "markdown",
   "metadata": {},
   "source": [
    "**Logistic Regression**"
   ]
  },
  {
   "cell_type": "markdown",
   "metadata": {},
   "source": [
    "Logistic regression is a statistical method used for binary classification.<br> In simple terms, it predicts the probability that an input belongs to one of two possible classes. By applying a logistic (sigmoid) function, the output of the model ranges between 0 and 1"
   ]
  },
  {
   "cell_type": "markdown",
   "metadata": {},
   "source": [
    "Imp topics in logestic regression"
   ]
  },
  {
   "cell_type": "markdown",
   "metadata": {},
   "source": [
    "* Linear equation\n",
    "* Loss function\n",
    "* Gradient descent\n",
    "* Sigmoid or Softmax function\n",
    "* Decision Boundary"
   ]
  },
  {
   "cell_type": "markdown",
   "metadata": {},
   "source": [
    "Gradient Descent <br>\n",
    "* It was an algorithms used to minimize cost function: min J(w,b) by finding correct value to w and b.\n",
    "* It take the partial derivate of cost function with respect to w or b"
   ]
  },
  {
   "cell_type": "markdown",
   "metadata": {},
   "source": [
    "Implement Logestic regression from scratch"
   ]
  },
  {
   "cell_type": "markdown",
   "metadata": {},
   "source": [
    "Steps:\n",
    "* Initialize weight and bias\n",
    "* Compute y\n",
    "* Calculate loss\n",
    "* Gradient descent (re-calculate weights)\n",
    "* repeat until converge"
   ]
  },
  {
   "cell_type": "code",
   "execution_count": 370,
   "metadata": {},
   "outputs": [],
   "source": [
    "import numpy as np"
   ]
  },
  {
   "cell_type": "code",
   "execution_count": 371,
   "metadata": {},
   "outputs": [],
   "source": [
    "class LogesticRegression:\n",
    "    '''Code for implementing Logistic regression'''\n",
    "\n",
    "    def __init__(self, n_iter=100, alpha=0.01) -> None:\n",
    "        self.W = None\n",
    "        self.b = 0\n",
    "        self.n_iter = n_iter\n",
    "        self.alpha = alpha\n",
    "        self.threshold = 0.1\n",
    "\n",
    "    def sigmoid(self, pred):\n",
    "        return 1 / (1 + np.exp(-pred))\n",
    "\n",
    "    def _cost_function(self, pred):\n",
    "        return (np.sum(-(self.y * np.log(pred) + ((1 - self.y) * np.log(1 - pred))))) / self.n_sample\n",
    "\n",
    "    def _gradient_descent(self):\n",
    "        z = np.dot(self.X, self.W) + self.b\n",
    "        pred = 1 / (1 + np.exp(-z))\n",
    "        cost = self._cost_function(pred)\n",
    "        dw = np.dot(self.X.T, (pred - self.y)) / self.n_sample\n",
    "        db = np.mean(pred - self.y)\n",
    "        self.W -= self.alpha * dw\n",
    "        self.b -= self.alpha * db\n",
    "        return cost\n",
    "\n",
    "    def fit(self, X, y):\n",
    "        self.X = X\n",
    "        self.y = y\n",
    "        self.n_features = self.X.shape[1]\n",
    "        self.n_sample = self.X.shape[0]\n",
    "        self.W = np.zeros(shape=self.n_features)\n",
    "        for i in range(self.n_iter):\n",
    "            cost = self._gradient_descent()\n",
    "            if cost < self.threshold:\n",
    "                break\n",
    "        return cost\n",
    "\n",
    "    def predict(self, test):\n",
    "        z = np.dot(test, self.W) + self.b\n",
    "        self.p = self.sigmoid(z)\n",
    "        return [0 if i < 0.5 else 1 for i in self.p]\n",
    "\n",
    "    def predict_proba(self,test):\n",
    "        z = np.dot(test,self.X) + self.b\n",
    "        return self.sigmoid(z)"
   ]
  },
  {
   "cell_type": "code",
   "execution_count": 372,
   "metadata": {},
   "outputs": [],
   "source": [
    "from sklearn.datasets import make_classification\n",
    "from sklearn.model_selection import train_test_split\n",
    "from sklearn.metrics import accuracy_score"
   ]
  },
  {
   "cell_type": "code",
   "execution_count": 373,
   "metadata": {},
   "outputs": [],
   "source": [
    "X,y = make_classification(n_samples=1000,n_features=6,n_classes=2,random_state=42)\n",
    "X_train,X_test,y_train,y_test = train_test_split(X,y,test_size=0.2,random_state=42)"
   ]
  },
  {
   "cell_type": "code",
   "execution_count": 374,
   "metadata": {},
   "outputs": [
    {
     "data": {
      "text/plain": [
       "0.49816881254506234"
      ]
     },
     "execution_count": 374,
     "metadata": {},
     "output_type": "execute_result"
    }
   ],
   "source": [
    "lr = LogesticRegression()\n",
    "lr.fit(X_train,y_train)"
   ]
  },
  {
   "cell_type": "code",
   "execution_count": 375,
   "metadata": {},
   "outputs": [
    {
     "data": {
      "text/plain": [
       "0.89"
      ]
     },
     "execution_count": 375,
     "metadata": {},
     "output_type": "execute_result"
    }
   ],
   "source": [
    "pred = lr.predict(X_test)\n",
    "accuracy_score(pred,y_test)"
   ]
  }
 ],
 "metadata": {
  "kernelspec": {
   "display_name": "Python 3",
   "language": "python",
   "name": "python3"
  },
  "language_info": {
   "codemirror_mode": {
    "name": "ipython",
    "version": 3
   },
   "file_extension": ".py",
   "mimetype": "text/x-python",
   "name": "python",
   "nbconvert_exporter": "python",
   "pygments_lexer": "ipython3",
   "version": "3.11.3"
  }
 },
 "nbformat": 4,
 "nbformat_minor": 2
}
