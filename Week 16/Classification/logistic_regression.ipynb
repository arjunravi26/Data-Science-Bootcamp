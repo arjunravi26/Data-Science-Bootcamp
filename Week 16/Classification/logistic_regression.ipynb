{
 "cells": [
  {
   "cell_type": "markdown",
   "metadata": {},
   "source": [
    "**Logistic Regression**"
   ]
  },
  {
   "cell_type": "markdown",
   "metadata": {},
   "source": [
    "Logistic regression is a statistical method used for binary classification.<br> In simple terms, it predicts the probability that an input belongs to one of two possible classes. By applying a logistic (sigmoid) function, the output of the model ranges between 0 and 1"
   ]
  },
  {
   "cell_type": "markdown",
   "metadata": {},
   "source": [
    "Imp topics in logestic regression"
   ]
  },
  {
   "cell_type": "markdown",
   "metadata": {},
   "source": [
    "* Linear equation\n",
    "* Loss function\n",
    "* Gradient descent\n",
    "* Sigmoid or Softmax function\n",
    "* Decision Boundary"
   ]
  },
  {
   "cell_type": "markdown",
   "metadata": {},
   "source": [
    "Gradient Descent <br>\n",
    "* It was an algorithms used to minimize cost function: min J(w,b) by finding correct value to w and b.\n",
    "* It take the partial derivate of cost function with respect to w or b"
   ]
  },
  {
   "cell_type": "markdown",
   "metadata": {},
   "source": [
    "Implement Logestic regression from scratch"
   ]
  },
  {
   "cell_type": "markdown",
   "metadata": {},
   "source": [
    "Steps:\n",
    "* Initialize weight and bias\n",
    "* Compute y\n",
    "* Calculate loss\n",
    "* Gradient descent (re-calculate weights)\n",
    "* repeat until converge"
   ]
  },
  {
   "cell_type": "code",
   "execution_count": 414,
   "metadata": {},
   "outputs": [],
   "source": [
    "import numpy as np"
   ]
  },
  {
   "cell_type": "code",
   "execution_count": 435,
   "metadata": {},
   "outputs": [],
   "source": [
    "class LogesticRegression:\n",
    "    '''Code for implementing Logistic regression'''\n",
    "\n",
    "    def __init__(self, n_iter=100, alpha=0.01) -> None:\n",
    "        self.W = None\n",
    "        self.b = 0\n",
    "        self.n_iter = n_iter\n",
    "        self.alpha = alpha\n",
    "        self.threshold = 0.1\n",
    "\n",
    "    def sigmoid(self, pred):\n",
    "        '''Convert regression value into probabilies using sigmoid function'''\n",
    "        return 1 / (1 + np.exp(-pred))\n",
    "\n",
    "    def _cost_function(self, pred):\n",
    "        '''Calculate the cost value(measure how well model predictions matches actual prediction) for prediction'''\n",
    "        return (np.sum(-(self.y * np.log(pred) + ((1 - self.y) * np.log(1 - pred))))) / self.n_sample\n",
    "\n",
    "    def _gradient_descent(self):\n",
    "        '''Calculate gradient of cost function with respect to w and b and update the weights and bias using learning_rate'''\n",
    "        z = np.dot(self.X, self.W) + self.b # regrssion value\n",
    "        pred = 1 / (1 + np.exp(-z)) # convert regression value into proability\n",
    "        cost = self._cost_function(pred) # calculate cost value\n",
    "        dw = np.dot(self.X.T, (pred - self.y)) / self.n_sample # calculate parital derivate of cost with respect to w(slope)\n",
    "        db = np.mean(pred - self.y) # calculate partial derivative of cost with respect to b(slope)\n",
    "        self.W -= self.alpha * dw # update weight using dw\n",
    "        self.b -= self.alpha * db # update weight using db\n",
    "        return cost\n",
    "\n",
    "    def fit(self, X, y):\n",
    "        '''Fit the training data into the model'''\n",
    "        self.X = X\n",
    "        self.y = y\n",
    "        self.n_features = self.X.shape[1]\n",
    "        self.n_sample = self.X.shape[0]\n",
    "        self.W = np.zeros(shape=self.n_features) # Initialize weights with zero value\n",
    "        for i in range(self.n_iter):\n",
    "            cost = self._gradient_descent()\n",
    "            if cost < self.threshold:\n",
    "                break\n",
    "        return cost\n",
    "\n",
    "    def predict(self, test):\n",
    "        '''Predcit class for new unseen values'''\n",
    "        z = np.dot(test, self.W) + self.b\n",
    "        p = self.sigmoid(z)\n",
    "        if not isinstance(p, np.ndarray):\n",
    "            return 0 if p < 0.5 else 1\n",
    "        return [0 if i < 0.5 else 1 for i in p]\n",
    "\n",
    "    def predict_proba(self, test):\n",
    "        '''predict proabaility for new unseen value'''\n",
    "        z = np.dot(test, self.W) + self.b\n",
    "        return self.sigmoid(z)"
   ]
  },
  {
   "cell_type": "markdown",
   "metadata": {},
   "source": [
    "Test Logesitc Regeression model"
   ]
  },
  {
   "cell_type": "code",
   "execution_count": 431,
   "metadata": {},
   "outputs": [],
   "source": [
    "from sklearn.datasets import make_classification\n",
    "from sklearn.linear_model import LogisticRegression\n",
    "from sklearn.model_selection import train_test_split\n",
    "from sklearn.metrics import accuracy_score"
   ]
  },
  {
   "cell_type": "code",
   "execution_count": 417,
   "metadata": {},
   "outputs": [],
   "source": [
    "X,y = make_classification(n_samples=1000,n_features=6,n_classes=2,random_state=42)\n",
    "X_train,X_test,y_train,y_test = train_test_split(X,y,test_size=0.2,random_state=42)"
   ]
  },
  {
   "cell_type": "code",
   "execution_count": 432,
   "metadata": {},
   "outputs": [
    {
     "data": {
      "text/plain": [
       "0.49816881254506234"
      ]
     },
     "execution_count": 432,
     "metadata": {},
     "output_type": "execute_result"
    }
   ],
   "source": [
    "lr = LogesticRegression()\n",
    "lr.fit(X_train,y_train)"
   ]
  },
  {
   "cell_type": "code",
   "execution_count": null,
   "metadata": {},
   "outputs": [
    {
     "data": {
      "text/html": [
       "<style>#sk-container-id-1 {color: black;background-color: white;}#sk-container-id-1 pre{padding: 0;}#sk-container-id-1 div.sk-toggleable {background-color: white;}#sk-container-id-1 label.sk-toggleable__label {cursor: pointer;display: block;width: 100%;margin-bottom: 0;padding: 0.3em;box-sizing: border-box;text-align: center;}#sk-container-id-1 label.sk-toggleable__label-arrow:before {content: \"▸\";float: left;margin-right: 0.25em;color: #696969;}#sk-container-id-1 label.sk-toggleable__label-arrow:hover:before {color: black;}#sk-container-id-1 div.sk-estimator:hover label.sk-toggleable__label-arrow:before {color: black;}#sk-container-id-1 div.sk-toggleable__content {max-height: 0;max-width: 0;overflow: hidden;text-align: left;background-color: #f0f8ff;}#sk-container-id-1 div.sk-toggleable__content pre {margin: 0.2em;color: black;border-radius: 0.25em;background-color: #f0f8ff;}#sk-container-id-1 input.sk-toggleable__control:checked~div.sk-toggleable__content {max-height: 200px;max-width: 100%;overflow: auto;}#sk-container-id-1 input.sk-toggleable__control:checked~label.sk-toggleable__label-arrow:before {content: \"▾\";}#sk-container-id-1 div.sk-estimator input.sk-toggleable__control:checked~label.sk-toggleable__label {background-color: #d4ebff;}#sk-container-id-1 div.sk-label input.sk-toggleable__control:checked~label.sk-toggleable__label {background-color: #d4ebff;}#sk-container-id-1 input.sk-hidden--visually {border: 0;clip: rect(1px 1px 1px 1px);clip: rect(1px, 1px, 1px, 1px);height: 1px;margin: -1px;overflow: hidden;padding: 0;position: absolute;width: 1px;}#sk-container-id-1 div.sk-estimator {font-family: monospace;background-color: #f0f8ff;border: 1px dotted black;border-radius: 0.25em;box-sizing: border-box;margin-bottom: 0.5em;}#sk-container-id-1 div.sk-estimator:hover {background-color: #d4ebff;}#sk-container-id-1 div.sk-parallel-item::after {content: \"\";width: 100%;border-bottom: 1px solid gray;flex-grow: 1;}#sk-container-id-1 div.sk-label:hover label.sk-toggleable__label {background-color: #d4ebff;}#sk-container-id-1 div.sk-serial::before {content: \"\";position: absolute;border-left: 1px solid gray;box-sizing: border-box;top: 0;bottom: 0;left: 50%;z-index: 0;}#sk-container-id-1 div.sk-serial {display: flex;flex-direction: column;align-items: center;background-color: white;padding-right: 0.2em;padding-left: 0.2em;position: relative;}#sk-container-id-1 div.sk-item {position: relative;z-index: 1;}#sk-container-id-1 div.sk-parallel {display: flex;align-items: stretch;justify-content: center;background-color: white;position: relative;}#sk-container-id-1 div.sk-item::before, #sk-container-id-1 div.sk-parallel-item::before {content: \"\";position: absolute;border-left: 1px solid gray;box-sizing: border-box;top: 0;bottom: 0;left: 50%;z-index: -1;}#sk-container-id-1 div.sk-parallel-item {display: flex;flex-direction: column;z-index: 1;position: relative;background-color: white;}#sk-container-id-1 div.sk-parallel-item:first-child::after {align-self: flex-end;width: 50%;}#sk-container-id-1 div.sk-parallel-item:last-child::after {align-self: flex-start;width: 50%;}#sk-container-id-1 div.sk-parallel-item:only-child::after {width: 0;}#sk-container-id-1 div.sk-dashed-wrapped {border: 1px dashed gray;margin: 0 0.4em 0.5em 0.4em;box-sizing: border-box;padding-bottom: 0.4em;background-color: white;}#sk-container-id-1 div.sk-label label {font-family: monospace;font-weight: bold;display: inline-block;line-height: 1.2em;}#sk-container-id-1 div.sk-label-container {text-align: center;}#sk-container-id-1 div.sk-container {/* jupyter's `normalize.less` sets `[hidden] { display: none; }` but bootstrap.min.css set `[hidden] { display: none !important; }` so we also need the `!important` here to be able to override the default hidden behavior on the sphinx rendered scikit-learn.org. See: https://github.com/scikit-learn/scikit-learn/issues/21755 */display: inline-block !important;position: relative;}#sk-container-id-1 div.sk-text-repr-fallback {display: none;}</style><div id=\"sk-container-id-1\" class=\"sk-top-container\"><div class=\"sk-text-repr-fallback\"><pre>LogisticRegression()</pre><b>In a Jupyter environment, please rerun this cell to show the HTML representation or trust the notebook. <br />On GitHub, the HTML representation is unable to render, please try loading this page with nbviewer.org.</b></div><div class=\"sk-container\" hidden><div class=\"sk-item\"><div class=\"sk-estimator sk-toggleable\"><input class=\"sk-toggleable__control sk-hidden--visually\" id=\"sk-estimator-id-1\" type=\"checkbox\" checked><label for=\"sk-estimator-id-1\" class=\"sk-toggleable__label sk-toggleable__label-arrow\">LogisticRegression</label><div class=\"sk-toggleable__content\"><pre>LogisticRegression()</pre></div></div></div></div></div>"
      ],
      "text/plain": [
       "LogisticRegression()"
      ]
     },
     "execution_count": 433,
     "metadata": {},
     "output_type": "execute_result"
    }
   ],
   "source": [
    "lr1 = LogisticRegression()\n",
    "lr1.fit(X_train,y_train)"
   ]
  },
  {
   "cell_type": "code",
   "execution_count": 434,
   "metadata": {},
   "outputs": [
    {
     "data": {
      "text/plain": [
       "0.88"
      ]
     },
     "execution_count": 434,
     "metadata": {},
     "output_type": "execute_result"
    }
   ],
   "source": [
    "pred = lr1.predict(X_test)\n",
    "accuracy_score(pred,y_test)"
   ]
  },
  {
   "cell_type": "code",
   "execution_count": 419,
   "metadata": {},
   "outputs": [
    {
     "data": {
      "text/plain": [
       "0.89"
      ]
     },
     "execution_count": 419,
     "metadata": {},
     "output_type": "execute_result"
    }
   ],
   "source": [
    "pred = lr.predict(X_test)\n",
    "accuracy_score(pred,y_test)"
   ]
  },
  {
   "cell_type": "code",
   "execution_count": null,
   "metadata": {},
   "outputs": [],
   "source": [
    "def test(model, x):\n",
    "    print(f\"Value of x: {x}\")\n",
    "    print(f\"Probability of x is {model.predict_proba(x)}\")\n",
    "    print(f\"Class is {model.predict(x)}\")"
   ]
  },
  {
   "cell_type": "code",
   "execution_count": 430,
   "metadata": {},
   "outputs": [
    {
     "name": "stdout",
     "output_type": "stream",
     "text": [
      "Value of x: [ 1.03837885  0.78033058 -0.58359933  0.28069022  0.56825989 -1.55980328]\n",
      "Probability of x is 0.30865466316130696\n",
      "Class is 0\n",
      "Value of x: [ 1.51115493 -0.19583011 -0.12754912 -0.68013092  0.01009192  0.61272173]\n",
      "Probability of x is 0.5712250109594242\n",
      "Class is 1\n",
      "Value of x: [ 1.05811833  0.72467402  0.63866017 -0.35238133  0.6812724  -1.22605436]\n",
      "Probability of x is 0.34289732131973455\n",
      "Class is 0\n",
      "Value of x: [-0.80431576 -0.21035092  0.62952958 -0.23873414 -0.11234182  0.47965397]\n",
      "Probability of x is 0.5640489409976385\n",
      "Class is 1\n",
      "Value of x: [-0.35667313  0.53990221 -0.18315047  0.22091614  0.38648319 -1.08890469]\n",
      "Probability of x is 0.3649845806330929\n",
      "Class is 0\n"
     ]
    }
   ],
   "source": [
    "for i in range(5):\n",
    "    test(lr,X_test[i])"
   ]
  }
 ],
 "metadata": {
  "kernelspec": {
   "display_name": "Python 3",
   "language": "python",
   "name": "python3"
  },
  "language_info": {
   "codemirror_mode": {
    "name": "ipython",
    "version": 3
   },
   "file_extension": ".py",
   "mimetype": "text/x-python",
   "name": "python",
   "nbconvert_exporter": "python",
   "pygments_lexer": "ipython3",
   "version": "3.11.3"
  }
 },
 "nbformat": 4,
 "nbformat_minor": 2
}
