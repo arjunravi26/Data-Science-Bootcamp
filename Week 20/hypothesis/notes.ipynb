{
 "cells": [
  {
   "cell_type": "markdown",
   "metadata": {},
   "source": [
    "# Hypothesis testing: A Profound Inquiry into Statistical Inference"
   ]
  },
  {
   "cell_type": "markdown",
   "metadata": {},
   "source": [
    "**Prelude: The Dance of the Known and the Unknown** <br>\n",
    "Hypothesis testing is the mathematical and philosophical inquiry into the unknown. It is the bridge by which we extend the reach of our finite observations toward the infinite truths of the population from which our data springs. In this, it reflects the fundamental structure of mathematical thought: to discern patterns amidst apparent randomness and to seek certainty in the midst of uncertainty."
   ]
  },
  {
   "cell_type": "markdown",
   "metadata": {},
   "source": [
    "* The Null Hypothesis (𝐻0): The assertion of no effect, no difference, or the status quo. <br>\n",
    "* The Alternative Hypothesis (𝐻𝑎): The assertion that challenges , claiming there is an effect, a difference, or change."
   ]
  },
  {
   "cell_type": "markdown",
   "metadata": {},
   "source": [
    "**Steps**"
   ]
  },
  {
   "cell_type": "markdown",
   "metadata": {},
   "source": [
    "* Formulate Hypothesis(H0,Ha).\n",
    "* Choose significance level.\n",
    "* Select appropirate test.\n",
    "* Calculate test statistics.\n",
    "* Decision make via the p-value"
   ]
  },
  {
   "cell_type": "markdown",
   "metadata": {},
   "source": [
    "**Error and Power**"
   ]
  },
  {
   "cell_type": "markdown",
   "metadata": {},
   "source": [
    "* Type 1 Error(False +ve): Reject H0 when it is true. Chance will decrease when reduce significance level.\n",
    "* Type 2 Error(False -ve): Reject Ha when it is true. Chance will decrease when increase significance level."
   ]
  },
  {
   "cell_type": "markdown",
   "metadata": {},
   "source": [
    "* The power of a statistical test is the probability of correctly rejecting H0 when Ha is true. <br>\n",
    "* Power: P(Reject H 0 ∣ H a is true) = 1−β"
   ]
  },
  {
   "cell_type": "markdown",
   "metadata": {},
   "source": [
    "**The Foundation of Statistical Tests**\n",
    "\n",
    "In hypothesis testing, the choice of a statistical test depends on:\n",
    "\n",
    "* Nature of Data: Is it continuous or categorical?\n",
    "* Objective: Are we comparing means, proportions, variances, or relationships?\n",
    "* Distributional Assumptions: Is the data normally distributed, or do we need non-parametric methods?\n",
    "* Study Design: Are we analyzing paired or independent samples"
   ]
  },
  {
   "cell_type": "markdown",
   "metadata": {},
   "source": [
    "**Classification of Statistical Tests**\n",
    "1. Parametric vs Non-Parametric Tests\n",
    "* Parametric Tests:\n",
    "\n",
    "    * Assume specific conditions about the data, such as normal distribution and homogeneity of variances.Require interval or ratio data.\n",
    "    * Examples: t-tests, ANOVA, regression.\n",
    "\n",
    "* Non-Parametric Tests:\n",
    "\n",
    "    * Do not assume strict distributional requirements.\n",
    "    * Can handle ordinal or non-normal data.\n",
    "    * Examples: Mann-Whitney, U test, Kruskal-Wallis test, Spearman’s rank correlation."
   ]
  },
  {
   "cell_type": "markdown",
   "metadata": {},
   "source": [
    "**Types of Statistical Tests**\n",
    "1. Test for comparing mean: z-test, t-test, Annova\n",
    "2. Tests for Comparing Proportions: Chi-square test, Fisher’s Exact Test:\n",
    "3. Tests for Relationships: Correlation, Regression Analysis\n",
    "4. Test for variance: F-test\n",
    "5. Non parametric test: Mann-Whitney U test, Wilcoxon Signed-Rank Test, Kruskal-Wallis Test, Friedman Test\n"
   ]
  }
 ],
 "metadata": {
  "language_info": {
   "name": "python"
  }
 },
 "nbformat": 4,
 "nbformat_minor": 2
}
