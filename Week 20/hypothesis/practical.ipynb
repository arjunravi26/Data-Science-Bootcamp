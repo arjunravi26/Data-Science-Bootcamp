{
 "cells": [
  {
   "cell_type": "code",
   "execution_count": 235,
   "metadata": {},
   "outputs": [],
   "source": [
    "from scipy import stats\n",
    "from statsmodels.stats.weightstats import ztest\n",
    "import numpy as np"
   ]
  },
  {
   "cell_type": "markdown",
   "metadata": {},
   "source": [
    "Z-test"
   ]
  },
  {
   "cell_type": "code",
   "execution_count": 236,
   "metadata": {},
   "outputs": [],
   "source": [
    "sample = np.random.normal(loc=10,scale=5,size= 100)\n",
    "pop_mean = 10.5"
   ]
  },
  {
   "cell_type": "code",
   "execution_count": 237,
   "metadata": {},
   "outputs": [
    {
     "data": {
      "text/plain": [
       "array([ 7.38661703, 10.15982575, 13.2417226 ,  9.85950893,  7.20515214,\n",
       "       11.65265996, 16.80435789, 11.6298953 , 12.5474636 ,  4.49600993,\n",
       "        8.99899702, 12.04388291,  7.97964337,  4.75379212,  9.63769512,\n",
       "        6.37918725, 10.37963134,  6.33980083,  7.48649668,  4.74803133,\n",
       "       10.9929047 , 13.37571573, 11.87289422, 19.39822609, 13.15124343,\n",
       "        7.28048856,  4.09388812, 10.48570512,  5.10803159,  8.06843594,\n",
       "       14.62933879, 10.70402876, 12.28768139,  7.05539844, -1.83018465,\n",
       "        6.52782673, 17.68982522,  6.58737597,  6.13284256,  5.65222884,\n",
       "        4.01886354, 12.88950367, 14.58618681,  5.34506473, 11.89740873,\n",
       "        9.43271202,  4.71582205, 11.85041254,  9.41683812, 12.43493931,\n",
       "       15.65114209, 12.78015761,  6.93364564,  2.91432634, 15.46360264,\n",
       "        5.49169171, 10.89963778,  6.15514252, 17.64972024, 15.45046667,\n",
       "       17.4263754 ,  6.96025846,  5.10427248, 12.0258167 , 11.07791559,\n",
       "       18.24400599,  9.31279522,  8.10205794,  6.45403536,  5.15133802,\n",
       "        5.59846876,  6.13818363, 16.7670448 , 11.52021905, 14.22238562,\n",
       "        6.57870925, 10.05602122,  0.30226456,  8.78514514,  9.12482187,\n",
       "       11.23793986, 10.19983785, 13.95568968, 10.78920239, 11.17242929,\n",
       "        6.91074275,  8.8941095 ,  3.20449575, 10.53042824,  4.83460631,\n",
       "       10.37971506, 11.17813123, 10.58699748,  8.81829789, 16.37563117,\n",
       "        0.60091721,  7.56021833,  7.28056174,  7.13703321, 12.67097528])"
      ]
     },
     "execution_count": 237,
     "metadata": {},
     "output_type": "execute_result"
    }
   ],
   "source": [
    "sample"
   ]
  },
  {
   "cell_type": "code",
   "execution_count": 238,
   "metadata": {},
   "outputs": [],
   "source": [
    "z_stati,p = ztest(sample,value=pop_mean)"
   ]
  },
  {
   "cell_type": "code",
   "execution_count": 239,
   "metadata": {},
   "outputs": [
    {
     "data": {
      "text/plain": [
       "(-2.3448126891851575, 0.019036640530215747)"
      ]
     },
     "execution_count": 239,
     "metadata": {},
     "output_type": "execute_result"
    }
   ],
   "source": [
    "z_stati,p"
   ]
  },
  {
   "cell_type": "code",
   "execution_count": 240,
   "metadata": {},
   "outputs": [
    {
     "name": "stdout",
     "output_type": "stream",
     "text": [
      "Reject null hypothesis\n"
     ]
    }
   ],
   "source": [
    "if p < 0.05:\n",
    "    print(\"Reject null hypothesis\")\n",
    "else:\n",
    "    print(\"Fail to reject null hypothesis\")"
   ]
  },
  {
   "cell_type": "code",
   "execution_count": 241,
   "metadata": {},
   "outputs": [],
   "source": [
    "sample1 = np.random.normal(loc=100,scale=10,size=100)\n",
    "sample2 = np.random.normal(loc=100.5,scale=12,size=100)\n",
    "z_stati,p = ztest(sample1,sample2)"
   ]
  },
  {
   "cell_type": "code",
   "execution_count": 242,
   "metadata": {},
   "outputs": [
    {
     "name": "stdout",
     "output_type": "stream",
     "text": [
      "Fail to reject null hypothesis\n"
     ]
    }
   ],
   "source": [
    "if p < 0.05:\n",
    "    print(\"Reject null hypothesis\")\n",
    "else:\n",
    "    print(\"Fail to reject null hypothesis\")"
   ]
  },
  {
   "cell_type": "markdown",
   "metadata": {},
   "source": [
    "**T-test**"
   ]
  },
  {
   "cell_type": "code",
   "execution_count": 243,
   "metadata": {},
   "outputs": [],
   "source": [
    "sample = np.random.normal(loc=100,scale=19,size=25)\n",
    "t_stati,p = stats.ttest_1samp(sample,popmean=102)"
   ]
  },
  {
   "cell_type": "code",
   "execution_count": 244,
   "metadata": {},
   "outputs": [
    {
     "data": {
      "text/plain": [
       "(-0.8593876399181645, 0.39862958317420805)"
      ]
     },
     "execution_count": 244,
     "metadata": {},
     "output_type": "execute_result"
    }
   ],
   "source": [
    "t_stati,p"
   ]
  },
  {
   "cell_type": "code",
   "execution_count": 245,
   "metadata": {},
   "outputs": [
    {
     "name": "stdout",
     "output_type": "stream",
     "text": [
      "Fail to reject null\n"
     ]
    }
   ],
   "source": [
    "if p < 0.05:\n",
    "    print(\"Reject Null hypothesis\")\n",
    "else:\n",
    "    print(\"Fail to reject null\")"
   ]
  },
  {
   "cell_type": "code",
   "execution_count": 246,
   "metadata": {},
   "outputs": [],
   "source": [
    "sample1 = np.random.normal(loc=100,scale=10,size=20)\n",
    "sample1 = np.random.normal(loc=102,scale=10,size=20)\n",
    "t_stati,p = stats.ttest_ind(sample1,sample2)"
   ]
  },
  {
   "cell_type": "code",
   "execution_count": 247,
   "metadata": {},
   "outputs": [
    {
     "data": {
      "text/plain": [
       "(0.19735601435890043, 0.8438885006234793)"
      ]
     },
     "execution_count": 247,
     "metadata": {},
     "output_type": "execute_result"
    }
   ],
   "source": [
    "t_stati,p"
   ]
  },
  {
   "cell_type": "code",
   "execution_count": 248,
   "metadata": {},
   "outputs": [
    {
     "name": "stdout",
     "output_type": "stream",
     "text": [
      "Fail to reject null\n"
     ]
    }
   ],
   "source": [
    "if p < 0.05:\n",
    "    print(\"Reject Null hypothesis\")\n",
    "else:\n",
    "    print(\"Fail to reject null\")"
   ]
  },
  {
   "cell_type": "code",
   "execution_count": 249,
   "metadata": {},
   "outputs": [],
   "source": [
    "before_treatment = np.array([5.7, 6.2, 5.8, 6.1, 6.0])\n",
    "after_treatment = np.array([6.1, 6.4, 6.0, 6.2, 6.3])"
   ]
  },
  {
   "cell_type": "code",
   "execution_count": 250,
   "metadata": {},
   "outputs": [],
   "source": [
    "t_stati,p = stats.ttest_rel(before_treatment,after_treatment)"
   ]
  },
  {
   "cell_type": "code",
   "execution_count": 251,
   "metadata": {},
   "outputs": [
    {
     "data": {
      "text/plain": [
       "(-4.706787243316435, 0.0092616967595143)"
      ]
     },
     "execution_count": 251,
     "metadata": {},
     "output_type": "execute_result"
    }
   ],
   "source": [
    "t_stati,p"
   ]
  },
  {
   "cell_type": "code",
   "execution_count": 252,
   "metadata": {},
   "outputs": [
    {
     "name": "stdout",
     "output_type": "stream",
     "text": [
      "Reject Null hypothesis\n"
     ]
    }
   ],
   "source": [
    "if p < 0.05:\n",
    "    print(\"Reject Null hypothesis\")\n",
    "else:\n",
    "    print(\"Fail to reject null\")"
   ]
  },
  {
   "cell_type": "markdown",
   "metadata": {},
   "source": [
    "**Chi Square test**"
   ]
  },
  {
   "cell_type": "code",
   "execution_count": 253,
   "metadata": {},
   "outputs": [],
   "source": [
    "data = np.array([[30, 15],[15, 25]])"
   ]
  },
  {
   "cell_type": "code",
   "execution_count": 254,
   "metadata": {},
   "outputs": [],
   "source": [
    "stati,p,df,exp = stats.chi2_contingency(data)"
   ]
  },
  {
   "cell_type": "code",
   "execution_count": 255,
   "metadata": {},
   "outputs": [
    {
     "data": {
      "text/plain": [
       "(6.107571373456789,\n",
       " 0.01346039651302516,\n",
       " 1,\n",
       " array([[23.82352941, 21.17647059],\n",
       "        [21.17647059, 18.82352941]]))"
      ]
     },
     "execution_count": 255,
     "metadata": {},
     "output_type": "execute_result"
    }
   ],
   "source": [
    "stati,p,df,exp"
   ]
  },
  {
   "cell_type": "code",
   "execution_count": 256,
   "metadata": {},
   "outputs": [
    {
     "name": "stdout",
     "output_type": "stream",
     "text": [
      "Reject Null hypothesis\n"
     ]
    }
   ],
   "source": [
    "if p < 0.05:\n",
    "    print(\"Reject Null hypothesis\")\n",
    "else:\n",
    "    print(\"Fail to reject null\")"
   ]
  },
  {
   "cell_type": "code",
   "execution_count": 287,
   "metadata": {},
   "outputs": [],
   "source": [
    "observed = np.array([12, 10, 9, 9, 11, 9])\n",
    "\n",
    "expected = np.array([10, 10, 10, 10, 10, 10])"
   ]
  },
  {
   "cell_type": "code",
   "execution_count": 288,
   "metadata": {},
   "outputs": [],
   "source": [
    "stati,p = stats.chisquare(f_obs=observed,f_exp=expected)"
   ]
  },
  {
   "cell_type": "code",
   "execution_count": 289,
   "metadata": {},
   "outputs": [
    {
     "data": {
      "text/plain": [
       "(0.7999999999999999, 0.9770333437569263)"
      ]
     },
     "execution_count": 289,
     "metadata": {},
     "output_type": "execute_result"
    }
   ],
   "source": [
    "stati,p"
   ]
  },
  {
   "cell_type": "code",
   "execution_count": 291,
   "metadata": {},
   "outputs": [
    {
     "name": "stdout",
     "output_type": "stream",
     "text": [
      "Fail to reject null\n"
     ]
    }
   ],
   "source": [
    "if p < 0.05:\n",
    "    print(\"Reject Null hypothesis\")\n",
    "else:\n",
    "    print(\"Fail to reject null\")"
   ]
  }
 ],
 "metadata": {
  "kernelspec": {
   "display_name": "Python 3",
   "language": "python",
   "name": "python3"
  },
  "language_info": {
   "codemirror_mode": {
    "name": "ipython",
    "version": 3
   },
   "file_extension": ".py",
   "mimetype": "text/x-python",
   "name": "python",
   "nbconvert_exporter": "python",
   "pygments_lexer": "ipython3",
   "version": "3.11.3"
  }
 },
 "nbformat": 4,
 "nbformat_minor": 2
}
