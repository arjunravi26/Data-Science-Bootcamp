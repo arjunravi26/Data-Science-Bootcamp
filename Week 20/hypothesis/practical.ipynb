{
 "cells": [
  {
   "cell_type": "code",
   "execution_count": 211,
   "metadata": {},
   "outputs": [],
   "source": [
    "from scipy import stats\n",
    "from statsmodels.stats.weightstats import ztest\n",
    "import numpy as np"
   ]
  },
  {
   "cell_type": "markdown",
   "metadata": {},
   "source": [
    "Z-test"
   ]
  },
  {
   "cell_type": "code",
   "execution_count": 212,
   "metadata": {},
   "outputs": [],
   "source": [
    "sample = np.random.normal(loc=10,scale=5,size= 100)\n",
    "pop_mean = 10.5"
   ]
  },
  {
   "cell_type": "code",
   "execution_count": 213,
   "metadata": {},
   "outputs": [
    {
     "data": {
      "text/plain": [
       "array([ 6.97548843,  9.93147748,  3.69353666, 18.80059572, 22.13187578,\n",
       "        4.66611433, 13.78424099,  8.5261164 ,  5.96599773, 10.65521834,\n",
       "        4.69787447, 11.47460487, 13.45131061, 11.13327283, 10.67114739,\n",
       "        9.93054159, 13.27771895, 12.00521899,  9.21263272,  0.43675305,\n",
       "        6.19957495,  2.82291178,  7.31475311, 23.79770668, 11.4772641 ,\n",
       "       10.13812586,  6.29404191,  9.53512737,  0.76555063, 15.452219  ,\n",
       "        8.60760079,  6.7194709 , 12.50177388, 19.20287742,  7.34292876,\n",
       "        5.40813389,  8.81513934,  7.53971067,  6.89084407,  9.17007159,\n",
       "        5.13411765,  6.06937758,  3.41553491, 13.46559086, 15.09689887,\n",
       "        0.84385827, 17.92970662,  8.11331748,  5.91662909, 13.57571576,\n",
       "       15.9634473 ,  1.68207244, 12.75675267, 11.01990851, 13.09639119,\n",
       "       12.51534551,  7.31694656, 16.30832647, 10.97022931, 13.50109705,\n",
       "        3.48711784, 10.79009491,  6.33373012,  5.08865979,  1.43280282,\n",
       "        9.50581544, 11.11212379,  2.63984046,  1.79010816,  6.31646462,\n",
       "       11.72850117,  8.1571311 ,  7.7501116 , 12.88178167,  3.48801489,\n",
       "       15.03586734, 14.32463188,  2.60282475, 11.54643246, 15.93998002,\n",
       "        6.05017721, 13.72973363,  6.35068611,  8.52183069,  5.12006728,\n",
       "       16.34016125,  6.6529946 , 16.39620633, 14.73692141, 12.39239135,\n",
       "       10.60988433, 12.17048788, 12.84701672, 14.54437593,  3.30785343,\n",
       "        7.16294664, 14.92663193, 18.60935553, 11.88647317, 10.97058141])"
      ]
     },
     "execution_count": 213,
     "metadata": {},
     "output_type": "execute_result"
    }
   ],
   "source": [
    "sample"
   ]
  },
  {
   "cell_type": "code",
   "execution_count": 214,
   "metadata": {},
   "outputs": [],
   "source": [
    "z_stati,p = ztest(sample,value=pop_mean)"
   ]
  },
  {
   "cell_type": "code",
   "execution_count": 215,
   "metadata": {},
   "outputs": [
    {
     "data": {
      "text/plain": [
       "(-1.480021001874686, 0.13886764197070442)"
      ]
     },
     "execution_count": 215,
     "metadata": {},
     "output_type": "execute_result"
    }
   ],
   "source": [
    "z_stati,p"
   ]
  },
  {
   "cell_type": "code",
   "execution_count": 216,
   "metadata": {},
   "outputs": [
    {
     "name": "stdout",
     "output_type": "stream",
     "text": [
      "Fail to reject null hypothesis\n"
     ]
    }
   ],
   "source": [
    "if p < 0.05:\n",
    "    print(\"Reject null hypothesis\")\n",
    "else:\n",
    "    print(\"Fail to reject null hypothesis\")"
   ]
  },
  {
   "cell_type": "code",
   "execution_count": 217,
   "metadata": {},
   "outputs": [],
   "source": [
    "sample1 = np.random.normal(loc=100,scale=10,size=100)\n",
    "sample2 = np.random.normal(loc=100.5,scale=12,size=100)\n",
    "z_stati,p = ztest(sample1,sample2)"
   ]
  },
  {
   "cell_type": "code",
   "execution_count": 218,
   "metadata": {},
   "outputs": [
    {
     "name": "stdout",
     "output_type": "stream",
     "text": [
      "Reject null hypothesis\n"
     ]
    }
   ],
   "source": [
    "if p < 0.05:\n",
    "    print(\"Reject null hypothesis\")\n",
    "else:\n",
    "    print(\"Fail to reject null hypothesis\")"
   ]
  },
  {
   "cell_type": "markdown",
   "metadata": {},
   "source": [
    "**T-test**"
   ]
  },
  {
   "cell_type": "code",
   "execution_count": 205,
   "metadata": {},
   "outputs": [],
   "source": [
    "sample = np.random.normal(loc=100,scale=19,size=25)\n",
    "t_stati,p = stats.ttest_1samp(sample,popmean=102)"
   ]
  },
  {
   "cell_type": "code",
   "execution_count": 206,
   "metadata": {},
   "outputs": [
    {
     "data": {
      "text/plain": [
       "(-1.9333840751509537, 0.06506881461604751)"
      ]
     },
     "execution_count": 206,
     "metadata": {},
     "output_type": "execute_result"
    }
   ],
   "source": [
    "t_stati,p"
   ]
  },
  {
   "cell_type": "code",
   "execution_count": 207,
   "metadata": {},
   "outputs": [
    {
     "name": "stdout",
     "output_type": "stream",
     "text": [
      "Fail to reject null\n"
     ]
    }
   ],
   "source": [
    "if p < 0.05:\n",
    "    print(\"Reject Null hypothesis\")\n",
    "else:\n",
    "    print(\"Fail to reject null\")"
   ]
  },
  {
   "cell_type": "code",
   "execution_count": 208,
   "metadata": {},
   "outputs": [],
   "source": [
    "sample1 = np.random.normal(loc=100,scale=10,size=20)\n",
    "sample1 = np.random.normal(loc=102,scale=10,size=20)\n",
    "t_stati,p = stats.ttest_ind(sample1,sample2)"
   ]
  },
  {
   "cell_type": "code",
   "execution_count": 209,
   "metadata": {},
   "outputs": [
    {
     "data": {
      "text/plain": [
       "(-0.19059169666112696, 0.84917301244157)"
      ]
     },
     "execution_count": 209,
     "metadata": {},
     "output_type": "execute_result"
    }
   ],
   "source": [
    "t_stati,p"
   ]
  },
  {
   "cell_type": "code",
   "execution_count": 210,
   "metadata": {},
   "outputs": [
    {
     "name": "stdout",
     "output_type": "stream",
     "text": [
      "Fail to reject null\n"
     ]
    }
   ],
   "source": [
    "if p < 0.05:\n",
    "    print(\"Reject Null hypothesis\")\n",
    "else:\n",
    "    print(\"Fail to reject null\")"
   ]
  },
  {
   "cell_type": "code",
   "execution_count": 220,
   "metadata": {},
   "outputs": [],
   "source": [
    "before_treatment = np.array([5.7, 6.2, 5.8, 6.1, 6.0])\n",
    "after_treatment = np.array([6.1, 6.4, 6.0, 6.2, 6.3])"
   ]
  },
  {
   "cell_type": "code",
   "execution_count": 222,
   "metadata": {},
   "outputs": [],
   "source": [
    "t_stati,p = stats.ttest_rel(before_treatment,after_treatment)"
   ]
  },
  {
   "cell_type": "code",
   "execution_count": 223,
   "metadata": {},
   "outputs": [
    {
     "data": {
      "text/plain": [
       "(-4.706787243316435, 0.0092616967595143)"
      ]
     },
     "execution_count": 223,
     "metadata": {},
     "output_type": "execute_result"
    }
   ],
   "source": [
    "t_stati,p"
   ]
  },
  {
   "cell_type": "code",
   "execution_count": 224,
   "metadata": {},
   "outputs": [
    {
     "name": "stdout",
     "output_type": "stream",
     "text": [
      "Reject Null hypothesis\n"
     ]
    }
   ],
   "source": [
    "if p < 0.05:\n",
    "    print(\"Reject Null hypothesis\")\n",
    "else:\n",
    "    print(\"Fail to reject null\")"
   ]
  }
 ],
 "metadata": {
  "kernelspec": {
   "display_name": "Python 3",
   "language": "python",
   "name": "python3"
  },
  "language_info": {
   "codemirror_mode": {
    "name": "ipython",
    "version": 3
   },
   "file_extension": ".py",
   "mimetype": "text/x-python",
   "name": "python",
   "nbconvert_exporter": "python",
   "pygments_lexer": "ipython3",
   "version": "3.11.3"
  }
 },
 "nbformat": 4,
 "nbformat_minor": 2
}
