{
 "cells": [
  {
   "cell_type": "code",
   "execution_count": 147,
   "metadata": {},
   "outputs": [],
   "source": [
    "from scipy import stats\n",
    "from statsmodels.stats.weightstats import ztest\n",
    "import numpy as np"
   ]
  },
  {
   "cell_type": "markdown",
   "metadata": {},
   "source": [
    "Z-test"
   ]
  },
  {
   "cell_type": "code",
   "execution_count": 148,
   "metadata": {},
   "outputs": [],
   "source": [
    "sample = np.random.normal(loc=10,scale=5,size= 100)\n",
    "pop_mean = 10.5"
   ]
  },
  {
   "cell_type": "code",
   "execution_count": 149,
   "metadata": {},
   "outputs": [
    {
     "data": {
      "text/plain": [
       "array([ 3.64760993,  2.5167229 , 13.84639131, 13.66587311,  9.54442987,\n",
       "       11.75325386, 15.644862  , 18.77201421,  9.23888597, 21.15257085,\n",
       "        6.92892177, 11.17618437,  2.57639744,  5.5435033 , 12.31103735,\n",
       "       23.66249758,  9.0473293 ,  7.57406179,  2.51405899,  8.35101197,\n",
       "       12.00620573,  4.57369834,  4.16156915, 15.62170765,  1.83539306,\n",
       "        3.00796697,  9.84716096, 12.03074029, 14.81229381,  0.08448545,\n",
       "       12.7481415 ,  3.31677904,  4.8708993 ,  3.3872076 ,  7.363457  ,\n",
       "       12.23608944, 12.23312349, 11.12842013,  6.74983508, 23.74312879,\n",
       "        3.67131128,  1.4171649 , 17.26787436, 10.38295477, 10.87183106,\n",
       "       13.01990143, 18.00775311, 10.41046782, 12.53932325,  6.84182809,\n",
       "       18.23116586,  2.11719151, 13.18051533, 13.47547835,  9.35947043,\n",
       "       -1.65950231,  0.52638851, 14.85819334, 12.23229576, 12.08127245,\n",
       "        0.62743522, 11.06249752,  8.93940018,  6.51173198, 13.49356337,\n",
       "        2.99966487, 15.9502661 ,  6.55702598, 10.18303909, 13.24597081,\n",
       "        5.26677574, 19.11173614, 19.25801373,  6.45394892,  3.48964567,\n",
       "        2.70179585,  9.09761682,  7.4796536 , 14.07394255, 10.32534872,\n",
       "       15.95828006,  8.91257954,  4.70435547,  8.53443256,  1.948485  ,\n",
       "       18.47605898, 13.3045874 , 20.05050722,  7.64613054, -0.91221614,\n",
       "       19.18677547, 10.10414261, 16.38712814,  3.11525513, -0.97138465,\n",
       "       14.47656051, 12.54778479,  3.47083704, 10.24261177, -0.34774351])"
      ]
     },
     "execution_count": 149,
     "metadata": {},
     "output_type": "execute_result"
    }
   ],
   "source": [
    "sample"
   ]
  },
  {
   "cell_type": "code",
   "execution_count": 150,
   "metadata": {},
   "outputs": [],
   "source": [
    "stats,p = ztest(sample,value=pop_mean)"
   ]
  },
  {
   "cell_type": "code",
   "execution_count": 151,
   "metadata": {},
   "outputs": [
    {
     "data": {
      "text/plain": [
       "(-1.5542509114071479, 0.12012457774960558)"
      ]
     },
     "execution_count": 151,
     "metadata": {},
     "output_type": "execute_result"
    }
   ],
   "source": [
    "stats,p"
   ]
  },
  {
   "cell_type": "code",
   "execution_count": 152,
   "metadata": {},
   "outputs": [
    {
     "name": "stdout",
     "output_type": "stream",
     "text": [
      "Fail to reject null hypothesis\n"
     ]
    }
   ],
   "source": [
    "if p < 0.05:\n",
    "    print(\"Reject null hypothesis\")\n",
    "else:\n",
    "    print(\"Fail to reject null hypothesis\")"
   ]
  },
  {
   "cell_type": "code",
   "execution_count": 153,
   "metadata": {},
   "outputs": [],
   "source": [
    "sample1 = np.random.normal(loc=100,scale=10,size=100)\n",
    "sample2 = np.random.normal(loc=100.5,scale=12,size=100)\n",
    "z_stati,p = ztest(sample1,sample2)"
   ]
  },
  {
   "cell_type": "code",
   "execution_count": 154,
   "metadata": {},
   "outputs": [
    {
     "name": "stdout",
     "output_type": "stream",
     "text": [
      "Fail to reject null hypothesis\n"
     ]
    }
   ],
   "source": [
    "if p < 0.05:\n",
    "    print(\"Reject null hypothesis\")\n",
    "else:\n",
    "    print(\"Fail to reject null hypothesis\")"
   ]
  }
 ],
 "metadata": {
  "kernelspec": {
   "display_name": "Python 3",
   "language": "python",
   "name": "python3"
  },
  "language_info": {
   "codemirror_mode": {
    "name": "ipython",
    "version": 3
   },
   "file_extension": ".py",
   "mimetype": "text/x-python",
   "name": "python",
   "nbconvert_exporter": "python",
   "pygments_lexer": "ipython3",
   "version": "3.11.3"
  }
 },
 "nbformat": 4,
 "nbformat_minor": 2
}
