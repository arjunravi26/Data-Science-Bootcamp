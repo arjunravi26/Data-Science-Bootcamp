{
 "cells": [
  {
   "cell_type": "code",
   "execution_count": null,
   "metadata": {},
   "outputs": [],
   "source": [
    "import pandas as pd\n",
    "\n",
    "data = {\n",
    "    'CustomerID': [101, 102, 103, 104, 105, 106],\n",
    "    'Date': ['2025-01-01', '2025-01-03', '2025-01-05', '2025-01-08', '2025-01-10', '2025-01-12'],\n",
    "    'Category': ['Apparel', 'Electronics', 'Apparel', 'Furniture', 'Electronics', 'Apparel'],\n",
    "    'Sub-Category': ['Shirts', 'Phones', 'Pants', 'Tables', 'Laptops', 'Shirts'],\n",
    "    'Amount': [50.0, 300.0, None, 200.0, 700.0, 55.0],\n",
    "    'Quantity': [2, 1, 1, 2, 1, 3]\n",
    "}\n",
    "\n",
    "# Load the data into a pandas DataFrame\n",
    "df = pd.DataFrame(data)\n",
    "\n",
    "# Show the DataFrame\n",
    "print(df)"
   ]
  }
 ],
 "metadata": {
  "kernelspec": {
   "display_name": "Python 3",
   "language": "python",
   "name": "python3"
  },
  "language_info": {
   "name": "python",
   "version": "3.11.3"
  }
 },
 "nbformat": 4,
 "nbformat_minor": 2
}
