{
 "cells": [
  {
   "cell_type": "markdown",
   "metadata": {},
   "source": [
    "# **RandomForest Classifier**"
   ]
  },
  {
   "cell_type": "code",
   "execution_count": 12,
   "metadata": {},
   "outputs": [],
   "source": [
    "from sklearn.ensemble import RandomForestClassifier\n",
    "from sklearn.tree import DecisionTreeClassifier\n",
    "from sklearn import tree\n",
    "from sklearn.metrics import accuracy_score\n",
    "from sklearn.datasets import make_classification\n",
    "from sklearn.model_selection import train_test_split"
   ]
  },
  {
   "cell_type": "code",
   "execution_count": 13,
   "metadata": {},
   "outputs": [],
   "source": [
    "X,y = make_classification(n_classes=3,n_features=10,n_samples=10000,n_informative=5)"
   ]
  },
  {
   "cell_type": "code",
   "execution_count": 14,
   "metadata": {},
   "outputs": [
    {
     "data": {
      "text/plain": [
       "array([[-0.32295536, -0.65280003, -2.50873175, ...,  0.49830974,\n",
       "         0.65635784,  0.34154365],\n",
       "       [ 2.29689335,  2.78258019, -2.67618124, ...,  1.62514446,\n",
       "        -0.54911698,  1.91210194],\n",
       "       [-2.38134501, -0.00473269, -0.76206307, ..., -0.32867472,\n",
       "         1.18640095,  1.02855018],\n",
       "       ...,\n",
       "       [-0.76345628,  0.50273054, -3.23471888, ...,  0.75970774,\n",
       "        -0.30500031,  1.29533411],\n",
       "       [-2.00189421, -0.13209767, -0.84270832, ..., -0.37882011,\n",
       "         0.11593983,  0.35720185],\n",
       "       [ 0.95591585, -1.59843478,  0.11211916, ..., -0.21445897,\n",
       "         0.57146442, -1.45780311]])"
      ]
     },
     "execution_count": 14,
     "metadata": {},
     "output_type": "execute_result"
    }
   ],
   "source": [
    "X"
   ]
  },
  {
   "cell_type": "code",
   "execution_count": 15,
   "metadata": {},
   "outputs": [
    {
     "data": {
      "text/plain": [
       "array([1, 1, 2, ..., 1, 2, 0])"
      ]
     },
     "execution_count": 15,
     "metadata": {},
     "output_type": "execute_result"
    }
   ],
   "source": [
    "y"
   ]
  },
  {
   "cell_type": "code",
   "execution_count": 16,
   "metadata": {},
   "outputs": [],
   "source": [
    "import statistics\n",
    "import numpy as np"
   ]
  },
  {
   "cell_type": "code",
   "execution_count": null,
   "metadata": {},
   "outputs": [],
   "source": []
  },
  {
   "cell_type": "code",
   "execution_count": 39,
   "metadata": {},
   "outputs": [],
   "source": [
    "class RandomForest:\n",
    "    def __init__(self, n_estimators,sample_size):\n",
    "        self.n_estimators = n_estimators\n",
    "        self.sample_size = sample_size\n",
    "        self.tree = []\n",
    "\n",
    "    def fit(self, X, y):\n",
    "        for _ in range(self.n_estimators):\n",
    "            X_train, y_train = self._boostrap(X, y)\n",
    "            clf = DecisionTreeClassifier()\n",
    "            clf.fit(X_train, y_train)\n",
    "            self.tree.append(clf)\n",
    "\n",
    "    def predict(self, X):\n",
    "        predictions = []\n",
    "        y_pred = []\n",
    "        for row in X:\n",
    "            for tree in self.tree:\n",
    "                p = tree.predict([row])\n",
    "                predictions.append(p[0])\n",
    "            y_pred.append(statistics.mode(predictions))\n",
    "        return y_pred\n",
    "    def _boostrap(self,X, y):\n",
    "        n_samples = len(X)\n",
    "        idx = np.random.choice(n_samples,size=self.sample_size)\n",
    "        return X[idx],y[idx]"
   ]
  },
  {
   "cell_type": "code",
   "execution_count": null,
   "metadata": {},
   "outputs": [],
   "source": [
    "clf = RandomForest(100,1000)\n",
    "clf.fit(X,y)\n",
    "y_pred = clf.predict(X)"
   ]
  },
  {
   "cell_type": "code",
   "execution_count": null,
   "metadata": {},
   "outputs": [],
   "source": [
    "accuracy_score(y,y_pred)"
   ]
  },
  {
   "cell_type": "code",
   "execution_count": 1,
   "metadata": {},
   "outputs": [],
   "source": [
    "students = [\n",
    "    {\"name\": \"Alice\", \"math\": 85, \"science\": 90, \"english\": 78},\n",
    "    {\"name\": \"Bob\", \"math\": 92, \"science\": 88, \"english\": 95},\n",
    "    {\"name\": \"Charlie\", \"math\": 70, \"science\": 65, \"english\": 72},\n",
    "    {\"name\": \"Daisy\", \"math\": 95, \"science\": 92, \"english\": 89}\n",
    "]\n"
   ]
  },
  {
   "cell_type": "code",
   "execution_count": 6,
   "metadata": {},
   "outputs": [
    {
     "name": "stdout",
     "output_type": "stream",
     "text": [
      "[{'name': 'Alice', 'math': 85, 'science': 90, 'english': 78, 'avg': 84.33333333333333}, {'name': 'Bob', 'math': 92, 'science': 88, 'english': 95, 'avg': 91.66666666666667}, {'name': 'Charlie', 'math': 70, 'science': 65, 'english': 72, 'avg': 69.0}, {'name': 'Daisy', 'math': 95, 'science': 92, 'english': 89, 'avg': 92.0}]\n"
     ]
    },
    {
     "data": {
      "text/plain": [
       "[{'name': 'Charlie', 'math': 70, 'science': 65, 'english': 72, 'avg': 69.0},\n",
       " {'name': 'Alice',\n",
       "  'math': 85,\n",
       "  'science': 90,\n",
       "  'english': 78,\n",
       "  'avg': 84.33333333333333},\n",
       " {'name': 'Bob',\n",
       "  'math': 92,\n",
       "  'science': 88,\n",
       "  'english': 95,\n",
       "  'avg': 91.66666666666667},\n",
       " {'name': 'Daisy', 'math': 95, 'science': 92, 'english': 89, 'avg': 92.0}]"
      ]
     },
     "execution_count": 6,
     "metadata": {},
     "output_type": "execute_result"
    }
   ],
   "source": [
    "\n",
    "for i in students:\n",
    "    i['avg'] = (i['math'] + i['science'] + i['english']) / 3\n",
    "print(students)\n",
    "sorted(students, key=lambda x: x['avg'])"
   ]
  },
  {
   "cell_type": "code",
   "execution_count": 9,
   "metadata": {},
   "outputs": [
    {
     "data": {
      "text/plain": [
       "{'name': 'Daisy', 'math': 95, 'science': 92, 'english': 89, 'avg': 92.0}"
      ]
     },
     "execution_count": 9,
     "metadata": {},
     "output_type": "execute_result"
    }
   ],
   "source": [
    "max(students,key=lambda x: x['avg'])"
   ]
  },
  {
   "cell_type": "code",
   "execution_count": 11,
   "metadata": {},
   "outputs": [
    {
     "data": {
      "text/plain": [
       "{'Charlie': 69.0,\n",
       " 'Alice': 84.33333333333333,\n",
       " 'Bob': 91.66666666666667,\n",
       " 'Daisy': 92.0}"
      ]
     },
     "execution_count": 11,
     "metadata": {},
     "output_type": "execute_result"
    }
   ],
   "source": [
    "{i['name']:i['avg'] for i in sorted(students, key=lambda x: x['avg'])}"
   ]
  },
  {
   "cell_type": "code",
   "execution_count": 15,
   "metadata": {},
   "outputs": [
    {
     "data": {
      "text/plain": [
       "{'name': 'Daisy', 'avg': 92.0}"
      ]
     },
     "execution_count": 15,
     "metadata": {},
     "output_type": "execute_result"
    }
   ],
   "source": [
    "{i:v for i,v in max(students,key=lambda x: x['avg']).items() if i=='name' or i == 'avg'}"
   ]
  }
 ],
 "metadata": {
  "kernelspec": {
   "display_name": "Python 3",
   "language": "python",
   "name": "python3"
  },
  "language_info": {
   "codemirror_mode": {
    "name": "ipython",
    "version": 3
   },
   "file_extension": ".py",
   "mimetype": "text/x-python",
   "name": "python",
   "nbconvert_exporter": "python",
   "pygments_lexer": "ipython3",
   "version": "3.11.3"
  }
 },
 "nbformat": 4,
 "nbformat_minor": 2
}
