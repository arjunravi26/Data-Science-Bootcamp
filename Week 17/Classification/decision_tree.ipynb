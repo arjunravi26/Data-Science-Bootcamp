{
 "cells": [
  {
   "cell_type": "markdown",
   "metadata": {},
   "source": [
    "# **Decision Tree**"
   ]
  },
  {
   "cell_type": "markdown",
   "metadata": {},
   "source": [
    "## Theory"
   ]
  },
  {
   "cell_type": "markdown",
   "metadata": {},
   "source": [
    "* A decision tree is a flowchart-like structure used to make decisions or predictions.\n",
    "* It systematically partitions data based on feature values to arrive at predictive outcomes.\n",
    "* It operates by recursively splitting the data into subsets, each defined by specific feature thresholds, until terminal nodes—called leaves—are reached, which represent the predicted outputs. "
   ]
  },
  {
   "cell_type": "markdown",
   "metadata": {},
   "source": [
    "**How Decision Tree Works?** <br>\n",
    "At a high level, Decision Trees function through a process known as recursive binary splitting (or multi-way splitting, depending on the implementation):\n",
    "* Node Splitting: Starting at the root, the algorithm selects a feature and a threshold that maximizes a predefined metric (e.g., Information Gain or Gini Impurity).\n",
    "\n",
    "* Partitioning Data: Based on the selected threshold, data is divided into subsets. Each subset becomes a child node of the current node.\n",
    "\n",
    "* Stopping Criterion: The process continues recursively until certain conditions are met, such as a maximum depth, minimum number of samples per leaf, or zero improvement in the splitting metric.\n",
    "\n",
    "* Leaf Assignment: Terminal nodes are assigned predicted values based on the majority class (classification) or mean/median (regression) of the samples within the node."
   ]
  },
  {
   "cell_type": "markdown",
   "metadata": {},
   "source": [
    "**Core Idea**\n",
    "* Interpretability: Decision Trees are inherently interpretable. Their hierarchical structure allows us to trace the path of decisions, making them especially useful for scenarios where model transparency is critical.\n",
    "\n",
    "* Non-linear Decision Boundaries: By partitioning data at various thresholds, Decision Trees can model complex, non-linear relationships between features and the target variable.\n",
    "\n",
    "* Flexibility: They accommodate both categorical and continuous input features, and can adapt to various levels of complexity by adjusting their depth."
   ]
  },
  {
   "cell_type": "markdown",
   "metadata": {},
   "source": [
    "**Advantages**\n",
    "* Simplicity: Decision Trees require minimal data preprocessing and are intuitive to construct.\n",
    "\n",
    "* Explainability: The step-by-step decision-making process can be visualized and understood by stakeholders.\n",
    "\n",
    "* Scalability: They perform well on small to medium-sized datasets and can be extended through ensembles like Random Forests."
   ]
  },
  {
   "cell_type": "markdown",
   "metadata": {},
   "source": [
    "**Disadvantage**\n",
    "* Overfitting: Trees are prone to overfitting, especially when grown to large depths without pruning.\n",
    "\n",
    "* Instability: Small changes in the data can result in significantly different tree structures.\n",
    "\n",
    "* Bias: Trees may favor features with more levels (e.g., numerical over categorical)."
   ]
  },
  {
   "cell_type": "markdown",
   "metadata": {},
   "source": [
    "## Implementation"
   ]
  },
  {
   "cell_type": "code",
   "execution_count": 76,
   "metadata": {},
   "outputs": [],
   "source": [
    "import numpy as np\n",
    "import pandas as pd\n",
    "from sklearn import tree"
   ]
  },
  {
   "cell_type": "code",
   "execution_count": 86,
   "metadata": {},
   "outputs": [],
   "source": [
    "import numpy as np\n",
    "import pandas as pd\n",
    "\n",
    "# Function to calculate entropy\n",
    "def calculate_entropy(target):\n",
    "    values, counts = np.unique(target, return_counts=True)\n",
    "    probabilities = counts / len(target)\n",
    "    return -np.sum(probabilities * np.log2(probabilities))\n",
    "\n",
    "# Function to calculate information gain\n",
    "def information_gain(data, feature, target):\n",
    "    # Total entropy of the target\n",
    "    total_entropy = calculate_entropy(data[target])\n",
    "    \n",
    "    # Calculate weighted entropy of splits\n",
    "    values, counts = np.unique(data[feature], return_counts=True)\n",
    "    weighted_entropy = np.sum(\n",
    "        [(counts[i] / len(data)) * calculate_entropy(data[data[feature] == values[i]][target])\n",
    "        for i in range(len(values))]\n",
    "    )\n",
    "    \n",
    "    # Information Gain\n",
    "    return total_entropy - weighted_entropy\n",
    "\n",
    "# Decision Tree Node\n",
    "class DecisionTreeNode:\n",
    "    def __init__(self, feature=None, threshold=None, left=None, right=None, value=None):\n",
    "        self.feature = feature\n",
    "        self.threshold = threshold\n",
    "        self.left = left\n",
    "        self.right = right\n",
    "        self.value = value\n",
    "\n",
    "# Decision Tree Classifier\n",
    "class DecisionTreeClassifier:\n",
    "    def __init__(self, min_samples_split=2, max_depth=None):\n",
    "        self.min_samples_split = min_samples_split\n",
    "        self.max_depth = max_depth\n",
    "        self.tree = None\n",
    "\n",
    "    def fit(self, data, target):\n",
    "        self.features = [col for col in data.columns if col != target]\n",
    "        self.target = target\n",
    "        self.tree = self._build_tree(data)\n",
    "\n",
    "    def _build_tree(self, data, depth=0):\n",
    "        # If stopping criteria is met, return a leaf node\n",
    "        if len(data) < self.min_samples_split or (self.max_depth and depth >= self.max_depth):\n",
    "            return DecisionTreeNode(value=data[self.target].mode()[0])\n",
    "        \n",
    "        # Find the best split\n",
    "        best_feature, best_gain = None, 0\n",
    "        for feature in self.features:\n",
    "            gain = information_gain(data, feature, self.target)\n",
    "            if gain > best_gain:\n",
    "                best_feature, best_gain = feature, gain\n",
    "        \n",
    "        # If no good split is found, return a leaf node\n",
    "        if best_gain == 0:\n",
    "            return DecisionTreeNode(value=data[self.target].mode()[0])\n",
    "        \n",
    "        # Split data and build subtrees\n",
    "        left_split = data[data[best_feature] == data[best_feature].unique()[0]]\n",
    "        right_split = data[data[best_feature] != data[best_feature].unique()[0]]\n",
    "        \n",
    "        left_subtree = self._build_tree(left_split, depth + 1)\n",
    "        right_subtree = self._build_tree(right_split, depth + 1)\n",
    "        \n",
    "        return DecisionTreeNode(feature=best_feature, left=left_subtree, right=right_subtree)\n",
    "\n",
    "    def predict_instance(self, instance, tree):\n",
    "        # If leaf node, return value\n",
    "        if tree.value is not None:\n",
    "            return tree.value\n",
    "        \n",
    "        # Traverse left or right subtree\n",
    "        if instance[tree.feature] == instance[tree.feature].unique()[0]:\n",
    "            return self.predict_instance(instance, tree.left)\n",
    "        else:\n",
    "            return self.predict_instance(instance, tree.right)\n",
    "\n",
    "    def predict(self, data):\n",
    "        return data.apply(lambda row: self.predict_instance(row, self.tree), axis=1)\n",
    "\n",
    "data = pd.DataFrame({\n",
    "    \"Age\": [25, 45, 35, 50, 23, 30, 40, 38, 33, 29],\n",
    "    \"Income\": [50000, 100000, 75000, 120000, 45000, 55000, 95000, 85000, 78000, 60000],\n",
    "    \"Previous_Purchase\": [\"Yes\", \"No\", \"Yes\", \"No\", \"No\", \"Yes\", \"Yes\", \"Yes\", \"No\", \"Yes\"],\n",
    "    \"Buy_Product\": [\"Yes\", \"No\", \"Yes\", \"No\", \"No\", \"Yes\", \"Yes\", \"Yes\", \"No\", \"Yes\"]\n",
    "})\n",
    "model = DecisionTreeClassifier()\n",
    "data[['Age','Income','Previous_Purchase']]\n",
    "model.fit(data,'Buy_Product')\n",
    "# # Predict on the data\n",
    "# predictions = model.predict(data[['Age', 'Income', 'Previous_Purchase']])\n",
    "# print(predictions)"
   ]
  },
  {
   "cell_type": "code",
   "execution_count": 88,
   "metadata": {},
   "outputs": [
    {
     "data": {
      "image/png": "[encoded data removed]",
      "text/plain": [
       "<Figure size 1200x800 with 1 Axes>"
      ]
     },
     "metadata": {},
     "output_type": "display_data"
    }
   ],
   "source": [
    "from sklearn.tree import DecisionTreeClassifier, plot_tree\n",
    "import matplotlib.pyplot as plt\n",
    "\n",
    "# Sample data\n",
    "data = pd.DataFrame({\n",
    "    \"Age\": [25, 45, 35, 50, 23, 30, 40, 38, 33, 29],\n",
    "    \"Income\": [50000, 100000, 75000, 120000, 45000, 55000, 95000, 85000, 78000, 60000],\n",
    "    \"Previous_Purchase\": [\"Yes\", \"No\", \"Yes\", \"No\", \"No\", \"Yes\", \"Yes\", \"Yes\", \"No\", \"Yes\"],\n",
    "    \"Buy_Product\": [\"Yes\", \"No\", \"Yes\", \"No\", \"No\", \"Yes\", \"Yes\", \"Yes\", \"No\", \"Yes\"]\n",
    "})\n",
    "\n",
    "# Convert categorical columns to numeric values\n",
    "data[\"Previous_Purchase\"] = data[\"Previous_Purchase\"].map({\"Yes\": 1, \"No\": 0})\n",
    "data[\"Buy_Product\"] = data[\"Buy_Product\"].map({\"Yes\": 1, \"No\": 0})\n",
    "\n",
    "# Separate features and target\n",
    "X = data[['Age', 'Income', 'Previous_Purchase']]\n",
    "y = data['Buy_Product']\n",
    "\n",
    "# Initialize and fit the DecisionTreeClassifier\n",
    "clf = DecisionTreeClassifier()\n",
    "clf.fit(X, y)\n",
    "\n",
    "# Plot the decision tree\n",
    "plt.figure(figsize=(12, 8))\n",
    "plot_tree(clf, filled=True, feature_names=X.columns, class_names=[\"No\", \"Yes\"])\n",
    "plt.show()\n"
   ]
  },
  {
   "cell_type": "code",
   "execution_count": 29,
   "metadata": {},
   "outputs": [
    {
     "name": "stdout",
     "output_type": "stream",
     "text": [
      "['No' 'Yes'] [5 3]\n",
      "[0.625 0.375]\n",
      "[0.625 0.375] [-0.67807191 -1.4150375 ]\n",
      "Entropy (NumPy): 0.954434002924965\n"
     ]
    }
   ],
   "source": [
    "def calculate_entropy(target):\n",
    "    values, counts = np.unique(target, return_counts=True)\n",
    "    print(values, counts)\n",
    "    probabilities = counts / len(target)\n",
    "    print(probabilities)\n",
    "    print(probabilities, np.log2(probabilities))\n",
    "    return -np.sum(probabilities * np.log2(probabilities))\n",
    "\n",
    "\n",
    "target_data = [\"Yes\", \"No\", \"Yes\", \"No\", \"No\", \"Yes\", \"No\", \"No\"]\n",
    "print(\"Entropy (NumPy):\", calculate_entropy(target_data))"
   ]
  },
  {
   "cell_type": "code",
   "execution_count": 59,
   "metadata": {},
   "outputs": [
    {
     "name": "stdout",
     "output_type": "stream",
     "text": [
      "Entropy (NumPy): 0.954434002924965\n"
     ]
    }
   ],
   "source": [
    "def calculate_entropy(target):\n",
    "    values,counts = np.unique(target,return_counts=True)\n",
    "    length = len(target)\n",
    "    probabilities = counts / length\n",
    "    entropy = -np.sum(probabilities * np.log2(probabilities))\n",
    "    return entropy\n"
   ]
  },
  {
   "cell_type": "code",
   "execution_count": 30,
   "metadata": {},
   "outputs": [],
   "source": [
    "df = pd.DataFrame({\n",
    "    \"Weather\": [\"Sunny\", \"Sunny\", \"Overcast\", \"Rainy\", \"Rainy\", \"Rainy\", \"Overcast\", \"Sunny\", \"Sunny\", \"Rainy\"],\n",
    "    \"Play\": [\"No\", \"No\", \"Yes\", \"Yes\", \"Yes\", \"No\", \"Yes\", \"No\", \"Yes\", \"Yes\"]\n",
    "})"
   ]
  },
  {
   "cell_type": "code",
   "execution_count": 46,
   "metadata": {},
   "outputs": [
    {
     "data": {
      "text/html": [
       "<div>\n",
       "<style scoped>\n",
       "    .dataframe tbody tr th:only-of-type {\n",
       "        vertical-align: middle;\n",
       "    }\n",
       "\n",
       "    .dataframe tbody tr th {\n",
       "        vertical-align: top;\n",
       "    }\n",
       "\n",
       "    .dataframe thead th {\n",
       "        text-align: right;\n",
       "    }\n",
       "</style>\n",
       "<table border=\"1\" class=\"dataframe\">\n",
       "  <thead>\n",
       "    <tr style=\"text-align: right;\">\n",
       "      <th></th>\n",
       "      <th>Weather</th>\n",
       "      <th>Play</th>\n",
       "    </tr>\n",
       "  </thead>\n",
       "  <tbody>\n",
       "    <tr>\n",
       "      <th>0</th>\n",
       "      <td>Sunny</td>\n",
       "      <td>No</td>\n",
       "    </tr>\n",
       "    <tr>\n",
       "      <th>1</th>\n",
       "      <td>Sunny</td>\n",
       "      <td>No</td>\n",
       "    </tr>\n",
       "    <tr>\n",
       "      <th>2</th>\n",
       "      <td>Overcast</td>\n",
       "      <td>Yes</td>\n",
       "    </tr>\n",
       "    <tr>\n",
       "      <th>3</th>\n",
       "      <td>Rainy</td>\n",
       "      <td>Yes</td>\n",
       "    </tr>\n",
       "    <tr>\n",
       "      <th>4</th>\n",
       "      <td>Rainy</td>\n",
       "      <td>Yes</td>\n",
       "    </tr>\n",
       "    <tr>\n",
       "      <th>5</th>\n",
       "      <td>Rainy</td>\n",
       "      <td>No</td>\n",
       "    </tr>\n",
       "    <tr>\n",
       "      <th>6</th>\n",
       "      <td>Overcast</td>\n",
       "      <td>Yes</td>\n",
       "    </tr>\n",
       "    <tr>\n",
       "      <th>7</th>\n",
       "      <td>Sunny</td>\n",
       "      <td>No</td>\n",
       "    </tr>\n",
       "    <tr>\n",
       "      <th>8</th>\n",
       "      <td>Sunny</td>\n",
       "      <td>Yes</td>\n",
       "    </tr>\n",
       "    <tr>\n",
       "      <th>9</th>\n",
       "      <td>Rainy</td>\n",
       "      <td>Yes</td>\n",
       "    </tr>\n",
       "  </tbody>\n",
       "</table>\n",
       "</div>"
      ],
      "text/plain": [
       "    Weather Play\n",
       "0     Sunny   No\n",
       "1     Sunny   No\n",
       "2  Overcast  Yes\n",
       "3     Rainy  Yes\n",
       "4     Rainy  Yes\n",
       "5     Rainy   No\n",
       "6  Overcast  Yes\n",
       "7     Sunny   No\n",
       "8     Sunny  Yes\n",
       "9     Rainy  Yes"
      ]
     },
     "execution_count": 46,
     "metadata": {},
     "output_type": "execute_result"
    }
   ],
   "source": [
    "df"
   ]
  },
  {
   "cell_type": "code",
   "execution_count": 32,
   "metadata": {},
   "outputs": [
    {
     "data": {
      "text/html": [
       "<div>\n",
       "<style scoped>\n",
       "    .dataframe tbody tr th:only-of-type {\n",
       "        vertical-align: middle;\n",
       "    }\n",
       "\n",
       "    .dataframe tbody tr th {\n",
       "        vertical-align: top;\n",
       "    }\n",
       "\n",
       "    .dataframe thead th {\n",
       "        text-align: right;\n",
       "    }\n",
       "</style>\n",
       "<table border=\"1\" class=\"dataframe\">\n",
       "  <thead>\n",
       "    <tr style=\"text-align: right;\">\n",
       "      <th></th>\n",
       "      <th>Weather</th>\n",
       "      <th>Play</th>\n",
       "    </tr>\n",
       "  </thead>\n",
       "  <tbody>\n",
       "    <tr>\n",
       "      <th>0</th>\n",
       "      <td>Sunny</td>\n",
       "      <td>No</td>\n",
       "    </tr>\n",
       "    <tr>\n",
       "      <th>1</th>\n",
       "      <td>Sunny</td>\n",
       "      <td>No</td>\n",
       "    </tr>\n",
       "    <tr>\n",
       "      <th>7</th>\n",
       "      <td>Sunny</td>\n",
       "      <td>No</td>\n",
       "    </tr>\n",
       "    <tr>\n",
       "      <th>8</th>\n",
       "      <td>Sunny</td>\n",
       "      <td>Yes</td>\n",
       "    </tr>\n",
       "  </tbody>\n",
       "</table>\n",
       "</div>"
      ],
      "text/plain": [
       "  Weather Play\n",
       "0   Sunny   No\n",
       "1   Sunny   No\n",
       "7   Sunny   No\n",
       "8   Sunny  Yes"
      ]
     },
     "execution_count": 32,
     "metadata": {},
     "output_type": "execute_result"
    }
   ],
   "source": [
    "df[df['Weather'] == 'Sunny']"
   ]
  },
  {
   "cell_type": "code",
   "execution_count": 75,
   "metadata": {},
   "outputs": [
    {
     "name": "stdout",
     "output_type": "stream",
     "text": [
      "0.6490224995673063\n"
     ]
    },
    {
     "data": {
      "text/plain": [
       "0.3219280948873623"
      ]
     },
     "execution_count": 75,
     "metadata": {},
     "output_type": "execute_result"
    }
   ],
   "source": [
    "def information_gain(data, target, col):\n",
    "    total_entropy = calculate_entropy(data[target])\n",
    "    values, counts = np.unique(data[col], return_counts=True)\n",
    "    weighted_entropy = np.sum([(counts[i] / len(data)) * calculate_entropy(\n",
    "        data[data[col] == values[i]][target]) for i in range(len(values))])\n",
    "    print(weighted_entropy)\n",
    "    return total_entropy - weighted_entropy\n",
    "\n",
    "\n",
    "information_gain(df, 'Play', 'Weather')"
   ]
  }
 ],
 "metadata": {
  "kernelspec": {
   "display_name": "Python 3",
   "language": "python",
   "name": "python3"
  },
  "language_info": {
   "codemirror_mode": {
    "name": "ipython",
    "version": 3
   },
   "file_extension": ".py",
   "mimetype": "text/x-python",
   "name": "python",
   "nbconvert_exporter": "python",
   "pygments_lexer": "ipython3",
   "version": "3.11.3"
  }
 },
 "nbformat": 4,
 "nbformat_minor": 2
}
