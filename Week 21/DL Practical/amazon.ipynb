{
 "cells": [
  {
   "cell_type": "markdown",
   "metadata": {},
   "source": [
    "Amazon Customer Data"
   ]
  },
  {
   "cell_type": "code",
   "execution_count": 1,
   "metadata": {},
   "outputs": [],
   "source": [
    "from zipfile import ZipFile\n",
    "import pandas as pd"
   ]
  },
  {
   "cell_type": "code",
   "execution_count": 2,
   "metadata": {},
   "outputs": [],
   "source": [
    "with ZipFile('amazon-employee-access-challenge.zip') as zip:\n",
    "    zip.extractall()"
   ]
  },
  {
   "cell_type": "code",
   "execution_count": 3,
   "metadata": {},
   "outputs": [],
   "source": [
    "df = pd.read_csv('train.csv')"
   ]
  },
  {
   "cell_type": "code",
   "execution_count": 4,
   "metadata": {},
   "outputs": [
    {
     "data": {
      "text/html": [
       "<div>\n",
       "<style scoped>\n",
       "    .dataframe tbody tr th:only-of-type {\n",
       "        vertical-align: middle;\n",
       "    }\n",
       "\n",
       "    .dataframe tbody tr th {\n",
       "        vertical-align: top;\n",
       "    }\n",
       "\n",
       "    .dataframe thead th {\n",
       "        text-align: right;\n",
       "    }\n",
       "</style>\n",
       "<table border=\"1\" class=\"dataframe\">\n",
       "  <thead>\n",
       "    <tr style=\"text-align: right;\">\n",
       "      <th></th>\n",
       "      <th>ACTION</th>\n",
       "      <th>RESOURCE</th>\n",
       "      <th>MGR_ID</th>\n",
       "      <th>ROLE_ROLLUP_1</th>\n",
       "      <th>ROLE_ROLLUP_2</th>\n",
       "      <th>ROLE_DEPTNAME</th>\n",
       "      <th>ROLE_TITLE</th>\n",
       "      <th>ROLE_FAMILY_DESC</th>\n",
       "      <th>ROLE_FAMILY</th>\n",
       "      <th>ROLE_CODE</th>\n",
       "    </tr>\n",
       "  </thead>\n",
       "  <tbody>\n",
       "    <tr>\n",
       "      <th>0</th>\n",
       "      <td>1</td>\n",
       "      <td>39353</td>\n",
       "      <td>85475</td>\n",
       "      <td>117961</td>\n",
       "      <td>118300</td>\n",
       "      <td>123472</td>\n",
       "      <td>117905</td>\n",
       "      <td>117906</td>\n",
       "      <td>290919</td>\n",
       "      <td>117908</td>\n",
       "    </tr>\n",
       "    <tr>\n",
       "      <th>1</th>\n",
       "      <td>1</td>\n",
       "      <td>17183</td>\n",
       "      <td>1540</td>\n",
       "      <td>117961</td>\n",
       "      <td>118343</td>\n",
       "      <td>123125</td>\n",
       "      <td>118536</td>\n",
       "      <td>118536</td>\n",
       "      <td>308574</td>\n",
       "      <td>118539</td>\n",
       "    </tr>\n",
       "    <tr>\n",
       "      <th>2</th>\n",
       "      <td>1</td>\n",
       "      <td>36724</td>\n",
       "      <td>14457</td>\n",
       "      <td>118219</td>\n",
       "      <td>118220</td>\n",
       "      <td>117884</td>\n",
       "      <td>117879</td>\n",
       "      <td>267952</td>\n",
       "      <td>19721</td>\n",
       "      <td>117880</td>\n",
       "    </tr>\n",
       "    <tr>\n",
       "      <th>3</th>\n",
       "      <td>1</td>\n",
       "      <td>36135</td>\n",
       "      <td>5396</td>\n",
       "      <td>117961</td>\n",
       "      <td>118343</td>\n",
       "      <td>119993</td>\n",
       "      <td>118321</td>\n",
       "      <td>240983</td>\n",
       "      <td>290919</td>\n",
       "      <td>118322</td>\n",
       "    </tr>\n",
       "    <tr>\n",
       "      <th>4</th>\n",
       "      <td>1</td>\n",
       "      <td>42680</td>\n",
       "      <td>5905</td>\n",
       "      <td>117929</td>\n",
       "      <td>117930</td>\n",
       "      <td>119569</td>\n",
       "      <td>119323</td>\n",
       "      <td>123932</td>\n",
       "      <td>19793</td>\n",
       "      <td>119325</td>\n",
       "    </tr>\n",
       "    <tr>\n",
       "      <th>...</th>\n",
       "      <td>...</td>\n",
       "      <td>...</td>\n",
       "      <td>...</td>\n",
       "      <td>...</td>\n",
       "      <td>...</td>\n",
       "      <td>...</td>\n",
       "      <td>...</td>\n",
       "      <td>...</td>\n",
       "      <td>...</td>\n",
       "      <td>...</td>\n",
       "    </tr>\n",
       "    <tr>\n",
       "      <th>32764</th>\n",
       "      <td>1</td>\n",
       "      <td>23497</td>\n",
       "      <td>16971</td>\n",
       "      <td>117961</td>\n",
       "      <td>118300</td>\n",
       "      <td>119993</td>\n",
       "      <td>118321</td>\n",
       "      <td>240983</td>\n",
       "      <td>290919</td>\n",
       "      <td>118322</td>\n",
       "    </tr>\n",
       "    <tr>\n",
       "      <th>32765</th>\n",
       "      <td>1</td>\n",
       "      <td>25139</td>\n",
       "      <td>311198</td>\n",
       "      <td>91261</td>\n",
       "      <td>118026</td>\n",
       "      <td>122392</td>\n",
       "      <td>121143</td>\n",
       "      <td>173805</td>\n",
       "      <td>249618</td>\n",
       "      <td>121145</td>\n",
       "    </tr>\n",
       "    <tr>\n",
       "      <th>32766</th>\n",
       "      <td>1</td>\n",
       "      <td>34924</td>\n",
       "      <td>28805</td>\n",
       "      <td>117961</td>\n",
       "      <td>118327</td>\n",
       "      <td>120299</td>\n",
       "      <td>124922</td>\n",
       "      <td>152038</td>\n",
       "      <td>118612</td>\n",
       "      <td>124924</td>\n",
       "    </tr>\n",
       "    <tr>\n",
       "      <th>32767</th>\n",
       "      <td>1</td>\n",
       "      <td>80574</td>\n",
       "      <td>55643</td>\n",
       "      <td>118256</td>\n",
       "      <td>118257</td>\n",
       "      <td>117945</td>\n",
       "      <td>280788</td>\n",
       "      <td>280788</td>\n",
       "      <td>292795</td>\n",
       "      <td>119082</td>\n",
       "    </tr>\n",
       "    <tr>\n",
       "      <th>32768</th>\n",
       "      <td>1</td>\n",
       "      <td>14354</td>\n",
       "      <td>59575</td>\n",
       "      <td>117916</td>\n",
       "      <td>118150</td>\n",
       "      <td>117920</td>\n",
       "      <td>118568</td>\n",
       "      <td>122142</td>\n",
       "      <td>19721</td>\n",
       "      <td>118570</td>\n",
       "    </tr>\n",
       "  </tbody>\n",
       "</table>\n",
       "<p>32769 rows × 10 columns</p>\n",
       "</div>"
      ],
      "text/plain": [
       "       ACTION  RESOURCE  MGR_ID  ROLE_ROLLUP_1  ROLE_ROLLUP_2  ROLE_DEPTNAME  \\\n",
       "0           1     39353   85475         117961         118300         123472   \n",
       "1           1     17183    1540         117961         118343         123125   \n",
       "2           1     36724   14457         118219         118220         117884   \n",
       "3           1     36135    5396         117961         118343         119993   \n",
       "4           1     42680    5905         117929         117930         119569   \n",
       "...       ...       ...     ...            ...            ...            ...   \n",
       "32764       1     23497   16971         117961         118300         119993   \n",
       "32765       1     25139  311198          91261         118026         122392   \n",
       "32766       1     34924   28805         117961         118327         120299   \n",
       "32767       1     80574   55643         118256         118257         117945   \n",
       "32768       1     14354   59575         117916         118150         117920   \n",
       "\n",
       "       ROLE_TITLE  ROLE_FAMILY_DESC  ROLE_FAMILY  ROLE_CODE  \n",
       "0          117905            117906       290919     117908  \n",
       "1          118536            118536       308574     118539  \n",
       "2          117879            267952        19721     117880  \n",
       "3          118321            240983       290919     118322  \n",
       "4          119323            123932        19793     119325  \n",
       "...           ...               ...          ...        ...  \n",
       "32764      118321            240983       290919     118322  \n",
       "32765      121143            173805       249618     121145  \n",
       "32766      124922            152038       118612     124924  \n",
       "32767      280788            280788       292795     119082  \n",
       "32768      118568            122142        19721     118570  \n",
       "\n",
       "[32769 rows x 10 columns]"
      ]
     },
     "execution_count": 4,
     "metadata": {},
     "output_type": "execute_result"
    }
   ],
   "source": [
    "df"
   ]
  },
  {
   "cell_type": "code",
   "execution_count": 5,
   "metadata": {},
   "outputs": [],
   "source": [
    "from sklearn.preprocessing import LabelEncoder"
   ]
  },
  {
   "cell_type": "code",
   "execution_count": 6,
   "metadata": {},
   "outputs": [],
   "source": [
    "cols = df.drop('ACTION', axis=1).columns"
   ]
  },
  {
   "cell_type": "code",
   "execution_count": 7,
   "metadata": {},
   "outputs": [],
   "source": [
    "encoders = [LabelEncoder() for i in cols]"
   ]
  },
  {
   "cell_type": "code",
   "execution_count": 8,
   "metadata": {},
   "outputs": [],
   "source": [
    "def label_encoder(n):\n",
    "    encoded_data = encoders[n].fit_transform(df[cols[n]])\n",
    "    return encoded_data"
   ]
  },
  {
   "cell_type": "code",
   "execution_count": 9,
   "metadata": {},
   "outputs": [],
   "source": [
    "for i in range(len(cols)):\n",
    "    df[cols[i]] = label_encoder(i)"
   ]
  },
  {
   "cell_type": "code",
   "execution_count": 10,
   "metadata": {},
   "outputs": [
    {
     "data": {
      "text/plain": [
       "ACTION\n",
       "1    30872\n",
       "0     1897\n",
       "Name: count, dtype: int64"
      ]
     },
     "execution_count": 10,
     "metadata": {},
     "output_type": "execute_result"
    }
   ],
   "source": [
    "df['ACTION'].value_counts()"
   ]
  },
  {
   "cell_type": "code",
   "execution_count": 11,
   "metadata": {},
   "outputs": [
    {
     "data": {
      "text/plain": [
       "ACTION              int64\n",
       "RESOURCE            int64\n",
       "MGR_ID              int64\n",
       "ROLE_ROLLUP_1       int64\n",
       "ROLE_ROLLUP_2       int64\n",
       "ROLE_DEPTNAME       int64\n",
       "ROLE_TITLE          int64\n",
       "ROLE_FAMILY_DESC    int64\n",
       "ROLE_FAMILY         int64\n",
       "ROLE_CODE           int64\n",
       "dtype: object"
      ]
     },
     "execution_count": 11,
     "metadata": {},
     "output_type": "execute_result"
    }
   ],
   "source": [
    "df.dtypes"
   ]
  },
  {
   "cell_type": "code",
   "execution_count": 12,
   "metadata": {},
   "outputs": [],
   "source": [
    "def frequency_encoder(col):\n",
    "    frequency = df[col].value_counts().reset_index()\n",
    "    return pd.merge(df[[col]], frequency, how='left', on=col).iloc[:, -1].values"
   ]
  },
  {
   "cell_type": "code",
   "execution_count": 13,
   "metadata": {},
   "outputs": [
    {
     "data": {
      "text/plain": [
       "ROLE_ROLLUP_2\n",
       "64     4424\n",
       "68     3945\n",
       "66     2641\n",
       "58     2547\n",
       "71     1796\n",
       "       ... \n",
       "164       1\n",
       "175       1\n",
       "151       1\n",
       "161       1\n",
       "166       1\n",
       "Name: count, Length: 177, dtype: int64"
      ]
     },
     "execution_count": 13,
     "metadata": {},
     "output_type": "execute_result"
    }
   ],
   "source": [
    "df['ROLE_ROLLUP_2'].value_counts()"
   ]
  },
  {
   "cell_type": "code",
   "execution_count": 14,
   "metadata": {},
   "outputs": [],
   "source": [
    "for col in cols:\n",
    "    df[col+'_counts'] = frequency_encoder(col)"
   ]
  },
  {
   "cell_type": "code",
   "execution_count": 15,
   "metadata": {},
   "outputs": [
    {
     "data": {
      "text/html": [
       "<div>\n",
       "<style scoped>\n",
       "    .dataframe tbody tr th:only-of-type {\n",
       "        vertical-align: middle;\n",
       "    }\n",
       "\n",
       "    .dataframe tbody tr th {\n",
       "        vertical-align: top;\n",
       "    }\n",
       "\n",
       "    .dataframe thead th {\n",
       "        text-align: right;\n",
       "    }\n",
       "</style>\n",
       "<table border=\"1\" class=\"dataframe\">\n",
       "  <thead>\n",
       "    <tr style=\"text-align: right;\">\n",
       "      <th></th>\n",
       "      <th>ACTION</th>\n",
       "      <th>RESOURCE</th>\n",
       "      <th>MGR_ID</th>\n",
       "      <th>ROLE_ROLLUP_1</th>\n",
       "      <th>ROLE_ROLLUP_2</th>\n",
       "      <th>ROLE_DEPTNAME</th>\n",
       "      <th>ROLE_TITLE</th>\n",
       "      <th>ROLE_FAMILY_DESC</th>\n",
       "      <th>ROLE_FAMILY</th>\n",
       "      <th>ROLE_CODE</th>\n",
       "      <th>RESOURCE_counts</th>\n",
       "      <th>MGR_ID_counts</th>\n",
       "      <th>ROLE_ROLLUP_1_counts</th>\n",
       "      <th>ROLE_ROLLUP_2_counts</th>\n",
       "      <th>ROLE_DEPTNAME_counts</th>\n",
       "      <th>ROLE_TITLE_counts</th>\n",
       "      <th>ROLE_FAMILY_DESC_counts</th>\n",
       "      <th>ROLE_FAMILY_counts</th>\n",
       "      <th>ROLE_CODE_counts</th>\n",
       "    </tr>\n",
       "  </thead>\n",
       "  <tbody>\n",
       "    <tr>\n",
       "      <th>0</th>\n",
       "      <td>1</td>\n",
       "      <td>3050</td>\n",
       "      <td>3862</td>\n",
       "      <td>21</td>\n",
       "      <td>64</td>\n",
       "      <td>307</td>\n",
       "      <td>4</td>\n",
       "      <td>7</td>\n",
       "      <td>64</td>\n",
       "      <td>4</td>\n",
       "      <td>3</td>\n",
       "      <td>55</td>\n",
       "      <td>21407</td>\n",
       "      <td>4424</td>\n",
       "      <td>72</td>\n",
       "      <td>3583</td>\n",
       "      <td>6896</td>\n",
       "      <td>10980</td>\n",
       "      <td>3583</td>\n",
       "    </tr>\n",
       "    <tr>\n",
       "      <th>1</th>\n",
       "      <td>1</td>\n",
       "      <td>644</td>\n",
       "      <td>156</td>\n",
       "      <td>21</td>\n",
       "      <td>68</td>\n",
       "      <td>299</td>\n",
       "      <td>34</td>\n",
       "      <td>59</td>\n",
       "      <td>66</td>\n",
       "      <td>38</td>\n",
       "      <td>30</td>\n",
       "      <td>10</td>\n",
       "      <td>21407</td>\n",
       "      <td>3945</td>\n",
       "      <td>159</td>\n",
       "      <td>81</td>\n",
       "      <td>12</td>\n",
       "      <td>1287</td>\n",
       "      <td>81</td>\n",
       "    </tr>\n",
       "    <tr>\n",
       "      <th>2</th>\n",
       "      <td>1</td>\n",
       "      <td>2706</td>\n",
       "      <td>1533</td>\n",
       "      <td>50</td>\n",
       "      <td>57</td>\n",
       "      <td>14</td>\n",
       "      <td>0</td>\n",
       "      <td>2083</td>\n",
       "      <td>3</td>\n",
       "      <td>0</td>\n",
       "      <td>2</td>\n",
       "      <td>3</td>\n",
       "      <td>184</td>\n",
       "      <td>184</td>\n",
       "      <td>546</td>\n",
       "      <td>1256</td>\n",
       "      <td>33</td>\n",
       "      <td>2636</td>\n",
       "      <td>1256</td>\n",
       "    </tr>\n",
       "    <tr>\n",
       "      <th>3</th>\n",
       "      <td>1</td>\n",
       "      <td>2615</td>\n",
       "      <td>867</td>\n",
       "      <td>21</td>\n",
       "      <td>68</td>\n",
       "      <td>181</td>\n",
       "      <td>22</td>\n",
       "      <td>1901</td>\n",
       "      <td>64</td>\n",
       "      <td>23</td>\n",
       "      <td>1</td>\n",
       "      <td>62</td>\n",
       "      <td>21407</td>\n",
       "      <td>3945</td>\n",
       "      <td>190</td>\n",
       "      <td>4649</td>\n",
       "      <td>1244</td>\n",
       "      <td>10980</td>\n",
       "      <td>4649</td>\n",
       "    </tr>\n",
       "    <tr>\n",
       "      <th>4</th>\n",
       "      <td>1</td>\n",
       "      <td>3616</td>\n",
       "      <td>941</td>\n",
       "      <td>15</td>\n",
       "      <td>13</td>\n",
       "      <td>157</td>\n",
       "      <td>70</td>\n",
       "      <td>325</td>\n",
       "      <td>4</td>\n",
       "      <td>77</td>\n",
       "      <td>8</td>\n",
       "      <td>9</td>\n",
       "      <td>276</td>\n",
       "      <td>138</td>\n",
       "      <td>45</td>\n",
       "      <td>75</td>\n",
       "      <td>19</td>\n",
       "      <td>362</td>\n",
       "      <td>75</td>\n",
       "    </tr>\n",
       "    <tr>\n",
       "      <th>...</th>\n",
       "      <td>...</td>\n",
       "      <td>...</td>\n",
       "      <td>...</td>\n",
       "      <td>...</td>\n",
       "      <td>...</td>\n",
       "      <td>...</td>\n",
       "      <td>...</td>\n",
       "      <td>...</td>\n",
       "      <td>...</td>\n",
       "      <td>...</td>\n",
       "      <td>...</td>\n",
       "      <td>...</td>\n",
       "      <td>...</td>\n",
       "      <td>...</td>\n",
       "      <td>...</td>\n",
       "      <td>...</td>\n",
       "      <td>...</td>\n",
       "      <td>...</td>\n",
       "      <td>...</td>\n",
       "    </tr>\n",
       "    <tr>\n",
       "      <th>32764</th>\n",
       "      <td>1</td>\n",
       "      <td>1060</td>\n",
       "      <td>1823</td>\n",
       "      <td>21</td>\n",
       "      <td>64</td>\n",
       "      <td>181</td>\n",
       "      <td>22</td>\n",
       "      <td>1901</td>\n",
       "      <td>64</td>\n",
       "      <td>23</td>\n",
       "      <td>51</td>\n",
       "      <td>29</td>\n",
       "      <td>21407</td>\n",
       "      <td>4424</td>\n",
       "      <td>190</td>\n",
       "      <td>4649</td>\n",
       "      <td>1244</td>\n",
       "      <td>10980</td>\n",
       "      <td>4649</td>\n",
       "    </tr>\n",
       "    <tr>\n",
       "      <th>32765</th>\n",
       "      <td>1</td>\n",
       "      <td>1162</td>\n",
       "      <td>4231</td>\n",
       "      <td>3</td>\n",
       "      <td>34</td>\n",
       "      <td>284</td>\n",
       "      <td>133</td>\n",
       "      <td>1449</td>\n",
       "      <td>61</td>\n",
       "      <td>142</td>\n",
       "      <td>2</td>\n",
       "      <td>9</td>\n",
       "      <td>721</td>\n",
       "      <td>721</td>\n",
       "      <td>54</td>\n",
       "      <td>24</td>\n",
       "      <td>5</td>\n",
       "      <td>224</td>\n",
       "      <td>24</td>\n",
       "    </tr>\n",
       "    <tr>\n",
       "      <th>32766</th>\n",
       "      <td>1</td>\n",
       "      <td>2390</td>\n",
       "      <td>2539</td>\n",
       "      <td>21</td>\n",
       "      <td>66</td>\n",
       "      <td>200</td>\n",
       "      <td>197</td>\n",
       "      <td>1144</td>\n",
       "      <td>20</td>\n",
       "      <td>207</td>\n",
       "      <td>161</td>\n",
       "      <td>5</td>\n",
       "      <td>21407</td>\n",
       "      <td>2641</td>\n",
       "      <td>42</td>\n",
       "      <td>3</td>\n",
       "      <td>2</td>\n",
       "      <td>78</td>\n",
       "      <td>3</td>\n",
       "    </tr>\n",
       "    <tr>\n",
       "      <th>32767</th>\n",
       "      <td>1</td>\n",
       "      <td>6082</td>\n",
       "      <td>3252</td>\n",
       "      <td>51</td>\n",
       "      <td>60</td>\n",
       "      <td>20</td>\n",
       "      <td>337</td>\n",
       "      <td>2146</td>\n",
       "      <td>65</td>\n",
       "      <td>71</td>\n",
       "      <td>7</td>\n",
       "      <td>16</td>\n",
       "      <td>275</td>\n",
       "      <td>257</td>\n",
       "      <td>659</td>\n",
       "      <td>394</td>\n",
       "      <td>244</td>\n",
       "      <td>1318</td>\n",
       "      <td>394</td>\n",
       "    </tr>\n",
       "    <tr>\n",
       "      <th>32768</th>\n",
       "      <td>1</td>\n",
       "      <td>327</td>\n",
       "      <td>3487</td>\n",
       "      <td>11</td>\n",
       "      <td>48</td>\n",
       "      <td>18</td>\n",
       "      <td>36</td>\n",
       "      <td>243</td>\n",
       "      <td>3</td>\n",
       "      <td>40</td>\n",
       "      <td>127</td>\n",
       "      <td>8</td>\n",
       "      <td>295</td>\n",
       "      <td>93</td>\n",
       "      <td>597</td>\n",
       "      <td>1043</td>\n",
       "      <td>28</td>\n",
       "      <td>2636</td>\n",
       "      <td>1043</td>\n",
       "    </tr>\n",
       "  </tbody>\n",
       "</table>\n",
       "<p>32769 rows × 19 columns</p>\n",
       "</div>"
      ],
      "text/plain": [
       "       ACTION  RESOURCE  MGR_ID  ROLE_ROLLUP_1  ROLE_ROLLUP_2  ROLE_DEPTNAME  \\\n",
       "0           1      3050    3862             21             64            307   \n",
       "1           1       644     156             21             68            299   \n",
       "2           1      2706    1533             50             57             14   \n",
       "3           1      2615     867             21             68            181   \n",
       "4           1      3616     941             15             13            157   \n",
       "...       ...       ...     ...            ...            ...            ...   \n",
       "32764       1      1060    1823             21             64            181   \n",
       "32765       1      1162    4231              3             34            284   \n",
       "32766       1      2390    2539             21             66            200   \n",
       "32767       1      6082    3252             51             60             20   \n",
       "32768       1       327    3487             11             48             18   \n",
       "\n",
       "       ROLE_TITLE  ROLE_FAMILY_DESC  ROLE_FAMILY  ROLE_CODE  RESOURCE_counts  \\\n",
       "0               4                 7           64          4                3   \n",
       "1              34                59           66         38               30   \n",
       "2               0              2083            3          0                2   \n",
       "3              22              1901           64         23                1   \n",
       "4              70               325            4         77                8   \n",
       "...           ...               ...          ...        ...              ...   \n",
       "32764          22              1901           64         23               51   \n",
       "32765         133              1449           61        142                2   \n",
       "32766         197              1144           20        207              161   \n",
       "32767         337              2146           65         71                7   \n",
       "32768          36               243            3         40              127   \n",
       "\n",
       "       MGR_ID_counts  ROLE_ROLLUP_1_counts  ROLE_ROLLUP_2_counts  \\\n",
       "0                 55                 21407                  4424   \n",
       "1                 10                 21407                  3945   \n",
       "2                  3                   184                   184   \n",
       "3                 62                 21407                  3945   \n",
       "4                  9                   276                   138   \n",
       "...              ...                   ...                   ...   \n",
       "32764             29                 21407                  4424   \n",
       "32765              9                   721                   721   \n",
       "32766              5                 21407                  2641   \n",
       "32767             16                   275                   257   \n",
       "32768              8                   295                    93   \n",
       "\n",
       "       ROLE_DEPTNAME_counts  ROLE_TITLE_counts  ROLE_FAMILY_DESC_counts  \\\n",
       "0                        72               3583                     6896   \n",
       "1                       159                 81                       12   \n",
       "2                       546               1256                       33   \n",
       "3                       190               4649                     1244   \n",
       "4                        45                 75                       19   \n",
       "...                     ...                ...                      ...   \n",
       "32764                   190               4649                     1244   \n",
       "32765                    54                 24                        5   \n",
       "32766                    42                  3                        2   \n",
       "32767                   659                394                      244   \n",
       "32768                   597               1043                       28   \n",
       "\n",
       "       ROLE_FAMILY_counts  ROLE_CODE_counts  \n",
       "0                   10980              3583  \n",
       "1                    1287                81  \n",
       "2                    2636              1256  \n",
       "3                   10980              4649  \n",
       "4                     362                75  \n",
       "...                   ...               ...  \n",
       "32764               10980              4649  \n",
       "32765                 224                24  \n",
       "32766                  78                 3  \n",
       "32767                1318               394  \n",
       "32768                2636              1043  \n",
       "\n",
       "[32769 rows x 19 columns]"
      ]
     },
     "execution_count": 15,
     "metadata": {},
     "output_type": "execute_result"
    }
   ],
   "source": [
    "df"
   ]
  },
  {
   "cell_type": "code",
   "execution_count": 16,
   "metadata": {},
   "outputs": [
    {
     "data": {
      "text/plain": [
       "Index(['ACTION', 'RESOURCE', 'MGR_ID', 'ROLE_ROLLUP_1', 'ROLE_ROLLUP_2',\n",
       "       'ROLE_DEPTNAME', 'ROLE_TITLE', 'ROLE_FAMILY_DESC', 'ROLE_FAMILY',\n",
       "       'ROLE_CODE', 'RESOURCE_counts', 'MGR_ID_counts', 'ROLE_ROLLUP_1_counts',\n",
       "       'ROLE_ROLLUP_2_counts', 'ROLE_DEPTNAME_counts', 'ROLE_TITLE_counts',\n",
       "       'ROLE_FAMILY_DESC_counts', 'ROLE_FAMILY_counts', 'ROLE_CODE_counts'],\n",
       "      dtype='object')"
      ]
     },
     "execution_count": 16,
     "metadata": {},
     "output_type": "execute_result"
    }
   ],
   "source": [
    "df.columns"
   ]
  },
  {
   "cell_type": "code",
   "execution_count": 17,
   "metadata": {},
   "outputs": [
    {
     "data": {
      "text/plain": [
       "ACTION                     int64\n",
       "RESOURCE                   int64\n",
       "MGR_ID                     int64\n",
       "ROLE_ROLLUP_1              int64\n",
       "ROLE_ROLLUP_2              int64\n",
       "ROLE_DEPTNAME              int64\n",
       "ROLE_TITLE                 int64\n",
       "ROLE_FAMILY_DESC           int64\n",
       "ROLE_FAMILY                int64\n",
       "ROLE_CODE                  int64\n",
       "RESOURCE_counts            int64\n",
       "MGR_ID_counts              int64\n",
       "ROLE_ROLLUP_1_counts       int64\n",
       "ROLE_ROLLUP_2_counts       int64\n",
       "ROLE_DEPTNAME_counts       int64\n",
       "ROLE_TITLE_counts          int64\n",
       "ROLE_FAMILY_DESC_counts    int64\n",
       "ROLE_FAMILY_counts         int64\n",
       "ROLE_CODE_counts           int64\n",
       "dtype: object"
      ]
     },
     "execution_count": 17,
     "metadata": {},
     "output_type": "execute_result"
    }
   ],
   "source": [
    "df.dtypes"
   ]
  },
  {
   "cell_type": "code",
   "execution_count": 18,
   "metadata": {},
   "outputs": [],
   "source": [
    "from sklearn.model_selection import train_test_split"
   ]
  },
  {
   "cell_type": "code",
   "execution_count": 19,
   "metadata": {},
   "outputs": [],
   "source": [
    "X = df.drop('ACTION', axis=1)\n",
    "y = df['ACTION']"
   ]
  },
  {
   "cell_type": "code",
   "execution_count": 20,
   "metadata": {},
   "outputs": [],
   "source": [
    "X_train, X_test, y_train, y_test = train_test_split(\n",
    "    X, y, test_size=0.2, random_state=42)\n",
    "X_train,X_val,y_train,y_val = train_test_split(X_train,y_train,test_size=0.2,random_state=44)"
   ]
  },
  {
   "cell_type": "code",
   "execution_count": 21,
   "metadata": {},
   "outputs": [],
   "source": [
    "from tensorflow.keras.utils import normalize\n",
    "X_train_normalized = normalize(X_train, axis=1)\n",
    "X_val_normalized = normalize(X_val, axis=1)\n",
    "X_test_normalized = normalize(X_test, axis=1)"
   ]
  },
  {
   "cell_type": "code",
   "execution_count": 22,
   "metadata": {},
   "outputs": [],
   "source": [
    "import tensorflow as tf"
   ]
  },
  {
   "cell_type": "code",
   "execution_count": 23,
   "metadata": {},
   "outputs": [],
   "source": [
    "input_len = len(X.columns)"
   ]
  },
  {
   "cell_type": "code",
   "execution_count": 24,
   "metadata": {},
   "outputs": [],
   "source": [
    "from tensorflow.keras.initializers import HeNormal\n",
    "from tensorflow.keras.regularizers import l2\n",
    "from tensorflow.keras.layers import BatchNormalization"
   ]
  },
  {
   "cell_type": "code",
   "execution_count": 25,
   "metadata": {},
   "outputs": [],
   "source": [
    "model = tf.keras.Sequential([\n",
    "    tf.keras.Input(shape=(input_len,)),\n",
    "    tf.keras.layers.Flatten(),\n",
    "    tf.keras.layers.Dense(\n",
    "        10, activation='relu', kernel_initializer=HeNormal(), kernel_regularizer=l2(0.01)),\n",
    "    # BatchNormalization(),\n",
    "    tf.keras.layers.Dense(\n",
    "        5, activation='relu', kernel_initializer=HeNormal(), kernel_regularizer=l2(0.01)),\n",
    "    tf.keras.layers.Dense(1, activation='sigmoid')\n",
    "])"
   ]
  },
  {
   "cell_type": "code",
   "execution_count": 26,
   "metadata": {},
   "outputs": [],
   "source": [
    "# from tensorflow.keras.callbacks import EarlyStopping\n",
    "# early_stopping = EarlyStopping(\n",
    "#     monitor='val_loss', patience=10, restore_best_weights=True)"
   ]
  },
  {
   "cell_type": "code",
   "execution_count": 27,
   "metadata": {},
   "outputs": [],
   "source": [
    "lr_schedule = tf.keras.optimizers.schedules.ExponentialDecay(\n",
    "    initial_learning_rate=0.001,\n",
    "    decay_steps=10000,\n",
    "    decay_rate=0.9\n",
    ")\n",
    "optimizer = tf.keras.optimizers.Adam(learning_rate=lr_schedule)"
   ]
  },
  {
   "cell_type": "code",
   "execution_count": 28,
   "metadata": {},
   "outputs": [],
   "source": [
    "from keras.losses import binary_crossentropy"
   ]
  },
  {
   "cell_type": "code",
   "execution_count": 29,
   "metadata": {},
   "outputs": [],
   "source": [
    "model.compile(loss=binary_crossentropy, optimizer=optimizer,metrics=['accuracy'])"
   ]
  },
  {
   "cell_type": "code",
   "execution_count": 30,
   "metadata": {},
   "outputs": [],
   "source": [
    "from tensorflow.keras.callbacks import CSVLogger\n",
    "csv_logger = CSVLogger('training_log.csv', append=False)"
   ]
  },
  {
   "cell_type": "code",
   "execution_count": 31,
   "metadata": {},
   "outputs": [
    {
     "name": "stdout",
     "output_type": "stream",
     "text": [
      "Epoch 1/10\n",
      "\u001b[1m656/656\u001b[0m \u001b[32m━━━━━━━━━━━━━━━━━━━━\u001b[0m\u001b[37m\u001b[0m \u001b[1m3s\u001b[0m 2ms/step - accuracy: 0.9263 - loss: 346.0449 - val_accuracy: 0.8146 - val_loss: 27.6595\n",
      "Epoch 2/10\n",
      "\u001b[1m656/656\u001b[0m \u001b[32m━━━━━━━━━━━━━━━━━━━━\u001b[0m\u001b[37m\u001b[0m \u001b[1m1s\u001b[0m 2ms/step - accuracy: 0.8754 - loss: 16.8285 - val_accuracy: 0.7685 - val_loss: 8.9764\n",
      "Epoch 3/10\n",
      "\u001b[1m656/656\u001b[0m \u001b[32m━━━━━━━━━━━━━━━━━━━━\u001b[0m\u001b[37m\u001b[0m \u001b[1m1s\u001b[0m 1ms/step - accuracy: 0.8489 - loss: 7.4248 - val_accuracy: 0.9352 - val_loss: 4.6366\n",
      "Epoch 4/10\n",
      "\u001b[1m656/656\u001b[0m \u001b[32m━━━━━━━━━━━━━━━━━━━━\u001b[0m\u001b[37m\u001b[0m \u001b[1m1s\u001b[0m 1ms/step - accuracy: 0.9057 - loss: 4.4492 - val_accuracy: 0.8020 - val_loss: 3.3028\n",
      "Epoch 5/10\n",
      "\u001b[1m656/656\u001b[0m \u001b[32m━━━━━━━━━━━━━━━━━━━━\u001b[0m\u001b[37m\u001b[0m \u001b[1m1s\u001b[0m 1ms/step - accuracy: 0.9000 - loss: 2.9024 - val_accuracy: 0.9424 - val_loss: 4.3211\n",
      "Epoch 6/10\n",
      "\u001b[1m656/656\u001b[0m \u001b[32m━━━━━━━━━━━━━━━━━━━━\u001b[0m\u001b[37m\u001b[0m \u001b[1m1s\u001b[0m 1ms/step - accuracy: 0.9003 - loss: 2.5080 - val_accuracy: 0.9422 - val_loss: 2.7879\n",
      "Epoch 7/10\n",
      "\u001b[1m656/656\u001b[0m \u001b[32m━━━━━━━━━━━━━━━━━━━━\u001b[0m\u001b[37m\u001b[0m \u001b[1m1s\u001b[0m 1ms/step - accuracy: 0.9046 - loss: 2.0791 - val_accuracy: 0.9432 - val_loss: 3.2459\n",
      "Epoch 8/10\n",
      "\u001b[1m656/656\u001b[0m \u001b[32m━━━━━━━━━━━━━━━━━━━━\u001b[0m\u001b[37m\u001b[0m \u001b[1m1s\u001b[0m 994us/step - accuracy: 0.9039 - loss: 1.6452 - val_accuracy: 0.9296 - val_loss: 1.6422\n",
      "Epoch 9/10\n",
      "\u001b[1m656/656\u001b[0m \u001b[32m━━━━━━━━━━━━━━━━━━━━\u001b[0m\u001b[37m\u001b[0m \u001b[1m1s\u001b[0m 1ms/step - accuracy: 0.9063 - loss: 1.6616 - val_accuracy: 0.8385 - val_loss: 1.0746\n",
      "Epoch 10/10\n",
      "\u001b[1m656/656\u001b[0m \u001b[32m━━━━━━━━━━━━━━━━━━━━\u001b[0m\u001b[37m\u001b[0m \u001b[1m1s\u001b[0m 1ms/step - accuracy: 0.9047 - loss: 1.3935 - val_accuracy: 0.9397 - val_loss: 0.9631\n"
     ]
    },
    {
     "data": {
      "text/plain": [
       "<keras.src.callbacks.history.History at 0x2695c9a8ad0>"
      ]
     },
     "execution_count": 31,
     "metadata": {},
     "output_type": "execute_result"
    }
   ],
   "source": [
    "tensorboard_callback = tf.keras.callbacks.TensorBoard(\n",
    "    log_dir='./logs', histogram_freq=1)\n",
    "model.fit(X_train, y_train,\n",
    "          validation_data=(X_val,y_val),\n",
    "          epochs=10,\n",
    "          batch_size=32,\n",
    "          callbacks=[csv_logger])"
   ]
  },
  {
   "cell_type": "code",
   "execution_count": 32,
   "metadata": {},
   "outputs": [
    {
     "data": {
      "text/html": [
       "<pre style=\"white-space:pre;overflow-x:auto;line-height:normal;font-family:Menlo,'DejaVu Sans Mono',consolas,'Courier New',monospace\"><span style=\"font-weight: bold\">Model: \"sequential\"</span>\n",
       "</pre>\n"
      ],
      "text/plain": [
       "\u001b[1mModel: \"sequential\"\u001b[0m\n"
      ]
     },
     "metadata": {},
     "output_type": "display_data"
    },
    {
     "data": {
      "text/html": [
       "<pre style=\"white-space:pre;overflow-x:auto;line-height:normal;font-family:Menlo,'DejaVu Sans Mono',consolas,'Courier New',monospace\">┏━━━━━━━━━━━━━━━━━━━━━━━━━━━━━━━━━┳━━━━━━━━━━━━━━━━━━━━━━━━┳━━━━━━━━━━━━━━━┓\n",
       "┃<span style=\"font-weight: bold\"> Layer (type)                    </span>┃<span style=\"font-weight: bold\"> Output Shape           </span>┃<span style=\"font-weight: bold\">       Param # </span>┃\n",
       "┡━━━━━━━━━━━━━━━━━━━━━━━━━━━━━━━━━╇━━━━━━━━━━━━━━━━━━━━━━━━╇━━━━━━━━━━━━━━━┩\n",
       "│ flatten (<span style=\"color: #0087ff; text-decoration-color: #0087ff\">Flatten</span>)               │ (<span style=\"color: #00d7ff; text-decoration-color: #00d7ff\">None</span>, <span style=\"color: #00af00; text-decoration-color: #00af00\">18</span>)             │             <span style=\"color: #00af00; text-decoration-color: #00af00\">0</span> │\n",
       "├─────────────────────────────────┼────────────────────────┼───────────────┤\n",
       "│ dense (<span style=\"color: #0087ff; text-decoration-color: #0087ff\">Dense</span>)                   │ (<span style=\"color: #00d7ff; text-decoration-color: #00d7ff\">None</span>, <span style=\"color: #00af00; text-decoration-color: #00af00\">10</span>)             │           <span style=\"color: #00af00; text-decoration-color: #00af00\">190</span> │\n",
       "├─────────────────────────────────┼────────────────────────┼───────────────┤\n",
       "│ dense_1 (<span style=\"color: #0087ff; text-decoration-color: #0087ff\">Dense</span>)                 │ (<span style=\"color: #00d7ff; text-decoration-color: #00d7ff\">None</span>, <span style=\"color: #00af00; text-decoration-color: #00af00\">5</span>)              │            <span style=\"color: #00af00; text-decoration-color: #00af00\">55</span> │\n",
       "├─────────────────────────────────┼────────────────────────┼───────────────┤\n",
       "│ dense_2 (<span style=\"color: #0087ff; text-decoration-color: #0087ff\">Dense</span>)                 │ (<span style=\"color: #00d7ff; text-decoration-color: #00d7ff\">None</span>, <span style=\"color: #00af00; text-decoration-color: #00af00\">1</span>)              │             <span style=\"color: #00af00; text-decoration-color: #00af00\">6</span> │\n",
       "└─────────────────────────────────┴────────────────────────┴───────────────┘\n",
       "</pre>\n"
      ],
      "text/plain": [
       "┏━━━━━━━━━━━━━━━━━━━━━━━━━━━━━━━━━┳━━━━━━━━━━━━━━━━━━━━━━━━┳━━━━━━━━━━━━━━━┓\n",
       "┃\u001b[1m \u001b[0m\u001b[1mLayer (type)                   \u001b[0m\u001b[1m \u001b[0m┃\u001b[1m \u001b[0m\u001b[1mOutput Shape          \u001b[0m\u001b[1m \u001b[0m┃\u001b[1m \u001b[0m\u001b[1m      Param #\u001b[0m\u001b[1m \u001b[0m┃\n",
       "┡━━━━━━━━━━━━━━━━━━━━━━━━━━━━━━━━━╇━━━━━━━━━━━━━━━━━━━━━━━━╇━━━━━━━━━━━━━━━┩\n",
       "│ flatten (\u001b[38;5;33mFlatten\u001b[0m)               │ (\u001b[38;5;45mNone\u001b[0m, \u001b[38;5;34m18\u001b[0m)             │             \u001b[38;5;34m0\u001b[0m │\n",
       "├─────────────────────────────────┼────────────────────────┼───────────────┤\n",
       "│ dense (\u001b[38;5;33mDense\u001b[0m)                   │ (\u001b[38;5;45mNone\u001b[0m, \u001b[38;5;34m10\u001b[0m)             │           \u001b[38;5;34m190\u001b[0m │\n",
       "├─────────────────────────────────┼────────────────────────┼───────────────┤\n",
       "│ dense_1 (\u001b[38;5;33mDense\u001b[0m)                 │ (\u001b[38;5;45mNone\u001b[0m, \u001b[38;5;34m5\u001b[0m)              │            \u001b[38;5;34m55\u001b[0m │\n",
       "├─────────────────────────────────┼────────────────────────┼───────────────┤\n",
       "│ dense_2 (\u001b[38;5;33mDense\u001b[0m)                 │ (\u001b[38;5;45mNone\u001b[0m, \u001b[38;5;34m1\u001b[0m)              │             \u001b[38;5;34m6\u001b[0m │\n",
       "└─────────────────────────────────┴────────────────────────┴───────────────┘\n"
      ]
     },
     "metadata": {},
     "output_type": "display_data"
    },
    {
     "data": {
      "text/html": [
       "<pre style=\"white-space:pre;overflow-x:auto;line-height:normal;font-family:Menlo,'DejaVu Sans Mono',consolas,'Courier New',monospace\"><span style=\"font-weight: bold\"> Total params: </span><span style=\"color: #00af00; text-decoration-color: #00af00\">754</span> (2.95 KB)\n",
       "</pre>\n"
      ],
      "text/plain": [
       "\u001b[1m Total params: \u001b[0m\u001b[38;5;34m754\u001b[0m (2.95 KB)\n"
      ]
     },
     "metadata": {},
     "output_type": "display_data"
    },
    {
     "data": {
      "text/html": [
       "<pre style=\"white-space:pre;overflow-x:auto;line-height:normal;font-family:Menlo,'DejaVu Sans Mono',consolas,'Courier New',monospace\"><span style=\"font-weight: bold\"> Trainable params: </span><span style=\"color: #00af00; text-decoration-color: #00af00\">251</span> (1004.00 B)\n",
       "</pre>\n"
      ],
      "text/plain": [
       "\u001b[1m Trainable params: \u001b[0m\u001b[38;5;34m251\u001b[0m (1004.00 B)\n"
      ]
     },
     "metadata": {},
     "output_type": "display_data"
    },
    {
     "data": {
      "text/html": [
       "<pre style=\"white-space:pre;overflow-x:auto;line-height:normal;font-family:Menlo,'DejaVu Sans Mono',consolas,'Courier New',monospace\"><span style=\"font-weight: bold\"> Non-trainable params: </span><span style=\"color: #00af00; text-decoration-color: #00af00\">0</span> (0.00 B)\n",
       "</pre>\n"
      ],
      "text/plain": [
       "\u001b[1m Non-trainable params: \u001b[0m\u001b[38;5;34m0\u001b[0m (0.00 B)\n"
      ]
     },
     "metadata": {},
     "output_type": "display_data"
    },
    {
     "data": {
      "text/html": [
       "<pre style=\"white-space:pre;overflow-x:auto;line-height:normal;font-family:Menlo,'DejaVu Sans Mono',consolas,'Courier New',monospace\"><span style=\"font-weight: bold\"> Optimizer params: </span><span style=\"color: #00af00; text-decoration-color: #00af00\">503</span> (1.97 KB)\n",
       "</pre>\n"
      ],
      "text/plain": [
       "\u001b[1m Optimizer params: \u001b[0m\u001b[38;5;34m503\u001b[0m (1.97 KB)\n"
      ]
     },
     "metadata": {},
     "output_type": "display_data"
    }
   ],
   "source": [
    "model.summary()"
   ]
  },
  {
   "cell_type": "code",
   "execution_count": 33,
   "metadata": {},
   "outputs": [],
   "source": [
    "import matplotlib.pyplot as plt"
   ]
  },
  {
   "cell_type": "code",
   "execution_count": 34,
   "metadata": {},
   "outputs": [
    {
     "name": "stdout",
     "output_type": "stream",
     "text": [
      "   epoch  accuracy        loss  val_accuracy   val_loss\n",
      "0      0  0.913265  152.747742      0.814610  27.659523\n",
      "1      1  0.867728   13.025864      0.768453   8.976421\n",
      "2      2  0.866489    6.469042      0.935152   4.636566\n",
      "3      3  0.899819    4.076996      0.802022   3.302753\n",
      "4      4  0.900296    2.775188      0.942399   4.321067\n"
     ]
    }
   ],
   "source": [
    "log_data = pd.read_csv('training_log.csv')\n",
    "print(log_data.head())  # To view the columns\n"
   ]
  },
  {
   "cell_type": "code",
   "execution_count": 35,
   "metadata": {},
   "outputs": [
    {
     "data": {
      "image/png": "[encoded data removed]",
      "text/plain": [
       "<Figure size 1000x600 with 1 Axes>"
      ]
     },
     "metadata": {},
     "output_type": "display_data"
    }
   ],
   "source": [
    "plt.figure(figsize=(10, 6))\n",
    "plt.plot(log_data['epoch'], log_data['loss'], label='Training Loss', color='blue')\n",
    "plt.plot(log_data['epoch'], log_data['val_loss'], label='Validation Loss', color='orange')\n",
    "plt.title('Training and Validation Loss')\n",
    "plt.xlabel('Epoch')\n",
    "plt.ylabel('Loss')\n",
    "plt.legend()\n",
    "plt.grid()\n",
    "plt.show()\n"
   ]
  },
  {
   "cell_type": "code",
   "execution_count": 36,
   "metadata": {},
   "outputs": [
    {
     "data": {
      "image/png": "[encoded data removed]",
      "text/plain": [
       "<Figure size 1000x600 with 1 Axes>"
      ]
     },
     "metadata": {},
     "output_type": "display_data"
    }
   ],
   "source": [
    "plt.figure(figsize=(10, 6))\n",
    "plt.plot(log_data['epoch'], log_data['accuracy'], label='Training Accuracy', color='green')\n",
    "plt.plot(log_data['epoch'], log_data['val_accuracy'], label='Validation Accuracy', color='red')\n",
    "plt.title('Training and Validation Accuracy')\n",
    "plt.xlabel('Epoch')\n",
    "plt.ylabel('Accuracy')\n",
    "plt.legend()\n",
    "plt.grid()\n",
    "plt.show()\n"
   ]
  }
 ],
 "metadata": {
  "kernelspec": {
   "display_name": "Python 3",
   "language": "python",
   "name": "python3"
  },
  "language_info": {
   "codemirror_mode": {
    "name": "ipython",
    "version": 3
   },
   "file_extension": ".py",
   "mimetype": "text/x-python",
   "name": "python",
   "nbconvert_exporter": "python",
   "pygments_lexer": "ipython3",
   "version": "3.11.3"
  }
 },
 "nbformat": 4,
 "nbformat_minor": 2
}
