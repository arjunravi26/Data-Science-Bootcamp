{
 "cells": [
  {
   "cell_type": "code",
   "execution_count": 75,
   "metadata": {},
   "outputs": [],
   "source": [
    "import tensorflow as tf"
   ]
  },
  {
   "cell_type": "markdown",
   "metadata": {},
   "source": [
    "FeedForward Neural network"
   ]
  },
  {
   "cell_type": "code",
   "execution_count": 76,
   "metadata": {},
   "outputs": [],
   "source": [
    "data = tf.keras.datasets.boston_housing"
   ]
  },
  {
   "cell_type": "code",
   "execution_count": 77,
   "metadata": {},
   "outputs": [],
   "source": [
    "(train_data,train_price),(test_data,test_price) = data.load_data()"
   ]
  },
  {
   "cell_type": "code",
   "execution_count": 78,
   "metadata": {},
   "outputs": [
    {
     "data": {
      "text/plain": [
       "array([[1.23247e+00, 0.00000e+00, 8.14000e+00, ..., 2.10000e+01,\n",
       "        3.96900e+02, 1.87200e+01],\n",
       "       [2.17700e-02, 8.25000e+01, 2.03000e+00, ..., 1.47000e+01,\n",
       "        3.95380e+02, 3.11000e+00],\n",
       "       [4.89822e+00, 0.00000e+00, 1.81000e+01, ..., 2.02000e+01,\n",
       "        3.75520e+02, 3.26000e+00],\n",
       "       ...,\n",
       "       [3.46600e-02, 3.50000e+01, 6.06000e+00, ..., 1.69000e+01,\n",
       "        3.62250e+02, 7.83000e+00],\n",
       "       [2.14918e+00, 0.00000e+00, 1.95800e+01, ..., 1.47000e+01,\n",
       "        2.61950e+02, 1.57900e+01],\n",
       "       [1.43900e-02, 6.00000e+01, 2.93000e+00, ..., 1.56000e+01,\n",
       "        3.76700e+02, 4.38000e+00]])"
      ]
     },
     "execution_count": 78,
     "metadata": {},
     "output_type": "execute_result"
    }
   ],
   "source": [
    "train_data"
   ]
  },
  {
   "cell_type": "code",
   "execution_count": 79,
   "metadata": {},
   "outputs": [
    {
     "data": {
      "text/plain": [
       "array([15.2, 42.3, 50. , 21.1, 17.7, 18.5, 11.3, 15.6, 15.6, 14.4, 12.1,\n",
       "       17.9, 23.1, 19.9, 15.7,  8.8, 50. , 22.5, 24.1, 27.5, 10.9, 30.8,\n",
       "       32.9, 24. , 18.5, 13.3, 22.9, 34.7, 16.6, 17.5, 22.3, 16.1, 14.9,\n",
       "       23.1, 34.9, 25. , 13.9, 13.1, 20.4, 20. , 15.2, 24.7, 22.2, 16.7,\n",
       "       12.7, 15.6, 18.4, 21. , 30.1, 15.1, 18.7,  9.6, 31.5, 24.8, 19.1,\n",
       "       22. , 14.5, 11. , 32. , 29.4, 20.3, 24.4, 14.6, 19.5, 14.1, 14.3,\n",
       "       15.6, 10.5,  6.3, 19.3, 19.3, 13.4, 36.4, 17.8, 13.5, 16.5,  8.3,\n",
       "       14.3, 16. , 13.4, 28.6, 43.5, 20.2, 22. , 23. , 20.7, 12.5, 48.5,\n",
       "       14.6, 13.4, 23.7, 50. , 21.7, 39.8, 38.7, 22.2, 34.9, 22.5, 31.1,\n",
       "       28.7, 46. , 41.7, 21. , 26.6, 15. , 24.4, 13.3, 21.2, 11.7, 21.7,\n",
       "       19.4, 50. , 22.8, 19.7, 24.7, 36.2, 14.2, 18.9, 18.3, 20.6, 24.6,\n",
       "       18.2,  8.7, 44. , 10.4, 13.2, 21.2, 37. , 30.7, 22.9, 20. , 19.3,\n",
       "       31.7, 32. , 23.1, 18.8, 10.9, 50. , 19.6,  5. , 14.4, 19.8, 13.8,\n",
       "       19.6, 23.9, 24.5, 25. , 19.9, 17.2, 24.6, 13.5, 26.6, 21.4, 11.9,\n",
       "       22.6, 19.6,  8.5, 23.7, 23.1, 22.4, 20.5, 23.6, 18.4, 35.2, 23.1,\n",
       "       27.9, 20.6, 23.7, 28. , 13.6, 27.1, 23.6, 20.6, 18.2, 21.7, 17.1,\n",
       "        8.4, 25.3, 13.8, 22.2, 18.4, 20.7, 31.6, 30.5, 20.3,  8.8, 19.2,\n",
       "       19.4, 23.1, 23. , 14.8, 48.8, 22.6, 33.4, 21.1, 13.6, 32.2, 13.1,\n",
       "       23.4, 18.9, 23.9, 11.8, 23.3, 22.8, 19.6, 16.7, 13.4, 22.2, 20.4,\n",
       "       21.8, 26.4, 14.9, 24.1, 23.8, 12.3, 29.1, 21. , 19.5, 23.3, 23.8,\n",
       "       17.8, 11.5, 21.7, 19.9, 25. , 33.4, 28.5, 21.4, 24.3, 27.5, 33.1,\n",
       "       16.2, 23.3, 48.3, 22.9, 22.8, 13.1, 12.7, 22.6, 15. , 15.3, 10.5,\n",
       "       24. , 18.5, 21.7, 19.5, 33.2, 23.2,  5. , 19.1, 12.7, 22.3, 10.2,\n",
       "       13.9, 16.3, 17. , 20.1, 29.9, 17.2, 37.3, 45.4, 17.8, 23.2, 29. ,\n",
       "       22. , 18. , 17.4, 34.6, 20.1, 25. , 15.6, 24.8, 28.2, 21.2, 21.4,\n",
       "       23.8, 31. , 26.2, 17.4, 37.9, 17.5, 20. ,  8.3, 23.9,  8.4, 13.8,\n",
       "        7.2, 11.7, 17.1, 21.6, 50. , 16.1, 20.4, 20.6, 21.4, 20.6, 36.5,\n",
       "        8.5, 24.8, 10.8, 21.9, 17.3, 18.9, 36.2, 14.9, 18.2, 33.3, 21.8,\n",
       "       19.7, 31.6, 24.8, 19.4, 22.8,  7.5, 44.8, 16.8, 18.7, 50. , 50. ,\n",
       "       19.5, 20.1, 50. , 17.2, 20.8, 19.3, 41.3, 20.4, 20.5, 13.8, 16.5,\n",
       "       23.9, 20.6, 31.5, 23.3, 16.8, 14. , 33.8, 36.1, 12.8, 18.3, 18.7,\n",
       "       19.1, 29. , 30.1, 50. , 50. , 22. , 11.9, 37.6, 50. , 22.7, 20.8,\n",
       "       23.5, 27.9, 50. , 19.3, 23.9, 22.6, 15.2, 21.7, 19.2, 43.8, 20.3,\n",
       "       33.2, 19.9, 22.5, 32.7, 22. , 17.1, 19. , 15. , 16.1, 25.1, 23.7,\n",
       "       28.7, 37.2, 22.6, 16.4, 25. , 29.8, 22.1, 17.4, 18.1, 30.3, 17.5,\n",
       "       24.7, 12.6, 26.5, 28.7, 13.3, 10.4, 24.4, 23. , 20. , 17.8,  7. ,\n",
       "       11.8, 24.4, 13.8, 19.4, 25.2, 19.4, 19.4, 29.1])"
      ]
     },
     "execution_count": 79,
     "metadata": {},
     "output_type": "execute_result"
    }
   ],
   "source": [
    "train_price"
   ]
  },
  {
   "cell_type": "code",
   "execution_count": 80,
   "metadata": {},
   "outputs": [],
   "source": [
    "input_size = train_data.shape[1]"
   ]
  },
  {
   "cell_type": "code",
   "execution_count": 81,
   "metadata": {},
   "outputs": [],
   "source": [
    "normalization_layer = tf.keras.layers.Normalization()\n",
    "normalization_layer.adapt(train_data)"
   ]
  },
  {
   "cell_type": "code",
   "execution_count": 95,
   "metadata": {},
   "outputs": [],
   "source": [
    "learning_rate_scheduler = tf.keras.optimizers.schedules.ExponentialDecay(\n",
    "    0.01,\n",
    "    decay_steps=100000,\n",
    "    decay_rate=0.96,\n",
    "    staircase=True\n",
    "    )"
   ]
  },
  {
   "cell_type": "code",
   "execution_count": 96,
   "metadata": {},
   "outputs": [],
   "source": [
    "optimizer = tf.keras.optimizers.Adam(learning_rate=learning_rate_scheduler)"
   ]
  },
  {
   "cell_type": "code",
   "execution_count": 97,
   "metadata": {},
   "outputs": [],
   "source": [
    "model = tf.keras.Sequential([\n",
    "    tf.keras.layers.Input(shape=(input_size,)),\n",
    "    normalization_layer,\n",
    "    tf.keras.layers.Dense(units=64,kernel_regularizer=tf.keras.regularizers.l2(0.01)),\n",
    "    tf.keras.layers.Activation('relu'),\n",
    "    tf.keras.layers.Dense(units=32,kernel_regularizer=tf.keras.regularizers.l2(0.01)),\n",
    "    tf.keras.layers.Activation('relu'),\n",
    "    tf.keras.layers.Dense(units=1)\n",
    "])\n",
    "model.compile(optimizer=optimizer,loss='mean_squared_error',metrics=['mean_absolute_error'])"
   ]
  },
  {
   "cell_type": "code",
   "execution_count": 98,
   "metadata": {},
   "outputs": [
    {
     "name": "stdout",
     "output_type": "stream",
     "text": [
      "Epoch 1/20\n",
      "\u001b[1m13/13\u001b[0m \u001b[32m━━━━━━━━━━━━━━━━━━━━\u001b[0m\u001b[37m\u001b[0m \u001b[1m1s\u001b[0m 2ms/step - loss: 480.5882 - mean_absolute_error: 19.9013   \n",
      "Epoch 2/20\n",
      "\u001b[1m13/13\u001b[0m \u001b[32m━━━━━━━━━━━━━━━━━━━━\u001b[0m\u001b[37m\u001b[0m \u001b[1m0s\u001b[0m 2ms/step - loss: 101.2130 - mean_absolute_error: 7.7515 \n",
      "Epoch 3/20\n",
      "\u001b[1m13/13\u001b[0m \u001b[32m━━━━━━━━━━━━━━━━━━━━\u001b[0m\u001b[37m\u001b[0m \u001b[1m0s\u001b[0m 2ms/step - loss: 32.0973 - mean_absolute_error: 4.2305 \n",
      "Epoch 4/20\n",
      "\u001b[1m13/13\u001b[0m \u001b[32m━━━━━━━━━━━━━━━━━━━━\u001b[0m\u001b[37m\u001b[0m \u001b[1m0s\u001b[0m 3ms/step - loss: 25.5055 - mean_absolute_error: 3.5561 \n",
      "Epoch 5/20\n",
      "\u001b[1m13/13\u001b[0m \u001b[32m━━━━━━━━━━━━━━━━━━━━\u001b[0m\u001b[37m\u001b[0m \u001b[1m0s\u001b[0m 2ms/step - loss: 17.5713 - mean_absolute_error: 3.0036 \n",
      "Epoch 6/20\n",
      "\u001b[1m13/13\u001b[0m \u001b[32m━━━━━━━━━━━━━━━━━━━━\u001b[0m\u001b[37m\u001b[0m \u001b[1m0s\u001b[0m 1ms/step - loss: 14.3769 - mean_absolute_error: 2.5279\n",
      "Epoch 7/20\n",
      "\u001b[1m13/13\u001b[0m \u001b[32m━━━━━━━━━━━━━━━━━━━━\u001b[0m\u001b[37m\u001b[0m \u001b[1m0s\u001b[0m 3ms/step - loss: 12.2376 - mean_absolute_error: 2.4473 \n",
      "Epoch 8/20\n",
      "\u001b[1m13/13\u001b[0m \u001b[32m━━━━━━━━━━━━━━━━━━━━\u001b[0m\u001b[37m\u001b[0m \u001b[1m0s\u001b[0m 1ms/step - loss: 11.5162 - mean_absolute_error: 2.3168\n",
      "Epoch 9/20\n",
      "\u001b[1m13/13\u001b[0m \u001b[32m━━━━━━━━━━━━━━━━━━━━\u001b[0m\u001b[37m\u001b[0m \u001b[1m0s\u001b[0m 2ms/step - loss: 12.2306 - mean_absolute_error: 2.3518\n",
      "Epoch 10/20\n",
      "\u001b[1m13/13\u001b[0m \u001b[32m━━━━━━━━━━━━━━━━━━━━\u001b[0m\u001b[37m\u001b[0m \u001b[1m0s\u001b[0m 2ms/step - loss: 11.1818 - mean_absolute_error: 2.4390 \n",
      "Epoch 11/20\n",
      "\u001b[1m13/13\u001b[0m \u001b[32m━━━━━━━━━━━━━━━━━━━━\u001b[0m\u001b[37m\u001b[0m \u001b[1m0s\u001b[0m 1ms/step - loss: 10.6308 - mean_absolute_error: 2.2741\n",
      "Epoch 12/20\n",
      "\u001b[1m13/13\u001b[0m \u001b[32m━━━━━━━━━━━━━━━━━━━━\u001b[0m\u001b[37m\u001b[0m \u001b[1m0s\u001b[0m 2ms/step - loss: 11.2870 - mean_absolute_error: 2.2435\n",
      "Epoch 13/20\n",
      "\u001b[1m13/13\u001b[0m \u001b[32m━━━━━━━━━━━━━━━━━━━━\u001b[0m\u001b[37m\u001b[0m \u001b[1m0s\u001b[0m 2ms/step - loss: 11.5181 - mean_absolute_error: 2.3345 \n",
      "Epoch 14/20\n",
      "\u001b[1m13/13\u001b[0m \u001b[32m━━━━━━━━━━━━━━━━━━━━\u001b[0m\u001b[37m\u001b[0m \u001b[1m0s\u001b[0m 1ms/step - loss: 9.9319 - mean_absolute_error: 2.1678 \n",
      "Epoch 15/20\n",
      "\u001b[1m13/13\u001b[0m \u001b[32m━━━━━━━━━━━━━━━━━━━━\u001b[0m\u001b[37m\u001b[0m \u001b[1m0s\u001b[0m 2ms/step - loss: 8.2710 - mean_absolute_error: 2.0161 \n",
      "Epoch 16/20\n",
      "\u001b[1m13/13\u001b[0m \u001b[32m━━━━━━━━━━━━━━━━━━━━\u001b[0m\u001b[37m\u001b[0m \u001b[1m0s\u001b[0m 2ms/step - loss: 8.7696 - mean_absolute_error: 2.1065 \n",
      "Epoch 17/20\n",
      "\u001b[1m13/13\u001b[0m \u001b[32m━━━━━━━━━━━━━━━━━━━━\u001b[0m\u001b[37m\u001b[0m \u001b[1m0s\u001b[0m 2ms/step - loss: 9.1805 - mean_absolute_error: 2.1608 \n",
      "Epoch 18/20\n",
      "\u001b[1m13/13\u001b[0m \u001b[32m━━━━━━━━━━━━━━━━━━━━\u001b[0m\u001b[37m\u001b[0m \u001b[1m0s\u001b[0m 2ms/step - loss: 9.9479 - mean_absolute_error: 2.1222 \n",
      "Epoch 19/20\n",
      "\u001b[1m13/13\u001b[0m \u001b[32m━━━━━━━━━━━━━━━━━━━━\u001b[0m\u001b[37m\u001b[0m \u001b[1m0s\u001b[0m 2ms/step - loss: 8.8738 - mean_absolute_error: 2.1392 \n",
      "Epoch 20/20\n",
      "\u001b[1m13/13\u001b[0m \u001b[32m━━━━━━━━━━━━━━━━━━━━\u001b[0m\u001b[37m\u001b[0m \u001b[1m0s\u001b[0m 2ms/step - loss: 11.1341 - mean_absolute_error: 2.3025 \n"
     ]
    },
    {
     "data": {
      "text/plain": [
       "<keras.src.callbacks.history.History at 0x2492d8699d0>"
      ]
     },
     "execution_count": 98,
     "metadata": {},
     "output_type": "execute_result"
    }
   ],
   "source": [
    "model.fit(train_data,train_price,epochs=20,batch_size=32)"
   ]
  },
  {
   "cell_type": "code",
   "execution_count": 101,
   "metadata": {},
   "outputs": [],
   "source": [
    "import numpy as np"
   ]
  },
  {
   "cell_type": "code",
   "execution_count": 103,
   "metadata": {},
   "outputs": [
    {
     "data": {
      "text/plain": [
       "23.07843137254902"
      ]
     },
     "execution_count": 103,
     "metadata": {},
     "output_type": "execute_result"
    }
   ],
   "source": [
    "np.mean(test_price)"
   ]
  },
  {
   "cell_type": "code",
   "execution_count": 99,
   "metadata": {},
   "outputs": [
    {
     "name": "stdout",
     "output_type": "stream",
     "text": [
      "\u001b[1m4/4\u001b[0m \u001b[32m━━━━━━━━━━━━━━━━━━━━\u001b[0m\u001b[37m\u001b[0m \u001b[1m0s\u001b[0m 5ms/step - loss: 17.0132 - mean_absolute_error: 2.8621  \n"
     ]
    },
    {
     "data": {
      "text/plain": [
       "[21.753652572631836, 3.028883457183838]"
      ]
     },
     "execution_count": 99,
     "metadata": {},
     "output_type": "execute_result"
    }
   ],
   "source": [
    "model.evaluate(test_data,test_price)"
   ]
  },
  {
   "cell_type": "code",
   "execution_count": 105,
   "metadata": {},
   "outputs": [
    {
     "name": "stdout",
     "output_type": "stream",
     "text": [
      "\u001b[1m4/4\u001b[0m \u001b[32m━━━━━━━━━━━━━━━━━━━━\u001b[0m\u001b[37m\u001b[0m \u001b[1m0s\u001b[0m 2ms/step \n"
     ]
    }
   ],
   "source": [
    "pred = model.predict(test_data)"
   ]
  },
  {
   "cell_type": "code",
   "execution_count": 115,
   "metadata": {},
   "outputs": [],
   "source": [
    "test_price = np.reshape(test_price,(102,1))"
   ]
  },
  {
   "cell_type": "code",
   "execution_count": 116,
   "metadata": {},
   "outputs": [
    {
     "data": {
      "text/plain": [
       "(102, 1)"
      ]
     },
     "execution_count": 116,
     "metadata": {},
     "output_type": "execute_result"
    }
   ],
   "source": [
    "test_price.shape"
   ]
  },
  {
   "cell_type": "code",
   "execution_count": 111,
   "metadata": {},
   "outputs": [
    {
     "data": {
      "text/plain": [
       "(102, 1)"
      ]
     },
     "execution_count": 111,
     "metadata": {},
     "output_type": "execute_result"
    }
   ],
   "source": [
    "pred.shape"
   ]
  },
  {
   "cell_type": "code",
   "execution_count": 117,
   "metadata": {},
   "outputs": [
    {
     "data": {
      "text/plain": [
       "array([[ 1.54010963e-01],\n",
       "       [ 2.33524971e+00],\n",
       "       [-2.94764709e+00],\n",
       "       [-6.35641861e+00],\n",
       "       [-2.91063957e+00],\n",
       "       [ 6.21399879e+00],\n",
       "       [ 4.32614632e+00],\n",
       "       [ 4.58778763e-01],\n",
       "       [ 2.09478188e+00],\n",
       "       [ 2.42942924e+00],\n",
       "       [ 5.22491035e+00],\n",
       "       [-1.67317963e+00],\n",
       "       [ 2.99504166e+00],\n",
       "       [ 8.69171143e+00],\n",
       "       [ 3.02027969e+00],\n",
       "       [ 5.21718483e+00],\n",
       "       [-2.98779945e+00],\n",
       "       [ 2.62503433e-01],\n",
       "       [ 1.33505783e+00],\n",
       "       [-3.05276756e+00],\n",
       "       [ 2.37852955e+00],\n",
       "       [-3.14957123e+00],\n",
       "       [-4.91086960e-01],\n",
       "       [ 4.00665474e+00],\n",
       "       [ 1.39274635e+00],\n",
       "       [-1.42214775e+00],\n",
       "       [-9.87823486e-01],\n",
       "       [ 1.85471687e+00],\n",
       "       [ 7.15896606e-01],\n",
       "       [ 9.93230820e-01],\n",
       "       [ 2.71527023e+00],\n",
       "       [ 1.80479202e+00],\n",
       "       [ 2.37588501e-01],\n",
       "       [-1.84118233e+00],\n",
       "       [ 4.19818077e+00],\n",
       "       [ 6.68441677e-01],\n",
       "       [ 1.47211876e+00],\n",
       "       [ 7.69286041e+00],\n",
       "       [ 1.19098434e+00],\n",
       "       [-1.47332954e+00],\n",
       "       [ 3.61282921e+00],\n",
       "       [ 3.73335266e-01],\n",
       "       [ 1.27903137e+00],\n",
       "       [ 5.14672775e+00],\n",
       "       [ 1.75713730e+00],\n",
       "       [ 5.01312027e+00],\n",
       "       [ 1.48959007e+00],\n",
       "       [ 4.09775429e+00],\n",
       "       [-1.38385849e+00],\n",
       "       [ 2.91148186e+00],\n",
       "       [ 5.49986267e-01],\n",
       "       [ 2.59056358e+00],\n",
       "       [-7.66689110e-01],\n",
       "       [-8.40387344e-01],\n",
       "       [-2.02384949e-02],\n",
       "       [-1.54939880e+00],\n",
       "       [-4.03892212e+00],\n",
       "       [ 2.89213181e+00],\n",
       "       [-2.36103973e+00],\n",
       "       [-1.23537483e+00],\n",
       "       [ 6.36859779e+00],\n",
       "       [-2.33232155e+00],\n",
       "       [ 1.54211960e+01],\n",
       "       [ 4.13564606e+00],\n",
       "       [-5.89807892e-01],\n",
       "       [ 5.53734207e-01],\n",
       "       [ 1.52231407e+00],\n",
       "       [ 7.82548141e-01],\n",
       "       [-4.79500904e+00],\n",
       "       [-2.20558071e-01],\n",
       "       [-3.75397949e+00],\n",
       "       [ 2.14730835e-01],\n",
       "       [-5.32849350e+00],\n",
       "       [-6.81321716e+00],\n",
       "       [ 1.66258850e+00],\n",
       "       [ 2.54630127e+00],\n",
       "       [ 7.24712753e-01],\n",
       "       [ 4.75395546e+00],\n",
       "       [ 9.68088531e-01],\n",
       "       [ 1.32035942e+00],\n",
       "       [ 4.97973328e+00],\n",
       "       [ 5.98441086e+00],\n",
       "       [ 2.61288033e+00],\n",
       "       [ 3.06299248e+00],\n",
       "       [-2.52798843e-01],\n",
       "       [ 1.11887985e+01],\n",
       "       [ 1.54620018e+00],\n",
       "       [ 3.35796356e+00],\n",
       "       [ 6.66489029e-01],\n",
       "       [-7.05080032e+00],\n",
       "       [-2.48214378e+00],\n",
       "       [-1.42599144e+00],\n",
       "       [-2.44396400e+00],\n",
       "       [ 1.34948807e+00],\n",
       "       [-2.34892273e-01],\n",
       "       [ 3.43530083e+00],\n",
       "       [ 1.15299606e+00],\n",
       "       [-2.71019264e+01],\n",
       "       [-2.88066139e+00],\n",
       "       [ 2.35054016e+00],\n",
       "       [-3.83850746e+00],\n",
       "       [ 5.45416451e+00]])"
      ]
     },
     "execution_count": 117,
     "metadata": {},
     "output_type": "execute_result"
    }
   ],
   "source": [
    "test_price - pred"
   ]
  },
  {
   "cell_type": "code",
   "execution_count": 106,
   "metadata": {},
   "outputs": [
    {
     "data": {
      "text/plain": [
       "array([[ 7.045989 ],\n",
       "       [16.46475  ],\n",
       "       [21.947647 ],\n",
       "       [33.35642  ],\n",
       "       [25.11064  ],\n",
       "       [18.286001 ],\n",
       "       [26.873854 ],\n",
       "       [22.441221 ],\n",
       "       [18.405218 ],\n",
       "       [20.77057  ],\n",
       "       [13.37509  ],\n",
       "       [16.17318  ],\n",
       "       [14.804958 ],\n",
       "       [41.30829  ],\n",
       "       [17.77972  ],\n",
       "       [19.082815 ],\n",
       "       [27.1878   ],\n",
       "       [19.537497 ],\n",
       "       [17.764942 ],\n",
       "       [25.752768 ],\n",
       "       [ 9.62147  ],\n",
       "       [13.349571 ],\n",
       "       [20.491087 ],\n",
       "       [14.493345 ],\n",
       "       [19.507254 ],\n",
       "       [24.422148 ],\n",
       "       [28.487823 ],\n",
       "       [28.245283 ],\n",
       "       [ 8.784103 ],\n",
       "       [21.00677  ],\n",
       "       [18.48473  ],\n",
       "       [12.295208 ],\n",
       "       [32.86241  ],\n",
       "       [25.241182 ],\n",
       "       [15.901819 ],\n",
       "       [ 6.7315583],\n",
       "       [13.927881 ],\n",
       "       [16.10714  ],\n",
       "       [18.909016 ],\n",
       "       [25.97333  ],\n",
       "       [29.38717  ],\n",
       "       [28.026665 ],\n",
       "       [12.820969 ],\n",
       "       [41.553272 ],\n",
       "       [30.742863 ],\n",
       "       [24.58688  ],\n",
       "       [26.91041  ],\n",
       "       [15.702246 ],\n",
       "       [21.583858 ],\n",
       "       [22.088518 ],\n",
       "       [34.850014 ],\n",
       "       [17.709436 ],\n",
       "       [10.466689 ],\n",
       "       [15.340387 ],\n",
       "       [34.92024  ],\n",
       "       [28.149399 ],\n",
       "       [11.238922 ],\n",
       "       [47.10787  ],\n",
       "       [34.76104  ],\n",
       "       [22.835375 ],\n",
       "       [23.431402 ],\n",
       "       [15.432322 ],\n",
       "       [12.078804 ],\n",
       "       [17.064354 ],\n",
       "       [23.689808 ],\n",
       "       [21.346266 ],\n",
       "       [11.477686 ],\n",
       "       [22.417452 ],\n",
       "       [12.895009 ],\n",
       "       [ 5.820558 ],\n",
       "       [25.45398  ],\n",
       "       [29.38527  ],\n",
       "       [24.928493 ],\n",
       "       [13.813217 ],\n",
       "       [24.737411 ],\n",
       "       [16.353699 ],\n",
       "       [20.175287 ],\n",
       "       [23.346045 ],\n",
       "       [34.43191  ],\n",
       "       [ 8.879641 ],\n",
       "       [19.320267 ],\n",
       "       [37.11559  ],\n",
       "       [14.98712  ],\n",
       "       [12.3370075],\n",
       "       [16.452799 ],\n",
       "       [15.9112015],\n",
       "       [19.8538   ],\n",
       "       [18.142036 ],\n",
       "       [21.733511 ],\n",
       "       [32.0508   ],\n",
       "       [19.082144 ],\n",
       "       [20.025991 ],\n",
       "       [24.443964 ],\n",
       "       [41.450512 ],\n",
       "       [35.334892 ],\n",
       "       [18.0647   ],\n",
       "       [34.847004 ],\n",
       "       [49.001926 ],\n",
       "       [26.980661 ],\n",
       "       [47.64946  ],\n",
       "       [30.538507 ],\n",
       "       [19.545835 ]], dtype=float32)"
      ]
     },
     "execution_count": 106,
     "metadata": {},
     "output_type": "execute_result"
    }
   ],
   "source": [
    "pred"
   ]
  },
  {
   "cell_type": "markdown",
   "metadata": {},
   "source": [
    "CNN"
   ]
  }
 ],
 "metadata": {
  "kernelspec": {
   "display_name": "Python 3",
   "language": "python",
   "name": "python3"
  },
  "language_info": {
   "codemirror_mode": {
    "name": "ipython",
    "version": 3
   },
   "file_extension": ".py",
   "mimetype": "text/x-python",
   "name": "python",
   "nbconvert_exporter": "python",
   "pygments_lexer": "ipython3",
   "version": "3.11.3"
  }
 },
 "nbformat": 4,
 "nbformat_minor": 2
}
