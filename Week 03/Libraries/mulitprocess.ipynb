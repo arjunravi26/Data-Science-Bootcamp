{
 "cells": [
  {
   "cell_type": "markdown",
   "metadata": {},
   "source": [
    "**MultiProcessing**"
   ]
  },
  {
   "cell_type": "markdown",
   "metadata": {},
   "source": [
    "It can use multiple core of cpu"
   ]
  },
  {
   "cell_type": "code",
   "execution_count": 1,
   "metadata": {},
   "outputs": [
    {
     "name": "stdout",
     "output_type": "stream",
     "text": [
      "Fetched 8690 characters from https://python.langchain.com/v0.2/docs/tutorials/\n",
      "Fetched 10735 characters from https://python.langchain.com/v0.2/docs/introduction/\n",
      "Fetched 82353 characters from https://python.langchain.com/v0.2/docs/concepts/\n",
      "All web pages fetched\n"
     ]
    }
   ],
   "source": [
    "'''\n",
    "Real-World Example: Multithreading for I/O-bound Tasks\n",
    "Scenario: Web Scraping\n",
    "Web scraping often involves making numerous network requests to \n",
    "fetch web pages. These tasks are I/O-bound because they spend a lot of\n",
    "time waiting for responses from servers. Multithreading can significantly\n",
    "improve the performance by allowing multiple web pages to be fetched concurrently.\n",
    "\n",
    "'''\n",
    "\n",
    "'''\n",
    "\n",
    "https://python.langchain.com/v0.2/docs/introduction/\n",
    "\n",
    "https://python.langchain.com/v0.2/docs/concepts/\n",
    "\n",
    "https://python.langchain.com/v0.2/docs/tutorials/\n",
    "'''\n",
    "\n",
    "import threading\n",
    "import requests\n",
    "from bs4 import BeautifulSoup\n",
    "\n",
    "urls=[\n",
    "'https://python.langchain.com/v0.2/docs/introduction/',\n",
    "\n",
    "'https://python.langchain.com/v0.2/docs/concepts/',\n",
    "\n",
    "'https://python.langchain.com/v0.2/docs/tutorials/'\n",
    "\n",
    "]\n",
    "\n",
    "def fetch_content(url):\n",
    "    response=requests.get(url)\n",
    "    soup=BeautifulSoup(response.content,'html.parser')\n",
    "    print(f'Fetched {len(soup.text)} characters from {url}')\n",
    "\n",
    "threads=[]\n",
    "\n",
    "for url in urls:\n",
    "    thread=threading.Thread(target=fetch_content,args=(url,))\n",
    "    threads.append(thread)\n",
    "    thread.start()\n",
    "\n",
    "for thread in threads:\n",
    "    thread.join()\n",
    "\n",
    "print(\"All web pages fetched\")"
   ]
  },
  {
   "cell_type": "code",
   "execution_count": 2,
   "metadata": {},
   "outputs": [],
   "source": [
    "import multiprocessing\n",
    "import math\n",
    "import sys\n",
    "import time"
   ]
  },
  {
   "cell_type": "code",
   "execution_count": null,
   "metadata": {},
   "outputs": [],
   "source": [
    "'''\n",
    "Real-World Example: Multiprocessing for CPU-bound Tasks\n",
    "Scenario: Factorial Calculation\n",
    "Factorial calculations, especially for large numbers, \n",
    "involve significant computational work. Multiprocessing \n",
    "can be used to distribute the workload across multiple \n",
    "CPU cores, improving performance.\n",
    "\n",
    "'''\n",
    "\n",
    "# Increase the maximum number of digits for integer conversion\n",
    "sys.set_int_max_str_digits(100000)\n",
    "\n",
    "## function to compute factorials of a given number\n",
    "\n",
    "def computer_factorial(number):\n",
    "    print(f\"Computing factorial of {number}\")\n",
    "    result=math.factorial(number)\n",
    "    print(f\"Factorial of {number} is {result}\")\n",
    "    return result\n",
    "\n",
    "\n",
    "numbers=[500,600,700]\n",
    "\n",
    "start_time=time.time()\n",
    "\n",
    "##create a pool of worker processes\n",
    "with multiprocessing.Pool() as pool:\n",
    "    results=pool.map(computer_factorial,numbers)\n",
    "\n",
    "end_time=time.time()\n",
    "\n",
    "print(f\"Results: {results}\")\n",
    "print(f\"Time taken: {end_time - start_time} seconds\")"
   ]
  }
 ],
 "metadata": {
  "kernelspec": {
   "display_name": "Python 3",
   "language": "python",
   "name": "python3"
  },
  "language_info": {
   "codemirror_mode": {
    "name": "ipython",
    "version": 3
   },
   "file_extension": ".py",
   "mimetype": "text/x-python",
   "name": "python",
   "nbconvert_exporter": "python",
   "pygments_lexer": "ipython3",
   "version": "3.11.3"
  }
 },
 "nbformat": 4,
 "nbformat_minor": 2
}
