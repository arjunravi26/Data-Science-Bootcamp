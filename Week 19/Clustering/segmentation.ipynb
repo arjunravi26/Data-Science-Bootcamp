{
 "cells": [
  {
   "cell_type": "markdown",
   "metadata": {},
   "source": [
    "# **Customer Segmentation**"
   ]
  },
  {
   "cell_type": "code",
   "execution_count": 13,
   "metadata": {
    "execution": {
     "iopub.execute_input": "2024-12-31T12:44:07.049190Z",
     "iopub.status.busy": "2024-12-31T12:44:07.048731Z",
     "iopub.status.idle": "2024-12-31T12:44:07.054143Z",
     "shell.execute_reply": "2024-12-31T12:44:07.052759Z",
     "shell.execute_reply.started": "2024-12-31T12:44:07.049148Z"
    },
    "trusted": true
   },
   "outputs": [],
   "source": [
    "from sklearn.preprocessing import OneHotEncoder,LabelEncoder\n",
    "import pandas as pd\n",
    "import matplotlib.pyplot as plt"
   ]
  },
  {
   "cell_type": "markdown",
   "metadata": {},
   "source": [
    "Load data"
   ]
  },
  {
   "cell_type": "code",
   "execution_count": 14,
   "metadata": {
    "execution": {
     "iopub.execute_input": "2024-12-31T12:44:07.056024Z",
     "iopub.status.busy": "2024-12-31T12:44:07.055692Z",
     "iopub.status.idle": "2024-12-31T12:44:07.075075Z",
     "shell.execute_reply": "2024-12-31T12:44:07.073580Z",
     "shell.execute_reply.started": "2024-12-31T12:44:07.055992Z"
    },
    "trusted": true
   },
   "outputs": [],
   "source": [
    "df = pd.read_csv('Mall_Customers.csv')"
   ]
  },
  {
   "cell_type": "code",
   "execution_count": 15,
   "metadata": {
    "execution": {
     "iopub.execute_input": "2024-12-31T12:44:07.077484Z",
     "iopub.status.busy": "2024-12-31T12:44:07.077046Z",
     "iopub.status.idle": "2024-12-31T12:44:07.096687Z",
     "shell.execute_reply": "2024-12-31T12:44:07.095161Z",
     "shell.execute_reply.started": "2024-12-31T12:44:07.077415Z"
    },
    "trusted": true
   },
   "outputs": [
    {
     "data": {
      "text/html": [
       "<div>\n",
       "<style scoped>\n",
       "    .dataframe tbody tr th:only-of-type {\n",
       "        vertical-align: middle;\n",
       "    }\n",
       "\n",
       "    .dataframe tbody tr th {\n",
       "        vertical-align: top;\n",
       "    }\n",
       "\n",
       "    .dataframe thead th {\n",
       "        text-align: right;\n",
       "    }\n",
       "</style>\n",
       "<table border=\"1\" class=\"dataframe\">\n",
       "  <thead>\n",
       "    <tr style=\"text-align: right;\">\n",
       "      <th></th>\n",
       "      <th>CustomerID</th>\n",
       "      <th>Gender</th>\n",
       "      <th>Age</th>\n",
       "      <th>Annual Income (k$)</th>\n",
       "      <th>Spending Score (1-100)</th>\n",
       "    </tr>\n",
       "  </thead>\n",
       "  <tbody>\n",
       "    <tr>\n",
       "      <th>0</th>\n",
       "      <td>1</td>\n",
       "      <td>Male</td>\n",
       "      <td>19</td>\n",
       "      <td>15</td>\n",
       "      <td>39</td>\n",
       "    </tr>\n",
       "    <tr>\n",
       "      <th>1</th>\n",
       "      <td>2</td>\n",
       "      <td>Male</td>\n",
       "      <td>21</td>\n",
       "      <td>15</td>\n",
       "      <td>81</td>\n",
       "    </tr>\n",
       "    <tr>\n",
       "      <th>2</th>\n",
       "      <td>3</td>\n",
       "      <td>Female</td>\n",
       "      <td>20</td>\n",
       "      <td>16</td>\n",
       "      <td>6</td>\n",
       "    </tr>\n",
       "    <tr>\n",
       "      <th>3</th>\n",
       "      <td>4</td>\n",
       "      <td>Female</td>\n",
       "      <td>23</td>\n",
       "      <td>16</td>\n",
       "      <td>77</td>\n",
       "    </tr>\n",
       "    <tr>\n",
       "      <th>4</th>\n",
       "      <td>5</td>\n",
       "      <td>Female</td>\n",
       "      <td>31</td>\n",
       "      <td>17</td>\n",
       "      <td>40</td>\n",
       "    </tr>\n",
       "  </tbody>\n",
       "</table>\n",
       "</div>"
      ],
      "text/plain": [
       "   CustomerID  Gender  Age  Annual Income (k$)  Spending Score (1-100)\n",
       "0           1    Male   19                  15                      39\n",
       "1           2    Male   21                  15                      81\n",
       "2           3  Female   20                  16                       6\n",
       "3           4  Female   23                  16                      77\n",
       "4           5  Female   31                  17                      40"
      ]
     },
     "execution_count": 15,
     "metadata": {},
     "output_type": "execute_result"
    }
   ],
   "source": [
    "df.head()"
   ]
  },
  {
   "cell_type": "code",
   "execution_count": 16,
   "metadata": {
    "execution": {
     "iopub.execute_input": "2024-12-31T12:44:07.098739Z",
     "iopub.status.busy": "2024-12-31T12:44:07.098393Z",
     "iopub.status.idle": "2024-12-31T12:44:07.124399Z",
     "shell.execute_reply": "2024-12-31T12:44:07.123253Z",
     "shell.execute_reply.started": "2024-12-31T12:44:07.098713Z"
    },
    "trusted": true
   },
   "outputs": [
    {
     "data": {
      "text/plain": [
       "(200, 5)"
      ]
     },
     "execution_count": 16,
     "metadata": {},
     "output_type": "execute_result"
    }
   ],
   "source": [
    "df.shape"
   ]
  },
  {
   "cell_type": "code",
   "execution_count": 17,
   "metadata": {
    "execution": {
     "iopub.execute_input": "2024-12-31T12:44:07.126723Z",
     "iopub.status.busy": "2024-12-31T12:44:07.126315Z",
     "iopub.status.idle": "2024-12-31T12:44:07.143953Z",
     "shell.execute_reply": "2024-12-31T12:44:07.142666Z",
     "shell.execute_reply.started": "2024-12-31T12:44:07.126684Z"
    },
    "trusted": true
   },
   "outputs": [
    {
     "data": {
      "text/plain": [
       "Gender\n",
       "Female    51.526786\n",
       "Male      48.511364\n",
       "Name: Spending Score (1-100), dtype: float64"
      ]
     },
     "execution_count": 17,
     "metadata": {},
     "output_type": "execute_result"
    }
   ],
   "source": [
    "df.groupby('Gender')['Spending Score (1-100)'].mean()"
   ]
  },
  {
   "cell_type": "code",
   "execution_count": 18,
   "metadata": {
    "execution": {
     "iopub.execute_input": "2024-12-31T12:44:07.146963Z",
     "iopub.status.busy": "2024-12-31T12:44:07.146583Z",
     "iopub.status.idle": "2024-12-31T12:44:07.159155Z",
     "shell.execute_reply": "2024-12-31T12:44:07.157899Z",
     "shell.execute_reply.started": "2024-12-31T12:44:07.146926Z"
    },
    "trusted": true
   },
   "outputs": [],
   "source": [
    "label_encoder = LabelEncoder()\n",
    "df['Gender'] = label_encoder.fit_transform(df['Gender'])"
   ]
  },
  {
   "cell_type": "code",
   "execution_count": 19,
   "metadata": {
    "execution": {
     "iopub.execute_input": "2024-12-31T12:44:07.161163Z",
     "iopub.status.busy": "2024-12-31T12:44:07.160772Z",
     "iopub.status.idle": "2024-12-31T12:44:07.188831Z",
     "shell.execute_reply": "2024-12-31T12:44:07.187643Z",
     "shell.execute_reply.started": "2024-12-31T12:44:07.161124Z"
    },
    "trusted": true
   },
   "outputs": [],
   "source": [
    "from sklearn.preprocessing import StandardScaler\n",
    "scaler = StandardScaler()\n",
    "df['Age'] = scaler.fit_transform(df[['Age']])\n",
    "df['Annual Income (k$)'] = scaler.fit_transform(df[['Annual Income (k$)']])\n",
    "df['Spending Score (1-100)'] = scaler.fit_transform(df[['Spending Score (1-100)']])"
   ]
  },
  {
   "cell_type": "code",
   "execution_count": 20,
   "metadata": {
    "execution": {
     "iopub.execute_input": "2024-12-31T12:44:07.190310Z",
     "iopub.status.busy": "2024-12-31T12:44:07.189969Z",
     "iopub.status.idle": "2024-12-31T12:44:07.209140Z",
     "shell.execute_reply": "2024-12-31T12:44:07.207918Z",
     "shell.execute_reply.started": "2024-12-31T12:44:07.190284Z"
    },
    "trusted": true
   },
   "outputs": [],
   "source": [
    "df.drop('CustomerID',axis=1,inplace=True)"
   ]
  },
  {
   "cell_type": "code",
   "execution_count": 21,
   "metadata": {
    "execution": {
     "iopub.execute_input": "2024-12-31T12:44:07.211034Z",
     "iopub.status.busy": "2024-12-31T12:44:07.210643Z",
     "iopub.status.idle": "2024-12-31T12:44:07.235290Z",
     "shell.execute_reply": "2024-12-31T12:44:07.233838Z",
     "shell.execute_reply.started": "2024-12-31T12:44:07.210995Z"
    },
    "trusted": true
   },
   "outputs": [
    {
     "data": {
      "text/html": [
       "<div>\n",
       "<style scoped>\n",
       "    .dataframe tbody tr th:only-of-type {\n",
       "        vertical-align: middle;\n",
       "    }\n",
       "\n",
       "    .dataframe tbody tr th {\n",
       "        vertical-align: top;\n",
       "    }\n",
       "\n",
       "    .dataframe thead th {\n",
       "        text-align: right;\n",
       "    }\n",
       "</style>\n",
       "<table border=\"1\" class=\"dataframe\">\n",
       "  <thead>\n",
       "    <tr style=\"text-align: right;\">\n",
       "      <th></th>\n",
       "      <th>Gender</th>\n",
       "      <th>Age</th>\n",
       "      <th>Annual Income (k$)</th>\n",
       "      <th>Spending Score (1-100)</th>\n",
       "    </tr>\n",
       "  </thead>\n",
       "  <tbody>\n",
       "    <tr>\n",
       "      <th>0</th>\n",
       "      <td>1</td>\n",
       "      <td>-1.424569</td>\n",
       "      <td>-1.738999</td>\n",
       "      <td>-0.434801</td>\n",
       "    </tr>\n",
       "    <tr>\n",
       "      <th>1</th>\n",
       "      <td>1</td>\n",
       "      <td>-1.281035</td>\n",
       "      <td>-1.738999</td>\n",
       "      <td>1.195704</td>\n",
       "    </tr>\n",
       "    <tr>\n",
       "      <th>2</th>\n",
       "      <td>0</td>\n",
       "      <td>-1.352802</td>\n",
       "      <td>-1.700830</td>\n",
       "      <td>-1.715913</td>\n",
       "    </tr>\n",
       "    <tr>\n",
       "      <th>3</th>\n",
       "      <td>0</td>\n",
       "      <td>-1.137502</td>\n",
       "      <td>-1.700830</td>\n",
       "      <td>1.040418</td>\n",
       "    </tr>\n",
       "    <tr>\n",
       "      <th>4</th>\n",
       "      <td>0</td>\n",
       "      <td>-0.563369</td>\n",
       "      <td>-1.662660</td>\n",
       "      <td>-0.395980</td>\n",
       "    </tr>\n",
       "    <tr>\n",
       "      <th>...</th>\n",
       "      <td>...</td>\n",
       "      <td>...</td>\n",
       "      <td>...</td>\n",
       "      <td>...</td>\n",
       "    </tr>\n",
       "    <tr>\n",
       "      <th>195</th>\n",
       "      <td>0</td>\n",
       "      <td>-0.276302</td>\n",
       "      <td>2.268791</td>\n",
       "      <td>1.118061</td>\n",
       "    </tr>\n",
       "    <tr>\n",
       "      <th>196</th>\n",
       "      <td>0</td>\n",
       "      <td>0.441365</td>\n",
       "      <td>2.497807</td>\n",
       "      <td>-0.861839</td>\n",
       "    </tr>\n",
       "    <tr>\n",
       "      <th>197</th>\n",
       "      <td>1</td>\n",
       "      <td>-0.491602</td>\n",
       "      <td>2.497807</td>\n",
       "      <td>0.923953</td>\n",
       "    </tr>\n",
       "    <tr>\n",
       "      <th>198</th>\n",
       "      <td>1</td>\n",
       "      <td>-0.491602</td>\n",
       "      <td>2.917671</td>\n",
       "      <td>-1.250054</td>\n",
       "    </tr>\n",
       "    <tr>\n",
       "      <th>199</th>\n",
       "      <td>1</td>\n",
       "      <td>-0.635135</td>\n",
       "      <td>2.917671</td>\n",
       "      <td>1.273347</td>\n",
       "    </tr>\n",
       "  </tbody>\n",
       "</table>\n",
       "<p>200 rows × 4 columns</p>\n",
       "</div>"
      ],
      "text/plain": [
       "     Gender       Age  Annual Income (k$)  Spending Score (1-100)\n",
       "0         1 -1.424569           -1.738999               -0.434801\n",
       "1         1 -1.281035           -1.738999                1.195704\n",
       "2         0 -1.352802           -1.700830               -1.715913\n",
       "3         0 -1.137502           -1.700830                1.040418\n",
       "4         0 -0.563369           -1.662660               -0.395980\n",
       "..      ...       ...                 ...                     ...\n",
       "195       0 -0.276302            2.268791                1.118061\n",
       "196       0  0.441365            2.497807               -0.861839\n",
       "197       1 -0.491602            2.497807                0.923953\n",
       "198       1 -0.491602            2.917671               -1.250054\n",
       "199       1 -0.635135            2.917671                1.273347\n",
       "\n",
       "[200 rows x 4 columns]"
      ]
     },
     "execution_count": 21,
     "metadata": {},
     "output_type": "execute_result"
    }
   ],
   "source": [
    "df"
   ]
  },
  {
   "cell_type": "code",
   "execution_count": 22,
   "metadata": {
    "execution": {
     "iopub.execute_input": "2024-12-31T12:44:07.237125Z",
     "iopub.status.busy": "2024-12-31T12:44:07.236595Z",
     "iopub.status.idle": "2024-12-31T12:44:07.255781Z",
     "shell.execute_reply": "2024-12-31T12:44:07.254532Z",
     "shell.execute_reply.started": "2024-12-31T12:44:07.237083Z"
    },
    "trusted": true
   },
   "outputs": [],
   "source": [
    "from sklearn.cluster import KMeans,DBSCAN"
   ]
  },
  {
   "cell_type": "code",
   "execution_count": 23,
   "metadata": {
    "execution": {
     "iopub.execute_input": "2024-12-31T12:44:07.258868Z",
     "iopub.status.busy": "2024-12-31T12:44:07.258447Z",
     "iopub.status.idle": "2024-12-31T12:44:07.271109Z",
     "shell.execute_reply": "2024-12-31T12:44:07.269978Z",
     "shell.execute_reply.started": "2024-12-31T12:44:07.258812Z"
    },
    "trusted": true
   },
   "outputs": [],
   "source": [
    "df_dbscan = df.copy()\n",
    "df_kmean = df.copy()"
   ]
  },
  {
   "cell_type": "code",
   "execution_count": 24,
   "metadata": {
    "execution": {
     "iopub.execute_input": "2024-12-31T12:44:07.273349Z",
     "iopub.status.busy": "2024-12-31T12:44:07.272972Z",
     "iopub.status.idle": "2024-12-31T12:44:07.576850Z",
     "shell.execute_reply": "2024-12-31T12:44:07.575593Z",
     "shell.execute_reply.started": "2024-12-31T12:44:07.273312Z"
    },
    "trusted": true
   },
   "outputs": [
    {
     "data": {
      "image/png": "[encoded data removed]",
      "text/plain": [
       "<Figure size 640x480 with 1 Axes>"
      ]
     },
     "metadata": {},
     "output_type": "display_data"
    }
   ],
   "source": [
    "from sklearn.neighbors import NearestNeighbors\n",
    "import numpy as np\n",
    "# Fit NearestNeighbors\n",
    "neighbors = NearestNeighbors(n_neighbors=5).fit(df_dbscan)\n",
    "distances, _ = neighbors.kneighbors(df_dbscan)\n",
    "\n",
    "# Sort distances for k-distance plot\n",
    "distances = np.sort(distances[:, -1])\n",
    "plt.plot(distances)\n",
    "plt.title(\"K-Distance Graph\")\n",
    "plt.xlabel(\"Points\")\n",
    "plt.ylabel(\"Distance to 5th Nearest Neighbor\")\n",
    "plt.show()"
   ]
  },
  {
   "cell_type": "code",
   "execution_count": 25,
   "metadata": {
    "execution": {
     "iopub.execute_input": "2024-12-31T12:44:07.578574Z",
     "iopub.status.busy": "2024-12-31T12:44:07.578202Z",
     "iopub.status.idle": "2024-12-31T12:44:07.589863Z",
     "shell.execute_reply": "2024-12-31T12:44:07.588656Z",
     "shell.execute_reply.started": "2024-12-31T12:44:07.578541Z"
    },
    "trusted": true
   },
   "outputs": [],
   "source": [
    "dbscan = DBSCAN(eps=0.8,min_samples=8)\n",
    "df_dbscan['Cluster'] = dbscan.fit_predict(df)"
   ]
  },
  {
   "cell_type": "code",
   "execution_count": 26,
   "metadata": {
    "execution": {
     "iopub.execute_input": "2024-12-31T12:44:07.591691Z",
     "iopub.status.busy": "2024-12-31T12:44:07.591198Z",
     "iopub.status.idle": "2024-12-31T12:44:07.615132Z",
     "shell.execute_reply": "2024-12-31T12:44:07.613416Z",
     "shell.execute_reply.started": "2024-12-31T12:44:07.591621Z"
    },
    "trusted": true
   },
   "outputs": [
    {
     "name": "stdout",
     "output_type": "stream",
     "text": [
      "Number of noise points: 52\n",
      "     Gender       Age  Annual Income (k$)  Spending Score (1-100)  Cluster\n",
      "0         1 -1.424569           -1.738999               -0.434801       -1\n",
      "1         1 -1.281035           -1.738999                1.195704       -1\n",
      "2         0 -1.352802           -1.700830               -1.715913       -1\n",
      "4         0 -0.563369           -1.662660               -0.395980       -1\n",
      "6         0 -0.276302           -1.624491               -1.715913       -1\n",
      "8         1  1.804932           -1.586321               -1.832378       -1\n",
      "10        1  2.020232           -1.586321               -1.405340       -1\n",
      "11        0 -0.276302           -1.586321                1.894492       -1\n",
      "12        0  1.374332           -1.548152               -1.366519       -1\n",
      "14        1 -0.132768           -1.548152               -1.444162       -1\n",
      "15        1 -1.209269           -1.548152                1.118061       -1\n",
      "16        0 -0.276302           -1.509983               -0.590088       -1\n",
      "17        1 -1.352802           -1.509983                0.613381       -1\n",
      "18        1  0.943732           -1.433644               -0.823017       -1\n",
      "19        0 -0.276302           -1.433644                1.855671       -1\n",
      "20        1 -0.276302           -1.395474               -0.590088       -1\n",
      "21        1 -0.993969           -1.395474                0.885132       -1\n",
      "22        0  0.513132           -1.357305               -1.754735       -1\n",
      "23        1 -0.563369           -1.357305                0.885132       -1\n",
      "25        1 -0.706902           -1.242797                1.234526       -1\n",
      "27        1 -0.276302           -1.242797                0.419273       -1\n",
      "30        1  1.517865           -1.166458               -1.793556       -1\n",
      "32        1  1.015499           -1.051949               -1.793556       -1\n",
      "33        1 -1.496335           -1.051949                1.622741       -1\n",
      "41        1 -1.065735           -0.861102                1.622741       -1\n",
      "128       1  1.446099            0.398489               -1.521805       -1\n",
      "134       1 -1.352802            0.474828               -1.754735       -1\n",
      "136       0  0.369598            0.474828               -1.677091       -1\n",
      "138       1 -1.424569            0.512997               -1.560627       -1\n",
      "140       0  1.302565            0.551167               -1.754735       -1\n",
      "144       1 -0.993969            0.627505               -1.482984       -1\n",
      "148       0 -0.348068            0.665675               -1.094768       -1\n",
      "152       0  0.369598            0.665675               -1.172411       -1\n",
      "154       0  0.584899            0.665675               -1.327697       -1\n",
      "158       1 -0.348068            0.665675               -1.910021       -1\n",
      "162       1 -1.424569            0.780183               -1.754735       -1\n",
      "168       0 -0.204535            1.009200               -0.900660       -1\n",
      "174       0  0.943732            1.047369               -1.444162       -1\n",
      "176       1  1.374332            1.047369               -1.366519       -1\n",
      "178       1  1.446099            1.238216               -1.405340       -1\n",
      "180       0 -0.132768            1.390894               -0.706552       -1\n",
      "184       0  0.154298            1.467233               -0.434801       -1\n",
      "186       0  1.087265            1.543572               -1.017125       -1\n",
      "187       1 -0.778669            1.543572                0.691024       -1\n",
      "188       0  0.154298            1.619911               -1.288876       -1\n",
      "190       0 -0.348068            1.619911               -1.055946       -1\n",
      "192       1 -0.419835            2.001605               -1.638270       -1\n",
      "194       0  0.584899            2.268791               -1.327697       -1\n",
      "196       0  0.441365            2.497807               -0.861839       -1\n",
      "197       1 -0.491602            2.497807                0.923953       -1\n",
      "198       1 -0.491602            2.917671               -1.250054       -1\n",
      "199       1 -0.635135            2.917671                1.273347       -1\n"
     ]
    }
   ],
   "source": [
    "noise_points = df_dbscan[df_dbscan['Cluster'] == -1]\n",
    "print(f\"Number of noise points: {len(noise_points)}\")\n",
    "print(noise_points)"
   ]
  },
  {
   "cell_type": "code",
   "execution_count": 27,
   "metadata": {
    "execution": {
     "iopub.execute_input": "2024-12-31T12:44:07.616691Z",
     "iopub.status.busy": "2024-12-31T12:44:07.616279Z",
     "iopub.status.idle": "2024-12-31T12:44:07.634961Z",
     "shell.execute_reply": "2024-12-31T12:44:07.633747Z",
     "shell.execute_reply.started": "2024-12-31T12:44:07.616652Z"
    },
    "trusted": true
   },
   "outputs": [
    {
     "data": {
      "text/plain": [
       "Cluster\n",
       " 0    90\n",
       "-1    52\n",
       " 1    24\n",
       " 3    15\n",
       " 2    11\n",
       " 4     8\n",
       "Name: count, dtype: int64"
      ]
     },
     "execution_count": 27,
     "metadata": {},
     "output_type": "execute_result"
    }
   ],
   "source": [
    "df_dbscan['Cluster'].value_counts()"
   ]
  },
  {
   "cell_type": "code",
   "execution_count": 28,
   "metadata": {
    "execution": {
     "iopub.execute_input": "2024-12-31T12:44:07.636561Z",
     "iopub.status.busy": "2024-12-31T12:44:07.636168Z",
     "iopub.status.idle": "2024-12-31T12:44:07.651934Z",
     "shell.execute_reply": "2024-12-31T12:44:07.650458Z",
     "shell.execute_reply.started": "2024-12-31T12:44:07.636528Z"
    },
    "trusted": true
   },
   "outputs": [
    {
     "name": "stdout",
     "output_type": "stream",
     "text": [
      "\u001b[1;31mType:\u001b[0m        DBSCAN\n",
      "\u001b[1;31mString form:\u001b[0m DBSCAN(eps=0.8, min_samples=8)\n",
      "\u001b[1;31mFile:\u001b[0m        c:\\python311\\lib\\site-packages\\sklearn\\cluster\\_dbscan.py\n",
      "\u001b[1;31mDocstring:\u001b[0m  \n",
      "Perform DBSCAN clustering from vector array or distance matrix.\n",
      "\n",
      "DBSCAN - Density-Based Spatial Clustering of Applications with Noise.\n",
      "Finds core samples of high density and expands clusters from them.\n",
      "Good for data which contains clusters of similar density.\n",
      "\n",
      "Read more in the :ref:`User Guide <dbscan>`.\n",
      "\n",
      "Parameters\n",
      "----------\n",
      "eps : float, default=0.5\n",
      "    The maximum distance between two samples for one to be considered\n",
      "    as in the neighborhood of the other. This is not a maximum bound\n",
      "    on the distances of points within a cluster. This is the most\n",
      "    important DBSCAN parameter to choose appropriately for your data set\n",
      "    and distance function.\n",
      "\n",
      "min_samples : int, default=5\n",
      "    The number of samples (or total weight) in a neighborhood for a point\n",
      "    to be considered as a core point. This includes the point itself.\n",
      "\n",
      "metric : str, or callable, default='euclidean'\n",
      "    The metric to use when calculating distance between instances in a\n",
      "    feature array. If metric is a string or callable, it must be one of\n",
      "    the options allowed by :func:`sklearn.metrics.pairwise_distances` for\n",
      "    its metric parameter.\n",
      "    If metric is \"precomputed\", X is assumed to be a distance matrix and\n",
      "    must be square. X may be a :term:`sparse graph`, in which\n",
      "    case only \"nonzero\" elements may be considered neighbors for DBSCAN.\n",
      "\n",
      "    .. versionadded:: 0.17\n",
      "       metric *precomputed* to accept precomputed sparse matrix.\n",
      "\n",
      "metric_params : dict, default=None\n",
      "    Additional keyword arguments for the metric function.\n",
      "\n",
      "    .. versionadded:: 0.19\n",
      "\n",
      "algorithm : {'auto', 'ball_tree', 'kd_tree', 'brute'}, default='auto'\n",
      "    The algorithm to be used by the NearestNeighbors module\n",
      "    to compute pointwise distances and find nearest neighbors.\n",
      "    See NearestNeighbors module documentation for details.\n",
      "\n",
      "leaf_size : int, default=30\n",
      "    Leaf size passed to BallTree or cKDTree. This can affect the speed\n",
      "    of the construction and query, as well as the memory required\n",
      "    to store the tree. The optimal value depends\n",
      "    on the nature of the problem.\n",
      "\n",
      "p : float, default=None\n",
      "    The power of the Minkowski metric to be used to calculate distance\n",
      "    between points. If None, then ``p=2`` (equivalent to the Euclidean\n",
      "    distance).\n",
      "\n",
      "n_jobs : int, default=None\n",
      "    The number of parallel jobs to run.\n",
      "    ``None`` means 1 unless in a :obj:`joblib.parallel_backend` context.\n",
      "    ``-1`` means using all processors. See :term:`Glossary <n_jobs>`\n",
      "    for more details.\n",
      "\n",
      "Attributes\n",
      "----------\n",
      "core_sample_indices_ : ndarray of shape (n_core_samples,)\n",
      "    Indices of core samples.\n",
      "\n",
      "components_ : ndarray of shape (n_core_samples, n_features)\n",
      "    Copy of each core sample found by training.\n",
      "\n",
      "labels_ : ndarray of shape (n_samples)\n",
      "    Cluster labels for each point in the dataset given to fit().\n",
      "    Noisy samples are given the label -1.\n",
      "\n",
      "n_features_in_ : int\n",
      "    Number of features seen during :term:`fit`.\n",
      "\n",
      "    .. versionadded:: 0.24\n",
      "\n",
      "feature_names_in_ : ndarray of shape (`n_features_in_`,)\n",
      "    Names of features seen during :term:`fit`. Defined only when `X`\n",
      "    has feature names that are all strings.\n",
      "\n",
      "    .. versionadded:: 1.0\n",
      "\n",
      "See Also\n",
      "--------\n",
      "OPTICS : A similar clustering at multiple values of eps. Our implementation\n",
      "    is optimized for memory usage.\n",
      "\n",
      "Notes\n",
      "-----\n",
      "For an example, see :ref:`examples/cluster/plot_dbscan.py\n",
      "<sphx_glr_auto_examples_cluster_plot_dbscan.py>`.\n",
      "\n",
      "This implementation bulk-computes all neighborhood queries, which increases\n",
      "the memory complexity to O(n.d) where d is the average number of neighbors,\n",
      "while original DBSCAN had memory complexity O(n). It may attract a higher\n",
      "memory complexity when querying these nearest neighborhoods, depending\n",
      "on the ``algorithm``.\n",
      "\n",
      "One way to avoid the query complexity is to pre-compute sparse\n",
      "neighborhoods in chunks using\n",
      ":func:`NearestNeighbors.radius_neighbors_graph\n",
      "<sklearn.neighbors.NearestNeighbors.radius_neighbors_graph>` with\n",
      "``mode='distance'``, then using ``metric='precomputed'`` here.\n",
      "\n",
      "Another way to reduce memory and computation time is to remove\n",
      "(near-)duplicate points and use ``sample_weight`` instead.\n",
      "\n",
      ":class:`cluster.OPTICS` provides a similar clustering with lower memory\n",
      "usage.\n",
      "\n",
      "References\n",
      "----------\n",
      "Ester, M., H. P. Kriegel, J. Sander, and X. Xu, `\"A Density-Based\n",
      "Algorithm for Discovering Clusters in Large Spatial Databases with Noise\"\n",
      "<https://www.aaai.org/Papers/KDD/1996/KDD96-037.pdf>`_.\n",
      "In: Proceedings of the 2nd International Conference on Knowledge Discovery\n",
      "and Data Mining, Portland, OR, AAAI Press, pp. 226-231. 1996\n",
      "\n",
      "Schubert, E., Sander, J., Ester, M., Kriegel, H. P., & Xu, X. (2017).\n",
      ":doi:`\"DBSCAN revisited, revisited: why and how you should (still) use DBSCAN.\"\n",
      "<10.1145/3068335>`\n",
      "ACM Transactions on Database Systems (TODS), 42(3), 19.\n",
      "\n",
      "Examples\n",
      "--------\n",
      ">>> from sklearn.cluster import DBSCAN\n",
      ">>> import numpy as np\n",
      ">>> X = np.array([[1, 2], [2, 2], [2, 3],\n",
      "...               [8, 7], [8, 8], [25, 80]])\n",
      ">>> clustering = DBSCAN(eps=3, min_samples=2).fit(X)\n",
      ">>> clustering.labels_\n",
      "array([ 0,  0,  0,  1,  1, -1])\n",
      ">>> clustering\n",
      "DBSCAN(eps=3, min_samples=2)"
     ]
    }
   ],
   "source": [
    "dbscan?"
   ]
  },
  {
   "cell_type": "raw",
   "metadata": {},
   "source": []
  },
  {
   "cell_type": "code",
   "execution_count": 29,
   "metadata": {
    "execution": {
     "iopub.execute_input": "2024-12-31T12:44:07.653503Z",
     "iopub.status.busy": "2024-12-31T12:44:07.653129Z",
     "iopub.status.idle": "2024-12-31T12:44:07.668667Z",
     "shell.execute_reply": "2024-12-31T12:44:07.667326Z",
     "shell.execute_reply.started": "2024-12-31T12:44:07.653468Z"
    },
    "trusted": true
   },
   "outputs": [],
   "source": [
    "from sklearn.metrics import silhouette_score"
   ]
  },
  {
   "cell_type": "code",
   "execution_count": 30,
   "metadata": {
    "execution": {
     "iopub.execute_input": "2024-12-31T12:44:07.670458Z",
     "iopub.status.busy": "2024-12-31T12:44:07.670077Z",
     "iopub.status.idle": "2024-12-31T12:44:07.695404Z",
     "shell.execute_reply": "2024-12-31T12:44:07.693828Z",
     "shell.execute_reply.started": "2024-12-31T12:44:07.670401Z"
    },
    "trusted": true
   },
   "outputs": [
    {
     "name": "stdout",
     "output_type": "stream",
     "text": [
      "Silhouette Score: 0.249355710277663\n"
     ]
    }
   ],
   "source": [
    "labels = dbscan.fit_predict(df_dbscan)\n",
    "score = silhouette_score(df_dbscan, labels)\n",
    "print(f'Silhouette Score: {score}')"
   ]
  },
  {
   "cell_type": "code",
   "execution_count": 31,
   "metadata": {
    "execution": {
     "iopub.execute_input": "2024-12-31T12:44:07.697219Z",
     "iopub.status.busy": "2024-12-31T12:44:07.696898Z",
     "iopub.status.idle": "2024-12-31T12:44:07.801968Z",
     "shell.execute_reply": "2024-12-31T12:44:07.801132Z",
     "shell.execute_reply.started": "2024-12-31T12:44:07.697179Z"
    },
    "trusted": true
   },
   "outputs": [],
   "source": [
    "wcci = []\n",
    "for i in range(1,10):\n",
    "    kmean = KMeans(n_clusters=i,n_init='auto')\n",
    "    kmean.fit(df_kmean)\n",
    "    wcci.append(kmean.inertia_) "
   ]
  },
  {
   "cell_type": "code",
   "execution_count": 32,
   "metadata": {
    "execution": {
     "iopub.execute_input": "2024-12-31T12:44:07.805625Z",
     "iopub.status.busy": "2024-12-31T12:44:07.805094Z",
     "iopub.status.idle": "2024-12-31T12:44:07.810725Z",
     "shell.execute_reply": "2024-12-31T12:44:07.809697Z",
     "shell.execute_reply.started": "2024-12-31T12:44:07.805573Z"
    },
    "trusted": true
   },
   "outputs": [],
   "source": [
    "import matplotlib.pyplot as plt"
   ]
  },
  {
   "cell_type": "code",
   "execution_count": 33,
   "metadata": {
    "execution": {
     "iopub.execute_input": "2024-12-31T12:44:07.814365Z",
     "iopub.status.busy": "2024-12-31T12:44:07.813755Z",
     "iopub.status.idle": "2024-12-31T12:44:08.073048Z",
     "shell.execute_reply": "2024-12-31T12:44:08.071627Z",
     "shell.execute_reply.started": "2024-12-31T12:44:07.814323Z"
    },
    "trusted": true
   },
   "outputs": [
    {
     "data": {
      "text/plain": [
       "[<matplotlib.lines.Line2D at 0x17feb374cd0>]"
      ]
     },
     "execution_count": 33,
     "metadata": {},
     "output_type": "execute_result"
    },
    {
     "data": {
      "image/png": "[encoded data removed]",
      "text/plain": [
       "<Figure size 640x480 with 1 Axes>"
      ]
     },
     "metadata": {},
     "output_type": "display_data"
    }
   ],
   "source": [
    "plt.plot(range(1,10),wcci)"
   ]
  },
  {
   "cell_type": "code",
   "execution_count": 34,
   "metadata": {
    "execution": {
     "iopub.execute_input": "2024-12-31T12:44:08.074893Z",
     "iopub.status.busy": "2024-12-31T12:44:08.074533Z",
     "iopub.status.idle": "2024-12-31T12:44:08.102443Z",
     "shell.execute_reply": "2024-12-31T12:44:08.101633Z",
     "shell.execute_reply.started": "2024-12-31T12:44:08.074860Z"
    },
    "trusted": true
   },
   "outputs": [],
   "source": [
    "kmean = KMeans(n_clusters=4,n_init='auto')\n",
    "kmean.fit(df_kmean)\n",
    "kmean.inertia_\n",
    "df_kmean['Cluster'] = kmean.predict(df_kmean)"
   ]
  },
  {
   "cell_type": "code",
   "execution_count": 35,
   "metadata": {
    "execution": {
     "iopub.execute_input": "2024-12-31T12:44:08.103606Z",
     "iopub.status.busy": "2024-12-31T12:44:08.103314Z",
     "iopub.status.idle": "2024-12-31T12:44:08.133230Z",
     "shell.execute_reply": "2024-12-31T12:44:08.132220Z",
     "shell.execute_reply.started": "2024-12-31T12:44:08.103579Z"
    },
    "trusted": true
   },
   "outputs": [
    {
     "name": "stdout",
     "output_type": "stream",
     "text": [
      "Silhouette Score: 0.37526313047464854\n"
     ]
    }
   ],
   "source": [
    "labels = kmean.fit_predict(df_kmean)\n",
    "score = silhouette_score(df_kmean, labels)\n",
    "print(f'Silhouette Score: {score}')"
   ]
  },
  {
   "cell_type": "code",
   "execution_count": 36,
   "metadata": {
    "execution": {
     "iopub.execute_input": "2024-12-31T12:44:08.134324Z",
     "iopub.status.busy": "2024-12-31T12:44:08.134038Z",
     "iopub.status.idle": "2024-12-31T12:44:08.157703Z",
     "shell.execute_reply": "2024-12-31T12:44:08.156552Z",
     "shell.execute_reply.started": "2024-12-31T12:44:08.134298Z"
    },
    "trusted": true
   },
   "outputs": [],
   "source": [
    "cluster_summary = df_kmean.groupby('Cluster').agg({'Spending Score (1-100)':['mean','median','count']}).reset_index()"
   ]
  },
  {
   "cell_type": "code",
   "execution_count": 37,
   "metadata": {
    "execution": {
     "iopub.execute_input": "2024-12-31T12:44:08.159007Z",
     "iopub.status.busy": "2024-12-31T12:44:08.158690Z",
     "iopub.status.idle": "2024-12-31T12:44:08.173468Z",
     "shell.execute_reply": "2024-12-31T12:44:08.172228Z",
     "shell.execute_reply.started": "2024-12-31T12:44:08.158965Z"
    },
    "trusted": true
   },
   "outputs": [],
   "source": [
    "cluster_summary.columns = ['Cluster', 'Avg_Spending', 'Median_Spending', 'Customer_Count']\n"
   ]
  },
  {
   "cell_type": "code",
   "execution_count": 38,
   "metadata": {
    "execution": {
     "iopub.execute_input": "2024-12-31T12:44:08.174985Z",
     "iopub.status.busy": "2024-12-31T12:44:08.174637Z",
     "iopub.status.idle": "2024-12-31T12:44:08.198092Z",
     "shell.execute_reply": "2024-12-31T12:44:08.196179Z",
     "shell.execute_reply.started": "2024-12-31T12:44:08.174944Z"
    },
    "trusted": true
   },
   "outputs": [
    {
     "data": {
      "text/html": [
       "<div>\n",
       "<style scoped>\n",
       "    .dataframe tbody tr th:only-of-type {\n",
       "        vertical-align: middle;\n",
       "    }\n",
       "\n",
       "    .dataframe tbody tr th {\n",
       "        vertical-align: top;\n",
       "    }\n",
       "\n",
       "    .dataframe thead th {\n",
       "        text-align: right;\n",
       "    }\n",
       "</style>\n",
       "<table border=\"1\" class=\"dataframe\">\n",
       "  <thead>\n",
       "    <tr style=\"text-align: right;\">\n",
       "      <th></th>\n",
       "      <th>Cluster</th>\n",
       "      <th>Avg_Spending</th>\n",
       "      <th>Median_Spending</th>\n",
       "      <th>Customer_Count</th>\n",
       "    </tr>\n",
       "  </thead>\n",
       "  <tbody>\n",
       "    <tr>\n",
       "      <th>0</th>\n",
       "      <td>0</td>\n",
       "      <td>0.392030</td>\n",
       "      <td>0.225165</td>\n",
       "      <td>57</td>\n",
       "    </tr>\n",
       "    <tr>\n",
       "      <th>1</th>\n",
       "      <td>1</td>\n",
       "      <td>-0.379602</td>\n",
       "      <td>-0.163051</td>\n",
       "      <td>64</td>\n",
       "    </tr>\n",
       "    <tr>\n",
       "      <th>2</th>\n",
       "      <td>2</td>\n",
       "      <td>-1.197297</td>\n",
       "      <td>-1.288876</td>\n",
       "      <td>39</td>\n",
       "    </tr>\n",
       "    <tr>\n",
       "      <th>3</th>\n",
       "      <td>3</td>\n",
       "      <td>1.216085</td>\n",
       "      <td>1.273347</td>\n",
       "      <td>40</td>\n",
       "    </tr>\n",
       "  </tbody>\n",
       "</table>\n",
       "</div>"
      ],
      "text/plain": [
       "   Cluster  Avg_Spending  Median_Spending  Customer_Count\n",
       "0        0      0.392030         0.225165              57\n",
       "1        1     -0.379602        -0.163051              64\n",
       "2        2     -1.197297        -1.288876              39\n",
       "3        3      1.216085         1.273347              40"
      ]
     },
     "execution_count": 38,
     "metadata": {},
     "output_type": "execute_result"
    }
   ],
   "source": [
    "cluster_summary"
   ]
  },
  {
   "cell_type": "code",
   "execution_count": 39,
   "metadata": {
    "execution": {
     "iopub.execute_input": "2024-12-31T12:44:08.199836Z",
     "iopub.status.busy": "2024-12-31T12:44:08.199365Z",
     "iopub.status.idle": "2024-12-31T12:44:08.212815Z",
     "shell.execute_reply": "2024-12-31T12:44:08.211513Z",
     "shell.execute_reply.started": "2024-12-31T12:44:08.199795Z"
    },
    "trusted": true
   },
   "outputs": [],
   "source": [
    "def group_cluster(x):\n",
    "    if x <= -1.1:\n",
    "        return 'No Priority'\n",
    "    elif x <= -0.3:\n",
    "        return 'Less Priority'\n",
    "    elif x <= 0.392030:\n",
    "        return 'Normal'\n",
    "    else:\n",
    "        return 'Premium'"
   ]
  },
  {
   "cell_type": "code",
   "execution_count": 40,
   "metadata": {
    "execution": {
     "iopub.execute_input": "2024-12-31T12:44:08.214288Z",
     "iopub.status.busy": "2024-12-31T12:44:08.213962Z",
     "iopub.status.idle": "2024-12-31T12:44:08.233227Z",
     "shell.execute_reply": "2024-12-31T12:44:08.232122Z",
     "shell.execute_reply.started": "2024-12-31T12:44:08.214264Z"
    },
    "trusted": true
   },
   "outputs": [],
   "source": [
    "cluster_summary['Cluster_group'] = cluster_summary['Avg_Spending'].apply(group_cluster)"
   ]
  },
  {
   "cell_type": "code",
   "execution_count": 41,
   "metadata": {
    "execution": {
     "iopub.execute_input": "2024-12-31T12:44:08.235119Z",
     "iopub.status.busy": "2024-12-31T12:44:08.234614Z",
     "iopub.status.idle": "2024-12-31T12:44:08.253747Z",
     "shell.execute_reply": "2024-12-31T12:44:08.252540Z",
     "shell.execute_reply.started": "2024-12-31T12:44:08.235087Z"
    },
    "trusted": true
   },
   "outputs": [
    {
     "data": {
      "text/html": [
       "<div>\n",
       "<style scoped>\n",
       "    .dataframe tbody tr th:only-of-type {\n",
       "        vertical-align: middle;\n",
       "    }\n",
       "\n",
       "    .dataframe tbody tr th {\n",
       "        vertical-align: top;\n",
       "    }\n",
       "\n",
       "    .dataframe thead th {\n",
       "        text-align: right;\n",
       "    }\n",
       "</style>\n",
       "<table border=\"1\" class=\"dataframe\">\n",
       "  <thead>\n",
       "    <tr style=\"text-align: right;\">\n",
       "      <th></th>\n",
       "      <th>Cluster</th>\n",
       "      <th>Avg_Spending</th>\n",
       "      <th>Median_Spending</th>\n",
       "      <th>Customer_Count</th>\n",
       "      <th>Cluster_group</th>\n",
       "    </tr>\n",
       "  </thead>\n",
       "  <tbody>\n",
       "    <tr>\n",
       "      <th>0</th>\n",
       "      <td>0</td>\n",
       "      <td>0.392030</td>\n",
       "      <td>0.225165</td>\n",
       "      <td>57</td>\n",
       "      <td>Normal</td>\n",
       "    </tr>\n",
       "    <tr>\n",
       "      <th>1</th>\n",
       "      <td>1</td>\n",
       "      <td>-0.379602</td>\n",
       "      <td>-0.163051</td>\n",
       "      <td>64</td>\n",
       "      <td>Less Priority</td>\n",
       "    </tr>\n",
       "    <tr>\n",
       "      <th>2</th>\n",
       "      <td>2</td>\n",
       "      <td>-1.197297</td>\n",
       "      <td>-1.288876</td>\n",
       "      <td>39</td>\n",
       "      <td>No Priority</td>\n",
       "    </tr>\n",
       "    <tr>\n",
       "      <th>3</th>\n",
       "      <td>3</td>\n",
       "      <td>1.216085</td>\n",
       "      <td>1.273347</td>\n",
       "      <td>40</td>\n",
       "      <td>Premium</td>\n",
       "    </tr>\n",
       "  </tbody>\n",
       "</table>\n",
       "</div>"
      ],
      "text/plain": [
       "   Cluster  Avg_Spending  Median_Spending  Customer_Count  Cluster_group\n",
       "0        0      0.392030         0.225165              57         Normal\n",
       "1        1     -0.379602        -0.163051              64  Less Priority\n",
       "2        2     -1.197297        -1.288876              39    No Priority\n",
       "3        3      1.216085         1.273347              40        Premium"
      ]
     },
     "execution_count": 41,
     "metadata": {},
     "output_type": "execute_result"
    }
   ],
   "source": [
    "cluster_summary"
   ]
  },
  {
   "cell_type": "code",
   "execution_count": 42,
   "metadata": {
    "execution": {
     "iopub.execute_input": "2024-12-31T12:44:08.255219Z",
     "iopub.status.busy": "2024-12-31T12:44:08.254881Z",
     "iopub.status.idle": "2024-12-31T12:44:08.283346Z",
     "shell.execute_reply": "2024-12-31T12:44:08.281906Z",
     "shell.execute_reply.started": "2024-12-31T12:44:08.255188Z"
    },
    "trusted": true
   },
   "outputs": [
    {
     "data": {
      "text/html": [
       "<div>\n",
       "<style scoped>\n",
       "    .dataframe tbody tr th:only-of-type {\n",
       "        vertical-align: middle;\n",
       "    }\n",
       "\n",
       "    .dataframe tbody tr th {\n",
       "        vertical-align: top;\n",
       "    }\n",
       "\n",
       "    .dataframe thead th {\n",
       "        text-align: right;\n",
       "    }\n",
       "</style>\n",
       "<table border=\"1\" class=\"dataframe\">\n",
       "  <thead>\n",
       "    <tr style=\"text-align: right;\">\n",
       "      <th></th>\n",
       "      <th>Gender</th>\n",
       "      <th>Age</th>\n",
       "      <th>Annual Income (k$)</th>\n",
       "      <th>Spending Score (1-100)</th>\n",
       "      <th>Cluster</th>\n",
       "      <th>Avg_Spending</th>\n",
       "      <th>Median_Spending</th>\n",
       "      <th>Customer_Count</th>\n",
       "      <th>Cluster_group</th>\n",
       "    </tr>\n",
       "  </thead>\n",
       "  <tbody>\n",
       "    <tr>\n",
       "      <th>0</th>\n",
       "      <td>1</td>\n",
       "      <td>-1.424569</td>\n",
       "      <td>-1.738999</td>\n",
       "      <td>-0.434801</td>\n",
       "      <td>0</td>\n",
       "      <td>0.392030</td>\n",
       "      <td>0.225165</td>\n",
       "      <td>57</td>\n",
       "      <td>Normal</td>\n",
       "    </tr>\n",
       "    <tr>\n",
       "      <th>1</th>\n",
       "      <td>1</td>\n",
       "      <td>-1.281035</td>\n",
       "      <td>-1.738999</td>\n",
       "      <td>1.195704</td>\n",
       "      <td>0</td>\n",
       "      <td>0.392030</td>\n",
       "      <td>0.225165</td>\n",
       "      <td>57</td>\n",
       "      <td>Normal</td>\n",
       "    </tr>\n",
       "    <tr>\n",
       "      <th>2</th>\n",
       "      <td>0</td>\n",
       "      <td>-1.352802</td>\n",
       "      <td>-1.700830</td>\n",
       "      <td>-1.715913</td>\n",
       "      <td>0</td>\n",
       "      <td>0.392030</td>\n",
       "      <td>0.225165</td>\n",
       "      <td>57</td>\n",
       "      <td>Normal</td>\n",
       "    </tr>\n",
       "    <tr>\n",
       "      <th>3</th>\n",
       "      <td>0</td>\n",
       "      <td>-1.137502</td>\n",
       "      <td>-1.700830</td>\n",
       "      <td>1.040418</td>\n",
       "      <td>0</td>\n",
       "      <td>0.392030</td>\n",
       "      <td>0.225165</td>\n",
       "      <td>57</td>\n",
       "      <td>Normal</td>\n",
       "    </tr>\n",
       "    <tr>\n",
       "      <th>4</th>\n",
       "      <td>0</td>\n",
       "      <td>-0.563369</td>\n",
       "      <td>-1.662660</td>\n",
       "      <td>-0.395980</td>\n",
       "      <td>0</td>\n",
       "      <td>0.392030</td>\n",
       "      <td>0.225165</td>\n",
       "      <td>57</td>\n",
       "      <td>Normal</td>\n",
       "    </tr>\n",
       "    <tr>\n",
       "      <th>...</th>\n",
       "      <td>...</td>\n",
       "      <td>...</td>\n",
       "      <td>...</td>\n",
       "      <td>...</td>\n",
       "      <td>...</td>\n",
       "      <td>...</td>\n",
       "      <td>...</td>\n",
       "      <td>...</td>\n",
       "      <td>...</td>\n",
       "    </tr>\n",
       "    <tr>\n",
       "      <th>195</th>\n",
       "      <td>0</td>\n",
       "      <td>-0.276302</td>\n",
       "      <td>2.268791</td>\n",
       "      <td>1.118061</td>\n",
       "      <td>3</td>\n",
       "      <td>1.216085</td>\n",
       "      <td>1.273347</td>\n",
       "      <td>40</td>\n",
       "      <td>Premium</td>\n",
       "    </tr>\n",
       "    <tr>\n",
       "      <th>196</th>\n",
       "      <td>0</td>\n",
       "      <td>0.441365</td>\n",
       "      <td>2.497807</td>\n",
       "      <td>-0.861839</td>\n",
       "      <td>2</td>\n",
       "      <td>-1.197297</td>\n",
       "      <td>-1.288876</td>\n",
       "      <td>39</td>\n",
       "      <td>No Priority</td>\n",
       "    </tr>\n",
       "    <tr>\n",
       "      <th>197</th>\n",
       "      <td>1</td>\n",
       "      <td>-0.491602</td>\n",
       "      <td>2.497807</td>\n",
       "      <td>0.923953</td>\n",
       "      <td>3</td>\n",
       "      <td>1.216085</td>\n",
       "      <td>1.273347</td>\n",
       "      <td>40</td>\n",
       "      <td>Premium</td>\n",
       "    </tr>\n",
       "    <tr>\n",
       "      <th>198</th>\n",
       "      <td>1</td>\n",
       "      <td>-0.491602</td>\n",
       "      <td>2.917671</td>\n",
       "      <td>-1.250054</td>\n",
       "      <td>2</td>\n",
       "      <td>-1.197297</td>\n",
       "      <td>-1.288876</td>\n",
       "      <td>39</td>\n",
       "      <td>No Priority</td>\n",
       "    </tr>\n",
       "    <tr>\n",
       "      <th>199</th>\n",
       "      <td>1</td>\n",
       "      <td>-0.635135</td>\n",
       "      <td>2.917671</td>\n",
       "      <td>1.273347</td>\n",
       "      <td>3</td>\n",
       "      <td>1.216085</td>\n",
       "      <td>1.273347</td>\n",
       "      <td>40</td>\n",
       "      <td>Premium</td>\n",
       "    </tr>\n",
       "  </tbody>\n",
       "</table>\n",
       "<p>200 rows × 9 columns</p>\n",
       "</div>"
      ],
      "text/plain": [
       "     Gender       Age  Annual Income (k$)  Spending Score (1-100)  Cluster  \\\n",
       "0         1 -1.424569           -1.738999               -0.434801        0   \n",
       "1         1 -1.281035           -1.738999                1.195704        0   \n",
       "2         0 -1.352802           -1.700830               -1.715913        0   \n",
       "3         0 -1.137502           -1.700830                1.040418        0   \n",
       "4         0 -0.563369           -1.662660               -0.395980        0   \n",
       "..      ...       ...                 ...                     ...      ...   \n",
       "195       0 -0.276302            2.268791                1.118061        3   \n",
       "196       0  0.441365            2.497807               -0.861839        2   \n",
       "197       1 -0.491602            2.497807                0.923953        3   \n",
       "198       1 -0.491602            2.917671               -1.250054        2   \n",
       "199       1 -0.635135            2.917671                1.273347        3   \n",
       "\n",
       "     Avg_Spending  Median_Spending  Customer_Count Cluster_group  \n",
       "0        0.392030         0.225165              57        Normal  \n",
       "1        0.392030         0.225165              57        Normal  \n",
       "2        0.392030         0.225165              57        Normal  \n",
       "3        0.392030         0.225165              57        Normal  \n",
       "4        0.392030         0.225165              57        Normal  \n",
       "..            ...              ...             ...           ...  \n",
       "195      1.216085         1.273347              40       Premium  \n",
       "196     -1.197297        -1.288876              39   No Priority  \n",
       "197      1.216085         1.273347              40       Premium  \n",
       "198     -1.197297        -1.288876              39   No Priority  \n",
       "199      1.216085         1.273347              40       Premium  \n",
       "\n",
       "[200 rows x 9 columns]"
      ]
     },
     "execution_count": 42,
     "metadata": {},
     "output_type": "execute_result"
    }
   ],
   "source": [
    "df_kmean = df_kmean.merge(cluster_summary, on='Cluster', how='left')\n",
    "df_kmean"
   ]
  },
  {
   "cell_type": "code",
   "execution_count": 43,
   "metadata": {
    "execution": {
     "iopub.execute_input": "2024-12-31T12:44:08.285234Z",
     "iopub.status.busy": "2024-12-31T12:44:08.284783Z",
     "iopub.status.idle": "2024-12-31T12:44:08.304061Z",
     "shell.execute_reply": "2024-12-31T12:44:08.302886Z",
     "shell.execute_reply.started": "2024-12-31T12:44:08.285198Z"
    },
    "trusted": true
   },
   "outputs": [
    {
     "data": {
      "text/html": [
       "<div>\n",
       "<style scoped>\n",
       "    .dataframe tbody tr th:only-of-type {\n",
       "        vertical-align: middle;\n",
       "    }\n",
       "\n",
       "    .dataframe tbody tr th {\n",
       "        vertical-align: top;\n",
       "    }\n",
       "\n",
       "    .dataframe thead th {\n",
       "        text-align: right;\n",
       "    }\n",
       "</style>\n",
       "<table border=\"1\" class=\"dataframe\">\n",
       "  <thead>\n",
       "    <tr style=\"text-align: right;\">\n",
       "      <th></th>\n",
       "      <th>Cluster</th>\n",
       "      <th>Avg_Spending</th>\n",
       "      <th>Median_Spending</th>\n",
       "      <th>Customer_Count</th>\n",
       "      <th>Cluster_group</th>\n",
       "    </tr>\n",
       "  </thead>\n",
       "  <tbody>\n",
       "    <tr>\n",
       "      <th>0</th>\n",
       "      <td>0</td>\n",
       "      <td>0.392030</td>\n",
       "      <td>0.225165</td>\n",
       "      <td>57</td>\n",
       "      <td>Normal</td>\n",
       "    </tr>\n",
       "    <tr>\n",
       "      <th>1</th>\n",
       "      <td>1</td>\n",
       "      <td>-0.379602</td>\n",
       "      <td>-0.163051</td>\n",
       "      <td>64</td>\n",
       "      <td>Less Priority</td>\n",
       "    </tr>\n",
       "    <tr>\n",
       "      <th>2</th>\n",
       "      <td>2</td>\n",
       "      <td>-1.197297</td>\n",
       "      <td>-1.288876</td>\n",
       "      <td>39</td>\n",
       "      <td>No Priority</td>\n",
       "    </tr>\n",
       "    <tr>\n",
       "      <th>3</th>\n",
       "      <td>3</td>\n",
       "      <td>1.216085</td>\n",
       "      <td>1.273347</td>\n",
       "      <td>40</td>\n",
       "      <td>Premium</td>\n",
       "    </tr>\n",
       "  </tbody>\n",
       "</table>\n",
       "</div>"
      ],
      "text/plain": [
       "   Cluster  Avg_Spending  Median_Spending  Customer_Count  Cluster_group\n",
       "0        0      0.392030         0.225165              57         Normal\n",
       "1        1     -0.379602        -0.163051              64  Less Priority\n",
       "2        2     -1.197297        -1.288876              39    No Priority\n",
       "3        3      1.216085         1.273347              40        Premium"
      ]
     },
     "execution_count": 43,
     "metadata": {},
     "output_type": "execute_result"
    }
   ],
   "source": [
    "cluster_summary"
   ]
  },
  {
   "cell_type": "code",
   "execution_count": 44,
   "metadata": {
    "execution": {
     "iopub.execute_input": "2024-12-31T12:44:08.305837Z",
     "iopub.status.busy": "2024-12-31T12:44:08.305413Z",
     "iopub.status.idle": "2024-12-31T12:44:08.545443Z",
     "shell.execute_reply": "2024-12-31T12:44:08.544215Z",
     "shell.execute_reply.started": "2024-12-31T12:44:08.305798Z"
    },
    "trusted": true
   },
   "outputs": [
    {
     "data": {
      "image/png": "[encoded data removed]",
      "text/plain": [
       "<Figure size 640x480 with 1 Axes>"
      ]
     },
     "metadata": {},
     "output_type": "display_data"
    }
   ],
   "source": [
    "import seaborn as sns\n",
    "import matplotlib.pyplot as plt\n",
    "\n",
    "# Bar plot of spending by cluster\n",
    "sns.barplot(x='Cluster', y='Avg_Spending', data=cluster_summary)\n",
    "plt.title('Average Spending by Cluster')\n",
    "plt.xlabel('Cluster')\n",
    "plt.ylabel('Average Spending')\n",
    "plt.show()\n"
   ]
  },
  {
   "cell_type": "code",
   "execution_count": null,
   "metadata": {
    "trusted": true
   },
   "outputs": [],
   "source": []
  }
 ],
 "metadata": {
  "kaggle": {
   "accelerator": "none",
   "dataSources": [
    {
     "datasetId": 42674,
     "sourceId": 74935,
     "sourceType": "datasetVersion"
    }
   ],
   "dockerImageVersionId": 30822,
   "isGpuEnabled": false,
   "isInternetEnabled": true,
   "language": "python",
   "sourceType": "notebook"
  },
  "kernelspec": {
   "display_name": "Python 3",
   "language": "python",
   "name": "python3"
  },
  "language_info": {
   "codemirror_mode": {
    "name": "ipython",
    "version": 3
   },
   "file_extension": ".py",
   "mimetype": "text/x-python",
   "name": "python",
   "nbconvert_exporter": "python",
   "pygments_lexer": "ipython3",
   "version": "3.11.3"
  }
 },
 "nbformat": 4,
 "nbformat_minor": 4
}
