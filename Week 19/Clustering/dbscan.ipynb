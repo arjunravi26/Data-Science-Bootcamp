{
 "cells": [
  {
   "cell_type": "markdown",
   "metadata": {},
   "source": [
    "## DBSCAN: Density-Based Spatial Clustering of Applications with Noise"
   ]
  },
  {
   "cell_type": "markdown",
   "metadata": {},
   "source": [
    "The key idea behind DBSCAN is to group points that are within a certain distance of each other into a cluster. Points that do not meet this density criterion are treated as noise or outliers.\n",
    "\n"
   ]
  },
  {
   "cell_type": "markdown",
   "metadata": {},
   "source": [
    "DBSCAN relies on three main concepts:\n",
    "\n",
    "1. ε (epsilon radius):\n",
    "\n",
    "* A predefined radius within which DBSCAN looks for neighboring points.\n",
    "* This parameter controls the \"neighborhood size.\"\n",
    "\n",
    "2. MinPts (minimum points):\n",
    "\n",
    "* The minimum number of data points required to form a dense region.\n",
    "* A region is considered dense if it contains at least MinPts within the radius ε.\n",
    "\n",
    "3. Density Types of Points:\n",
    "\n",
    "* Core Points: Points that have at least MinPts neighbors (including itself) within the radius ε.\n",
    "* Border Points: Points that are within the ε radius of a core point but do not themselves have enough points within ε to qualify as a core point.\n",
    "Noise Points (Outliers): Points that are neither core points nor border points."
   ]
  },
  {
   "cell_type": "markdown",
   "metadata": {},
   "source": [
    "**Advantages of DBSCAN**\n",
    "1. Automatic Outlier Detection:\n",
    "* DBSCAN automatically labels points that don't belong to any cluster as noise, making it highly robust to outliers.\n",
    "\n",
    "2. Clusters of Arbitrary Shapes:\n",
    "* Unlike K-Means, which forms spherical clusters, DBSCAN can identify clusters of arbitrary shapes (e.g., elongated, curved).\n",
    "No Need to Predefine Number of Clusters:\n",
    "* DBSCAN eliminates the need to specify the number of clusters beforehand, unlike K-Means.\n",
    "\n",
    "3. Density-Based Clustering:\n",
    "* DBSCAN adapts well to datasets with varying densities by focusing on dense regions."
   ]
  },
  {
   "cell_type": "markdown",
   "metadata": {},
   "source": []
  }
 ],
 "metadata": {
  "language_info": {
   "name": "python"
  }
 },
 "nbformat": 4,
 "nbformat_minor": 2
}
