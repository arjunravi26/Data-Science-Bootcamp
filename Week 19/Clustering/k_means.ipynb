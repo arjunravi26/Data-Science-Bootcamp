{
 "cells": [
  {
   "cell_type": "markdown",
   "metadata": {},
   "source": [
    "# **K Means Clustering**"
   ]
  },
  {
   "cell_type": "markdown",
   "metadata": {},
   "source": [
    "K-Means is one of the simplest and most widely used clustering algorithms in unsupervised learning. It is used to partition a dataset into K distinct clusters based on their features. Unlike supervised learning, where we have labeled data, clustering attempts to group data points into similar groups without prior labels.\n",
    "\n"
   ]
  },
  {
   "cell_type": "markdown",
   "metadata": {},
   "source": [
    "* Cluster Assignment: Assign each data point to the closest cluster centroid.\n",
    "* Centroid Update: Update the cluster centroids to be the mean of the data points assigned to them. <br>\n",
    "These steps repeat until the centroids stabilize (i.e., they don’t change significantly) or a maximum number of iterations is reached."
   ]
  },
  {
   "cell_type": "markdown",
   "metadata": {},
   "source": [
    "K-Means minimizes the Within-Cluster Sum of Squares (WCSS), also known as the inertia:"
   ]
  },
  {
   "cell_type": "markdown",
   "metadata": {},
   "source": [
    "**Challenges and Limitations** <br>\n",
    "\n",
    "Choosing \n",
    "K: The number of clusters \n",
    "K must be chosen beforehand.\n",
    "Methods like the elbow method or silhouette score can help determine the optimal \n",
    "K. <br>\n",
    "\n",
    "Random Initialization:Poor initialization can lead to suboptimal solutions.\n",
    "Use K-Means++ initialization to improve the chances of convergence to a better solution. <br>\n",
    "\n",
    "Sensitive to Outliers: Outliers can skew the centroids since K-Means uses the mean to update centroids. <br>\n",
    "\n",
    "Non-Spherical Clusters:K-Means assumes clusters are roughly spherical and of similar size. If clusters are elongated or vary significantly in size, K-Means may not perform well."
   ]
  },
  {
   "cell_type": "markdown",
   "metadata": {},
   "source": [
    "Advantage\n",
    "* Simple and Fast: It’s computationally efficient and easy to understand.\n",
    "* Scalable: Works well for large datasets.\n",
    "* General Purpose: Can be applied to a wide range of problems.\n"
   ]
  },
  {
   "cell_type": "markdown",
   "metadata": {},
   "source": [
    "When to stop?\n",
    "* Centroids Converge: The centroids do not move significantly between iterations.\n",
    "* Maximum Iterations: The algorithm reaches the predefined maximum number of iterations.\n",
    "* Change in Inertia: The decrease in inertia (sum of squared distances) between iterations is below a threshold.\n"
   ]
  },
  {
   "cell_type": "markdown",
   "metadata": {},
   "source": [
    "## Scratch Implementation"
   ]
  },
  {
   "cell_type": "markdown",
   "metadata": {},
   "source": [
    "* Create class K-mean\n",
    "* Create constructor with parameter K(no of clusters) and initalize clusters and lables\n",
    "* Input train_data as X using fit method\n",
    "* Find labels with respect to cluster for each data point\n",
    "* repeat until find best cluster"
   ]
  },
  {
   "cell_type": "code",
   "execution_count": 18,
   "metadata": {},
   "outputs": [],
   "source": [
    "import numpy as np"
   ]
  },
  {
   "cell_type": "code",
   "execution_count": 19,
   "metadata": {},
   "outputs": [],
   "source": [
    "a = np.array([[1,2,3,4],[4,5,6,5],[4,57,0,1]])\n",
    "b = np.array([[4,5,6,2],[6,7,8,4],[7,79,0,4],[3,4,5,2]])\n",
    "a = a[:,np.newaxis,:]\n",
    "d = a - b"
   ]
  },
  {
   "cell_type": "code",
   "execution_count": 20,
   "metadata": {},
   "outputs": [
    {
     "data": {
      "text/plain": [
       "(3, 4, 4)"
      ]
     },
     "execution_count": 20,
     "metadata": {},
     "output_type": "execute_result"
    }
   ],
   "source": [
    "d.shape"
   ]
  },
  {
   "cell_type": "code",
   "execution_count": 21,
   "metadata": {},
   "outputs": [
    {
     "data": {
      "text/plain": [
       "array([[[ -3,  -3,  -3,   2],\n",
       "        [ -5,  -5,  -5,   0],\n",
       "        [ -6, -77,   3,   0],\n",
       "        [ -2,  -2,  -2,   2]],\n",
       "\n",
       "       [[  0,   0,   0,   3],\n",
       "        [ -2,  -2,  -2,   1],\n",
       "        [ -3, -74,   6,   1],\n",
       "        [  1,   1,   1,   3]],\n",
       "\n",
       "       [[  0,  52,  -6,  -1],\n",
       "        [ -2,  50,  -8,  -3],\n",
       "        [ -3, -22,   0,  -3],\n",
       "        [  1,  53,  -5,  -1]]])"
      ]
     },
     "execution_count": 21,
     "metadata": {},
     "output_type": "execute_result"
    }
   ],
   "source": [
    "d"
   ]
  },
  {
   "cell_type": "code",
   "execution_count": 22,
   "metadata": {},
   "outputs": [
    {
     "data": {
      "text/plain": [
       "array([[ -7, -15, -80,  -4],\n",
       "       [  3,  -5, -70,   6],\n",
       "       [ 45,  37, -28,  48]])"
      ]
     },
     "execution_count": 22,
     "metadata": {},
     "output_type": "execute_result"
    }
   ],
   "source": [
    "d.sum(axis=2)"
   ]
  },
  {
   "cell_type": "code",
   "execution_count": 23,
   "metadata": {},
   "outputs": [
    {
     "data": {
      "text/plain": [
       "array([2, 2, 2, 2], dtype=int64)"
      ]
     },
     "execution_count": 23,
     "metadata": {},
     "output_type": "execute_result"
    }
   ],
   "source": [
    "d.sum(axis=2).argmax(axis=0)"
   ]
  },
  {
   "cell_type": "code",
   "execution_count": 24,
   "metadata": {},
   "outputs": [
    {
     "data": {
      "text/plain": [
       "array([[ -3,  -3,  -3,   2],\n",
       "       [ -5,  -5,  -5,   0],\n",
       "       [ -6, -77,   3,   0],\n",
       "       [ -2,  -2,  -2,   2]])"
      ]
     },
     "execution_count": 24,
     "metadata": {},
     "output_type": "execute_result"
    }
   ],
   "source": [
    "d[0,:,:]"
   ]
  },
  {
   "cell_type": "code",
   "execution_count": 25,
   "metadata": {},
   "outputs": [
    {
     "data": {
      "text/plain": [
       "array([[-3, -3, -3,  2],\n",
       "       [ 0,  0,  0,  3],\n",
       "       [ 0, 52, -6, -1]])"
      ]
     },
     "execution_count": 25,
     "metadata": {},
     "output_type": "execute_result"
    }
   ],
   "source": [
    "d[:,0,:]"
   ]
  },
  {
   "cell_type": "code",
   "execution_count": 26,
   "metadata": {},
   "outputs": [
    {
     "data": {
      "text/plain": [
       "array([[-3, -5, -6, -2],\n",
       "       [ 0, -2, -3,  1],\n",
       "       [ 0, -2, -3,  1]])"
      ]
     },
     "execution_count": 26,
     "metadata": {},
     "output_type": "execute_result"
    }
   ],
   "source": [
    "d[:,:,0]"
   ]
  },
  {
   "cell_type": "code",
   "execution_count": 27,
   "metadata": {},
   "outputs": [
    {
     "data": {
      "text/plain": [
       "array([[3, 3, 2, 3],\n",
       "       [3, 3, 2, 3],\n",
       "       [1, 1, 2, 1]], dtype=int64)"
      ]
     },
     "execution_count": 27,
     "metadata": {},
     "output_type": "execute_result"
    }
   ],
   "source": [
    "d.argmax(axis=2)"
   ]
  },
  {
   "cell_type": "markdown",
   "metadata": {},
   "source": [
    "## Inbuilt method"
   ]
  },
  {
   "cell_type": "code",
   "execution_count": 34,
   "metadata": {},
   "outputs": [],
   "source": [
    "from sklearn.cluster import KMeans\n",
    "from sklearn.datasets import make_blobs\n",
    "from sklearn.model_selection import train_test_split\n",
    "from sklearn.metrics import silhouette_score\n",
    "import matplotlib.pyplot as plt"
   ]
  },
  {
   "cell_type": "code",
   "execution_count": 29,
   "metadata": {},
   "outputs": [],
   "source": [
    "X,y = make_blobs(n_features=4,n_samples=1000)"
   ]
  },
  {
   "cell_type": "code",
   "execution_count": 30,
   "metadata": {},
   "outputs": [
    {
     "data": {
      "text/plain": [
       "(array([[ 9.27966557, -9.85553479, -8.51395807,  6.68504416],\n",
       "        [ 9.91677848,  3.31632275,  6.18799175, -8.2829507 ],\n",
       "        [ 6.08213812,  3.73214675,  5.92148299, -8.94252636],\n",
       "        ...,\n",
       "        [ 7.15842988,  2.26403378,  7.20107541, -9.43033147],\n",
       "        [ 8.7819988 , -9.89408866, -9.86062536,  5.83241458],\n",
       "        [ 5.35573041,  2.65377422,  5.73442109, -8.98513649]]),\n",
       " array([1, 2, 2, 1, 2, 1, 2, 1, 1, 0, 1, 0, 2, 0, 1, 0, 0, 0, 0, 0, 0, 2,\n",
       "        1, 1, 2, 2, 1, 0, 2, 1, 1, 2, 1, 2, 1, 1, 2, 2, 1, 0, 0, 1, 1, 1,\n",
       "        0, 0, 0, 2, 0, 1, 2, 2, 0, 2, 0, 2, 2, 0, 2, 2, 1, 2, 0, 1, 2, 0,\n",
       "        0, 1, 1, 0, 1, 0, 2, 1, 2, 1, 0, 0, 0, 1, 2, 1, 0, 1, 1, 1, 2, 1,\n",
       "        0, 0, 1, 0, 0, 0, 2, 0, 0, 2, 2, 0, 0, 2, 2, 1, 0, 1, 0, 1, 2, 0,\n",
       "        2, 1, 0, 1, 0, 1, 1, 2, 2, 1, 0, 1, 0, 0, 2, 2, 1, 2, 2, 2, 1, 0,\n",
       "        2, 0, 1, 1, 1, 0, 2, 2, 1, 0, 0, 2, 2, 1, 1, 2, 1, 0, 1, 1, 0, 1,\n",
       "        2, 2, 0, 1, 2, 2, 1, 0, 1, 0, 2, 2, 2, 0, 1, 0, 0, 1, 0, 2, 1, 2,\n",
       "        1, 2, 1, 2, 2, 0, 1, 0, 1, 0, 0, 1, 1, 1, 0, 2, 2, 0, 1, 0, 0, 1,\n",
       "        1, 0, 2, 0, 2, 1, 0, 0, 0, 0, 0, 0, 2, 2, 2, 1, 2, 1, 0, 0, 1, 2,\n",
       "        0, 0, 0, 0, 2, 2, 2, 1, 1, 1, 0, 2, 0, 1, 1, 0, 0, 2, 0, 1, 2, 2,\n",
       "        2, 1, 0, 1, 1, 1, 1, 0, 0, 1, 0, 2, 0, 2, 1, 2, 2, 0, 0, 1, 2, 0,\n",
       "        0, 1, 0, 0, 2, 2, 1, 2, 2, 0, 2, 1, 0, 1, 0, 2, 0, 0, 0, 0, 2, 2,\n",
       "        2, 1, 0, 0, 2, 1, 1, 2, 0, 0, 0, 1, 1, 1, 2, 2, 2, 2, 2, 1, 2, 2,\n",
       "        2, 1, 1, 2, 0, 2, 1, 0, 2, 0, 2, 1, 2, 0, 1, 0, 2, 0, 2, 2, 0, 0,\n",
       "        2, 0, 1, 2, 2, 0, 1, 1, 1, 0, 1, 2, 2, 1, 2, 1, 0, 2, 1, 2, 1, 2,\n",
       "        1, 1, 1, 1, 1, 0, 1, 0, 0, 2, 2, 0, 0, 1, 2, 2, 1, 1, 2, 2, 1, 2,\n",
       "        1, 2, 1, 0, 0, 0, 2, 1, 1, 1, 0, 2, 2, 1, 2, 2, 2, 1, 1, 2, 1, 0,\n",
       "        1, 0, 0, 2, 0, 2, 1, 0, 1, 1, 0, 1, 0, 1, 2, 0, 1, 1, 1, 0, 1, 2,\n",
       "        0, 1, 2, 2, 2, 0, 2, 1, 0, 2, 0, 0, 1, 0, 0, 1, 1, 0, 2, 0, 1, 2,\n",
       "        1, 0, 1, 1, 1, 0, 1, 2, 1, 2, 2, 2, 2, 2, 2, 1, 1, 2, 1, 2, 2, 0,\n",
       "        1, 1, 0, 1, 2, 0, 1, 0, 1, 0, 0, 0, 0, 1, 0, 0, 2, 0, 0, 0, 0, 0,\n",
       "        0, 1, 1, 1, 1, 1, 0, 1, 1, 0, 1, 1, 1, 0, 1, 0, 2, 1, 0, 2, 0, 0,\n",
       "        2, 1, 1, 0, 2, 0, 0, 2, 2, 1, 0, 2, 2, 0, 2, 2, 0, 1, 0, 2, 1, 0,\n",
       "        1, 1, 1, 0, 1, 0, 0, 2, 1, 0, 1, 0, 0, 1, 1, 2, 0, 2, 1, 2, 0, 2,\n",
       "        0, 0, 2, 0, 1, 1, 2, 1, 1, 0, 0, 2, 0, 2, 0, 1, 0, 0, 2, 1, 1, 1,\n",
       "        1, 2, 0, 2, 1, 0, 1, 0, 1, 2, 0, 2, 0, 1, 2, 1, 2, 2, 0, 2, 1, 2,\n",
       "        2, 1, 2, 0, 0, 0, 2, 1, 2, 2, 0, 2, 1, 0, 2, 0, 0, 2, 0, 1, 1, 1,\n",
       "        2, 1, 0, 1, 0, 1, 2, 0, 1, 2, 2, 1, 2, 2, 0, 1, 0, 0, 1, 2, 2, 2,\n",
       "        2, 2, 2, 0, 0, 0, 1, 1, 0, 2, 0, 2, 0, 2, 2, 0, 2, 1, 0, 1, 2, 2,\n",
       "        0, 1, 2, 2, 2, 0, 1, 1, 2, 2, 0, 2, 2, 2, 1, 2, 0, 2, 2, 1, 1, 2,\n",
       "        2, 0, 1, 1, 2, 2, 0, 2, 0, 1, 1, 2, 2, 0, 0, 0, 1, 0, 1, 1, 2, 2,\n",
       "        1, 0, 0, 1, 0, 2, 1, 0, 1, 2, 0, 0, 1, 1, 2, 2, 2, 0, 0, 1, 1, 0,\n",
       "        0, 0, 1, 2, 1, 2, 0, 1, 2, 2, 0, 2, 2, 0, 0, 0, 1, 2, 0, 2, 0, 2,\n",
       "        0, 0, 2, 2, 2, 2, 2, 0, 2, 2, 1, 0, 1, 2, 0, 0, 1, 2, 0, 0, 2, 0,\n",
       "        2, 1, 2, 0, 1, 2, 2, 1, 1, 0, 2, 1, 0, 1, 0, 0, 2, 1, 0, 2, 1, 0,\n",
       "        1, 1, 2, 1, 2, 0, 1, 2, 1, 1, 2, 0, 1, 2, 1, 0, 2, 2, 2, 2, 2, 1,\n",
       "        1, 2, 0, 0, 0, 0, 2, 0, 0, 2, 1, 0, 1, 1, 2, 2, 0, 1, 1, 2, 2, 1,\n",
       "        1, 1, 2, 0, 1, 2, 1, 2, 0, 2, 2, 1, 1, 0, 2, 0, 1, 0, 2, 1, 0, 0,\n",
       "        1, 2, 0, 0, 2, 1, 0, 0, 0, 2, 2, 2, 0, 2, 0, 2, 2, 0, 0, 0, 1, 1,\n",
       "        0, 1, 0, 1, 1, 2, 2, 1, 1, 0, 1, 2, 2, 1, 2, 2, 1, 1, 1, 0, 1, 0,\n",
       "        1, 0, 1, 0, 1, 0, 1, 0, 2, 2, 1, 2, 0, 0, 0, 2, 1, 1, 0, 1, 2, 2,\n",
       "        1, 1, 1, 2, 0, 0, 1, 0, 2, 0, 0, 1, 0, 1, 2, 2, 1, 1, 2, 1, 1, 2,\n",
       "        2, 2, 0, 0, 0, 1, 2, 0, 0, 1, 0, 1, 1, 1, 0, 0, 1, 1, 2, 0, 0, 1,\n",
       "        1, 1, 2, 2, 0, 2, 2, 2, 2, 1, 0, 1, 1, 1, 2, 0, 0, 2, 1, 2, 2, 2,\n",
       "        1, 1, 0, 2, 2, 0, 2, 2, 1, 2]))"
      ]
     },
     "execution_count": 30,
     "metadata": {},
     "output_type": "execute_result"
    }
   ],
   "source": [
    "X,y"
   ]
  },
  {
   "cell_type": "code",
   "execution_count": 31,
   "metadata": {},
   "outputs": [],
   "source": [
    "X_train,X_test,y_train,y_test = train_test_split(X,y,test_size=0.2,random_state=42)"
   ]
  },
  {
   "cell_type": "code",
   "execution_count": 32,
   "metadata": {},
   "outputs": [],
   "source": [
    "wcci = []\n",
    "for i in range(1,10):\n",
    "    kmean = KMeans(n_clusters=i,n_init='auto')\n",
    "    kmean.fit(X_train)\n",
    "    wcci.append(kmean.inertia_)"
   ]
  },
  {
   "cell_type": "code",
   "execution_count": 36,
   "metadata": {},
   "outputs": [
    {
     "data": {
      "text/plain": [
       "[<matplotlib.lines.Line2D at 0x1bc4db30050>]"
      ]
     },
     "execution_count": 36,
     "metadata": {},
     "output_type": "execute_result"
    },
    {
     "data": {
      "image/png": "[encoded data removed]",
      "text/plain": [
       "<Figure size 640x480 with 1 Axes>"
      ]
     },
     "metadata": {},
     "output_type": "display_data"
    }
   ],
   "source": [
    "plt.plot(range(1,10),wcci)"
   ]
  },
  {
   "cell_type": "markdown",
   "metadata": {},
   "source": [
    "From this plot we can conclude that 3 is the best no of cluster."
   ]
  },
  {
   "cell_type": "code",
   "execution_count": 37,
   "metadata": {},
   "outputs": [
    {
     "data": {
      "text/html": [
       "<style>#sk-container-id-3 {color: black;background-color: white;}#sk-container-id-3 pre{padding: 0;}#sk-container-id-3 div.sk-toggleable {background-color: white;}#sk-container-id-3 label.sk-toggleable__label {cursor: pointer;display: block;width: 100%;margin-bottom: 0;padding: 0.3em;box-sizing: border-box;text-align: center;}#sk-container-id-3 label.sk-toggleable__label-arrow:before {content: \"▸\";float: left;margin-right: 0.25em;color: #696969;}#sk-container-id-3 label.sk-toggleable__label-arrow:hover:before {color: black;}#sk-container-id-3 div.sk-estimator:hover label.sk-toggleable__label-arrow:before {color: black;}#sk-container-id-3 div.sk-toggleable__content {max-height: 0;max-width: 0;overflow: hidden;text-align: left;background-color: #f0f8ff;}#sk-container-id-3 div.sk-toggleable__content pre {margin: 0.2em;color: black;border-radius: 0.25em;background-color: #f0f8ff;}#sk-container-id-3 input.sk-toggleable__control:checked~div.sk-toggleable__content {max-height: 200px;max-width: 100%;overflow: auto;}#sk-container-id-3 input.sk-toggleable__control:checked~label.sk-toggleable__label-arrow:before {content: \"▾\";}#sk-container-id-3 div.sk-estimator input.sk-toggleable__control:checked~label.sk-toggleable__label {background-color: #d4ebff;}#sk-container-id-3 div.sk-label input.sk-toggleable__control:checked~label.sk-toggleable__label {background-color: #d4ebff;}#sk-container-id-3 input.sk-hidden--visually {border: 0;clip: rect(1px 1px 1px 1px);clip: rect(1px, 1px, 1px, 1px);height: 1px;margin: -1px;overflow: hidden;padding: 0;position: absolute;width: 1px;}#sk-container-id-3 div.sk-estimator {font-family: monospace;background-color: #f0f8ff;border: 1px dotted black;border-radius: 0.25em;box-sizing: border-box;margin-bottom: 0.5em;}#sk-container-id-3 div.sk-estimator:hover {background-color: #d4ebff;}#sk-container-id-3 div.sk-parallel-item::after {content: \"\";width: 100%;border-bottom: 1px solid gray;flex-grow: 1;}#sk-container-id-3 div.sk-label:hover label.sk-toggleable__label {background-color: #d4ebff;}#sk-container-id-3 div.sk-serial::before {content: \"\";position: absolute;border-left: 1px solid gray;box-sizing: border-box;top: 0;bottom: 0;left: 50%;z-index: 0;}#sk-container-id-3 div.sk-serial {display: flex;flex-direction: column;align-items: center;background-color: white;padding-right: 0.2em;padding-left: 0.2em;position: relative;}#sk-container-id-3 div.sk-item {position: relative;z-index: 1;}#sk-container-id-3 div.sk-parallel {display: flex;align-items: stretch;justify-content: center;background-color: white;position: relative;}#sk-container-id-3 div.sk-item::before, #sk-container-id-3 div.sk-parallel-item::before {content: \"\";position: absolute;border-left: 1px solid gray;box-sizing: border-box;top: 0;bottom: 0;left: 50%;z-index: -1;}#sk-container-id-3 div.sk-parallel-item {display: flex;flex-direction: column;z-index: 1;position: relative;background-color: white;}#sk-container-id-3 div.sk-parallel-item:first-child::after {align-self: flex-end;width: 50%;}#sk-container-id-3 div.sk-parallel-item:last-child::after {align-self: flex-start;width: 50%;}#sk-container-id-3 div.sk-parallel-item:only-child::after {width: 0;}#sk-container-id-3 div.sk-dashed-wrapped {border: 1px dashed gray;margin: 0 0.4em 0.5em 0.4em;box-sizing: border-box;padding-bottom: 0.4em;background-color: white;}#sk-container-id-3 div.sk-label label {font-family: monospace;font-weight: bold;display: inline-block;line-height: 1.2em;}#sk-container-id-3 div.sk-label-container {text-align: center;}#sk-container-id-3 div.sk-container {/* jupyter's `normalize.less` sets `[hidden] { display: none; }` but bootstrap.min.css set `[hidden] { display: none !important; }` so we also need the `!important` here to be able to override the default hidden behavior on the sphinx rendered scikit-learn.org. See: https://github.com/scikit-learn/scikit-learn/issues/21755 */display: inline-block !important;position: relative;}#sk-container-id-3 div.sk-text-repr-fallback {display: none;}</style><div id=\"sk-container-id-3\" class=\"sk-top-container\"><div class=\"sk-text-repr-fallback\"><pre>KMeans(n_clusters=3, n_init=&#x27;auto&#x27;)</pre><b>In a Jupyter environment, please rerun this cell to show the HTML representation or trust the notebook. <br />On GitHub, the HTML representation is unable to render, please try loading this page with nbviewer.org.</b></div><div class=\"sk-container\" hidden><div class=\"sk-item\"><div class=\"sk-estimator sk-toggleable\"><input class=\"sk-toggleable__control sk-hidden--visually\" id=\"sk-estimator-id-3\" type=\"checkbox\" checked><label for=\"sk-estimator-id-3\" class=\"sk-toggleable__label sk-toggleable__label-arrow\">KMeans</label><div class=\"sk-toggleable__content\"><pre>KMeans(n_clusters=3, n_init=&#x27;auto&#x27;)</pre></div></div></div></div></div>"
      ],
      "text/plain": [
       "KMeans(n_clusters=3, n_init='auto')"
      ]
     },
     "execution_count": 37,
     "metadata": {},
     "output_type": "execute_result"
    }
   ],
   "source": [
    "kmean = KMeans(n_clusters=3,n_init='auto')\n",
    "kmean.fit(X_train)"
   ]
  },
  {
   "cell_type": "code",
   "execution_count": null,
   "metadata": {},
   "outputs": [],
   "source": [
    "silhouette_score()"
   ]
  }
 ],
 "metadata": {
  "kernelspec": {
   "display_name": "Python 3",
   "language": "python",
   "name": "python3"
  },
  "language_info": {
   "codemirror_mode": {
    "name": "ipython",
    "version": 3
   },
   "file_extension": ".py",
   "mimetype": "text/x-python",
   "name": "python",
   "nbconvert_exporter": "python",
   "pygments_lexer": "ipython3",
   "version": "3.11.3"
  }
 },
 "nbformat": 4,
 "nbformat_minor": 2
}
