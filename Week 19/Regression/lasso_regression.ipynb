{
 "cells": [
  {
   "cell_type": "markdown",
   "metadata": {},
   "source": [
    "## **Lasso(Least Absolute Shrinkage and Selection Operator) Regression**"
   ]
  },
  {
   "cell_type": "markdown",
   "metadata": {},
   "source": [
    "It regularization is one of the most widely used techniques in linear regression models to prevent overfitting by applying L1 regularization (add a penalty term is proportional to the absolute value of the coefficients λ∑∣w∣.)to loss function. It's particularly useful when we want to perform feature selection, as it can shrink some of the coefficients to zero."
   ]
  },
  {
   "cell_type": "markdown",
   "metadata": {},
   "source": [
    "**Adv**\n",
    "* Feature Selection\n",
    "* Interpretabliltiy\n",
    "* Prevent Overfitting\n",
    "* Useful in When we have a lot of features and expect some of them to be irrelevant"
   ]
  },
  {
   "cell_type": "code",
   "execution_count": 12,
   "metadata": {},
   "outputs": [],
   "source": [
    "from sklearn.linear_model import Lasso\n",
    "from sklearn.model_selection import train_test_split\n",
    "from sklearn.datasets import make_regression"
   ]
  },
  {
   "cell_type": "code",
   "execution_count": 24,
   "metadata": {},
   "outputs": [],
   "source": [
    "X, y = make_regression(n_samples=100, n_features=10)\n",
    "\n",
    "X_train, X_test, y_train, y_test = train_test_split(X, y, test_size=0.2, random_state=42)"
   ]
  },
  {
   "cell_type": "code",
   "execution_count": 25,
   "metadata": {},
   "outputs": [
    {
     "name": "stdout",
     "output_type": "stream",
     "text": [
      "Model Coefficients: [59.14759189 39.77637682 48.79572614  0.         19.40582739 73.85723147\n",
      "  0.          7.67894996 41.81486004  0.        ]\n",
      "Intercept: 3.3947229678151634\n",
      "Training Score: 0.9454902544150119\n",
      "Testing Score: 0.9249106429557226\n"
     ]
    }
   ],
   "source": [
    "lasso = Lasso(alpha=10)\n",
    "lasso.fit(X_train, y_train)\n",
    "\n",
    "print(f\"Model Coefficients: {lasso.coef_}\")\n",
    "print(f\"Intercept: {lasso.intercept_}\")\n",
    "print(f\"Training Score: {lasso.score(X_train, y_train)}\")\n",
    "print(f\"Testing Score: {lasso.score(X_test, y_test)}\")"
   ]
  }
 ],
 "metadata": {
  "kernelspec": {
   "display_name": "Python 3",
   "language": "python",
   "name": "python3"
  },
  "language_info": {
   "codemirror_mode": {
    "name": "ipython",
    "version": 3
   },
   "file_extension": ".py",
   "mimetype": "text/x-python",
   "name": "python",
   "nbconvert_exporter": "python",
   "pygments_lexer": "ipython3",
   "version": "3.11.3"
  }
 },
 "nbformat": 4,
 "nbformat_minor": 2
}
