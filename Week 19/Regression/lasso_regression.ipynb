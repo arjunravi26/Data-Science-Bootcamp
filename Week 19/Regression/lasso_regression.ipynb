{
 "cells": [
  {
   "cell_type": "markdown",
   "metadata": {},
   "source": [
    "## **Lasso(Least Absolute Shrinkage and Selection Operator) Regression**"
   ]
  },
  {
   "cell_type": "markdown",
   "metadata": {},
   "source": [
    "It regularization is one of the most widely used techniques in linear regression models to prevent overfitting by applying L1 regularization (add a penalty term is proportional to the absolute value of the coefficients λ∑∣w∣.)to loss function. It's particularly useful when we want to perform feature selection, as it can shrink some of the coefficients to zero."
   ]
  },
  {
   "cell_type": "markdown",
   "metadata": {},
   "source": [
    "**Adv**\n",
    "* Feature Selection\n",
    "* Interpretabliltiy\n",
    "* Prevent Overfitting\n",
    "* Useful in When we have a lot of features and expect some of them to be irrelevant"
   ]
  },
  {
   "cell_type": "code",
   "execution_count": 1,
   "metadata": {},
   "outputs": [
    {
     "name": "stdout",
     "output_type": "stream",
     "text": [
      "Model Coefficients: [43.05041728 74.42278731 24.29890205 59.97095312 29.07936463 79.7600306\n",
      " 53.78085897 95.9730359  76.34304428 92.35362855]\n",
      "Intercept: -0.014348908363459145\n",
      "Training Score: 0.9999948704801417\n",
      "Testing Score: 0.9999927866253051\n"
     ]
    }
   ],
   "source": [
    "from sklearn.linear_model import Lasso\n",
    "from sklearn.model_selection import train_test_split\n",
    "from sklearn.datasets import make_regression\n",
    "import numpy as np\n",
    "\n",
    "X, y = make_regression(n_samples=100, n_features=10, noise=0.1)\n",
    "\n",
    "X_train, X_test, y_train, y_test = train_test_split(X, y, test_size=0.2, random_state=42)\n",
    "\n",
    "lasso = Lasso(alpha=0.1)\n",
    "\n",
    "lasso.fit(X_train, y_train)\n",
    "\n",
    "# Evaluate the model\n",
    "print(f\"Model Coefficients: {lasso.coef_}\")\n",
    "print(f\"Intercept: {lasso.intercept_}\")\n",
    "print(f\"Training Score: {lasso.score(X_train, y_train)}\")\n",
    "print(f\"Testing Score: {lasso.score(X_test, y_test)}\")"
   ]
  }
 ],
 "metadata": {
  "kernelspec": {
   "display_name": "Python 3",
   "language": "python",
   "name": "python3"
  },
  "language_info": {
   "codemirror_mode": {
    "name": "ipython",
    "version": 3
   },
   "file_extension": ".py",
   "mimetype": "text/x-python",
   "name": "python",
   "nbconvert_exporter": "python",
   "pygments_lexer": "ipython3",
   "version": "3.11.3"
  }
 },
 "nbformat": 4,
 "nbformat_minor": 2
}
