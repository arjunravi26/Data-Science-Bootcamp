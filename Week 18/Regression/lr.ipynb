{
 "cells": [
  {
   "cell_type": "code",
   "execution_count": 45,
   "metadata": {},
   "outputs": [],
   "source": [
    "from sklearn.datasets import make_regression\n",
    "import numpy as np"
   ]
  },
  {
   "cell_type": "code",
   "execution_count": 46,
   "metadata": {},
   "outputs": [],
   "source": [
    "# X = np.random.randint(low=1,high=100,size=10)\n",
    "# y = X * 2 + 1\n",
    "# W = 2\n",
    "# b = 3\n",
    "# compute_cost(X,y,W,b)"
   ]
  },
  {
   "cell_type": "code",
   "execution_count": 47,
   "metadata": {},
   "outputs": [],
   "source": [
    "X,y = make_regression(n_features=5,n_samples=1000)"
   ]
  },
  {
   "cell_type": "code",
   "execution_count": 48,
   "metadata": {},
   "outputs": [],
   "source": [
    "def compute_cost(X,y,W,b):\n",
    "    y_pred = np.dot(X,W) + b\n",
    "    n = X.shape[0]\n",
    "    cost= np.sum((y - y_pred) ** 2) / n\n",
    "    return cost"
   ]
  },
  {
   "cell_type": "code",
   "execution_count": 56,
   "metadata": {},
   "outputs": [],
   "source": [
    "def gradient_descent(X,y,W,b,alpha=0.1):\n",
    "    for _ in range(1000):\n",
    "        # print(compute_cost(X,y,W,b))\n",
    "        n = X.shape[0]\n",
    "        y_pred = np.dot(X,W) + b\n",
    "        error = y - y_pred\n",
    "        dw = -np.dot(X.T,error) / n\n",
    "        db = -np.mean(error)\n",
    "        W -= alpha * dw\n",
    "        b -= alpha * db\n",
    "    return W,b"
   ]
  },
  {
   "cell_type": "code",
   "execution_count": 57,
   "metadata": {},
   "outputs": [
    {
     "data": {
      "text/plain": [
       "(array([94.57046604, 44.96101557, 92.71913249, 35.17475423, 43.66636948]),\n",
       " -1.3614868628752103e-14)"
      ]
     },
     "execution_count": 57,
     "metadata": {},
     "output_type": "execute_result"
    }
   ],
   "source": [
    "W = np.zeros(shape=X.shape[1])\n",
    "b = 0\n",
    "gradient_descent(X,y,W,b)"
   ]
  }
 ],
 "metadata": {
  "kernelspec": {
   "display_name": "Python 3",
   "language": "python",
   "name": "python3"
  },
  "language_info": {
   "codemirror_mode": {
    "name": "ipython",
    "version": 3
   },
   "file_extension": ".py",
   "mimetype": "text/x-python",
   "name": "python",
   "nbconvert_exporter": "python",
   "pygments_lexer": "ipython3",
   "version": "3.11.3"
  }
 },
 "nbformat": 4,
 "nbformat_minor": 2
}
