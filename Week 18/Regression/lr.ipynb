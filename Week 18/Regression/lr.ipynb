{
 "cells": [
  {
   "cell_type": "code",
   "execution_count": 1,
   "metadata": {},
   "outputs": [],
   "source": [
    "import numpy as np"
   ]
  },
  {
   "cell_type": "code",
   "execution_count": 2,
   "metadata": {},
   "outputs": [],
   "source": [
    "def compute_cost(X,y,W,b):\n",
    "    y_pred = np.dot(X,W) + b\n",
    "    print(y_pred,y)\n",
    "    n = X.shape[0]\n",
    "    cost= np.sum((y - y_pred) ** 2) / n\n",
    "    return cost"
   ]
  },
  {
   "cell_type": "code",
   "execution_count": 3,
   "metadata": {},
   "outputs": [
    {
     "name": "stdout",
     "output_type": "stream",
     "text": [
      "[ 33 151 103 165  15 141  47 153 135  91] [ 31 149 101 163  13 139  45 151 133  89]\n"
     ]
    },
    {
     "data": {
      "text/plain": [
       "4.0"
      ]
     },
     "execution_count": 3,
     "metadata": {},
     "output_type": "execute_result"
    }
   ],
   "source": [
    "X = np.random.randint(low=1,high=100,size=10)\n",
    "y = X * 2 + 1\n",
    "W = 2\n",
    "b = 3\n",
    "compute_cost(X,y,W,b)"
   ]
  },
  {
   "cell_type": "code",
   "execution_count": 34,
   "metadata": {},
   "outputs": [],
   "source": [
    "def gradient_descent(X,y,W,b):\n",
    "    learning_rate = 0.001\n",
    "    for _ in range(100):\n",
    "        y_pred = np.dot(X,W) + b\n",
    "        error = y - y_pred\n",
    "        n = X.shape[0]\n",
    "        dw = np.dot(X.T,error) / n\n",
    "        db = np.sum(error) / n\n",
    "        W -= learning_rate * dw\n",
    "        b -= learning_rate * db\n",
    "    return W,b\n",
    "X = np.random.randint(low=1,high=100,size=10).reshape(10,-1)\n",
    "y = X * 2 + 1\n",
    "W = np.array([[2]],dtype=np.float64)\n",
    "b = 3\n",
    "w,b = gradient_descent(X,y,W,b)"
   ]
  },
  {
   "cell_type": "code",
   "execution_count": 38,
   "metadata": {},
   "outputs": [
    {
     "data": {
      "text/plain": [
       "array([-1.11524892e+112])"
      ]
     },
     "execution_count": 38,
     "metadata": {},
     "output_type": "execute_result"
    }
   ],
   "source": [
    "sum((y - np.dot(X,w) ** 2) + b)"
   ]
  },
  {
   "cell_type": "code",
   "execution_count": 32,
   "metadata": {},
   "outputs": [
    {
     "name": "stdout",
     "output_type": "stream",
     "text": [
      "Final predictions: [[nan]\n",
      " [nan]\n",
      " [nan]\n",
      " [nan]\n",
      " [nan]\n",
      " [nan]\n",
      " [nan]\n",
      " [nan]\n",
      " [nan]\n",
      " [nan]]\n",
      "Actual values: [[115]\n",
      " [155]\n",
      " [103]\n",
      " [ 51]\n",
      " [ 25]\n",
      " [105]\n",
      " [ 49]\n",
      " [191]\n",
      " [109]\n",
      " [  3]]\n"
     ]
    },
    {
     "name": "stderr",
     "output_type": "stream",
     "text": [
      "C:\\Users\\Dell\\AppData\\Local\\Temp\\ipykernel_6212\\3719336913.py:21: RuntimeWarning: invalid value encountered in subtract\n",
      "  W -= learning_rate * dw\n"
     ]
    }
   ],
   "source": [
    "import numpy as np\n",
    "\n",
    "def gradient_descent(X, y, W, b):\n",
    "    learning_rate = 0.001  # Step size for gradient descent\n",
    "    num_iterations = 500  # Number of iterations\n",
    "    \n",
    "    n = X.shape[0]  # Number of samples\n",
    "    \n",
    "    for _ in range(num_iterations):\n",
    "        # Calculate predictions\n",
    "        y_pred = np.dot(X, W) + b  # Shape: (n, 1)\n",
    "        \n",
    "        # Compute the error\n",
    "        error = y - y_pred  # Shape: (n, 1)\n",
    "        \n",
    "        # Compute gradients\n",
    "        dw = -2 * np.dot(X.T, error) / n  # Shape: (features, 1)\n",
    "        db = -2 * np.sum(error) / n       # Scalar\n",
    "        \n",
    "        # Update weights and bias\n",
    "        W -= learning_rate * dw\n",
    "        b -= learning_rate * db\n",
    "    \n",
    "    # Print final predictions and target values\n",
    "    print(\"Final predictions:\", np.dot(X, W) + b)\n",
    "    print(\"Actual values:\", y)\n",
    "\n",
    "# Generate random data\n",
    "X = np.random.randint(low=1, high=100, size=10).reshape(-1, 1)  # Shape: (10, 1)\n",
    "y = 2 * X + 1  # Shape: (10, 1)\n",
    "\n",
    "# Initialize weights and bias\n",
    "W = np.array([[2.0]])  # Shape: (1, 1)\n",
    "b = 3.0  # Scalar\n",
    "\n",
    "# Run gradient descent\n",
    "gradient_descent(X, y, W, b)\n"
   ]
  }
 ],
 "metadata": {
  "kernelspec": {
   "display_name": "Python 3",
   "language": "python",
   "name": "python3"
  },
  "language_info": {
   "codemirror_mode": {
    "name": "ipython",
    "version": 3
   },
   "file_extension": ".py",
   "mimetype": "text/x-python",
   "name": "python",
   "nbconvert_exporter": "python",
   "pygments_lexer": "ipython3",
   "version": "3.11.3"
  }
 },
 "nbformat": 4,
 "nbformat_minor": 2
}
