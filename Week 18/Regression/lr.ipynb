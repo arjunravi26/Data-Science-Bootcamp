{
 "cells": [
  {
   "cell_type": "code",
   "execution_count": 1,
   "metadata": {},
   "outputs": [],
   "source": [
    "import numpy as np"
   ]
  },
  {
   "cell_type": "code",
   "execution_count": 6,
   "metadata": {},
   "outputs": [],
   "source": [
    "def compute_cost(X,y,W,b):\n",
    "    y_pred = np.dot(X,W) + b\n",
    "    print(y_pred,y)\n",
    "    n = X.shape[0]\n",
    "    cost= np.sum((y - y_pred) ** 2) / n\n",
    "    return cost"
   ]
  },
  {
   "cell_type": "code",
   "execution_count": 7,
   "metadata": {},
   "outputs": [
    {
     "name": "stdout",
     "output_type": "stream",
     "text": [
      "[133  79  15  49  17 177 129 105 141  81] [131  77  13  47  15 175 127 103 139  79]\n"
     ]
    },
    {
     "data": {
      "text/plain": [
       "4.0"
      ]
     },
     "execution_count": 7,
     "metadata": {},
     "output_type": "execute_result"
    }
   ],
   "source": [
    "X = np.random.randint(low=1,high=100,size=10)\n",
    "y = X * 2 + 1\n",
    "W = 2\n",
    "b = 3\n",
    "compute_cost(X,y,W,b)"
   ]
  },
  {
   "cell_type": "code",
   "execution_count": 58,
   "metadata": {},
   "outputs": [
    {
     "ename": "ValueError",
     "evalue": "non-broadcastable output operand with shape (1,) doesn't match the broadcast shape (1,10)",
     "output_type": "error",
     "traceback": [
      "\u001b[1;31m---------------------------------------------------------------------------\u001b[0m",
      "\u001b[1;31mValueError\u001b[0m                                Traceback (most recent call last)",
      "Cell \u001b[1;32mIn[58], line 15\u001b[0m\n\u001b[0;32m     13\u001b[0m W \u001b[38;5;241m=\u001b[39m np\u001b[38;5;241m.\u001b[39marray([\u001b[38;5;241m2\u001b[39m],dtype\u001b[38;5;241m=\u001b[39mnp\u001b[38;5;241m.\u001b[39mfloat64)\n\u001b[0;32m     14\u001b[0m b \u001b[38;5;241m=\u001b[39m \u001b[38;5;241m3\u001b[39m\n\u001b[1;32m---> 15\u001b[0m \u001b[43mgradient_descent\u001b[49m\u001b[43m(\u001b[49m\u001b[43mX\u001b[49m\u001b[43m,\u001b[49m\u001b[43my\u001b[49m\u001b[43m,\u001b[49m\u001b[43mW\u001b[49m\u001b[43m,\u001b[49m\u001b[43mb\u001b[49m\u001b[43m)\u001b[49m\n",
      "Cell \u001b[1;32mIn[58], line 8\u001b[0m, in \u001b[0;36mgradient_descent\u001b[1;34m(X, y, W, b)\u001b[0m\n\u001b[0;32m      6\u001b[0m     dw \u001b[38;5;241m=\u001b[39m np\u001b[38;5;241m.\u001b[39mdot(X\u001b[38;5;241m.\u001b[39mT,error) \u001b[38;5;241m/\u001b[39m n\n\u001b[0;32m      7\u001b[0m     db \u001b[38;5;241m=\u001b[39m np\u001b[38;5;241m.\u001b[39msum(error) \u001b[38;5;241m/\u001b[39m n\n\u001b[1;32m----> 8\u001b[0m     \u001b[43mW\u001b[49m\u001b[43m \u001b[49m\u001b[38;5;241;43m-\u001b[39;49m\u001b[38;5;241;43m=\u001b[39;49m\u001b[43m \u001b[49m\u001b[38;5;241;43m0.01\u001b[39;49m\u001b[43m \u001b[49m\u001b[38;5;241;43m*\u001b[39;49m\u001b[43m \u001b[49m\u001b[43mdw\u001b[49m\n\u001b[0;32m      9\u001b[0m     b \u001b[38;5;241m-\u001b[39m\u001b[38;5;241m=\u001b[39m \u001b[38;5;241m0.01\u001b[39m \u001b[38;5;241m*\u001b[39m db\n\u001b[0;32m     10\u001b[0m \u001b[38;5;28mprint\u001b[39m(np\u001b[38;5;241m.\u001b[39mdot(X,W)\u001b[38;5;241m+\u001b[39mb,y)\n",
      "\u001b[1;31mValueError\u001b[0m: non-broadcastable output operand with shape (1,) doesn't match the broadcast shape (1,10)"
     ]
    }
   ],
   "source": [
    "def gradient_descent(X,y,W,b):\n",
    "    for _ in range(500):\n",
    "        y_pred = np.dot(X,W) + b\n",
    "        error = y - y_pred\n",
    "        n = X.shape[0]\n",
    "        dw = np.dot(X.T,error) / n\n",
    "        db = np.sum(error) / n\n",
    "        W -= 0.01 * dw\n",
    "        b -= 0.01 * db\n",
    "    print(np.dot(X,W)+b,y)\n",
    "X = np.random.randint(low=1,high=100,size=10).reshape(-1,1)\n",
    "y = X * 2 + 1\n",
    "W = np.array([2],dtype=np.float64)\n",
    "b = 3\n",
    "gradient_descent(X,y,W,b)"
   ]
  }
 ],
 "metadata": {
  "kernelspec": {
   "display_name": "Python 3",
   "language": "python",
   "name": "python3"
  },
  "language_info": {
   "codemirror_mode": {
    "name": "ipython",
    "version": 3
   },
   "file_extension": ".py",
   "mimetype": "text/x-python",
   "name": "python",
   "nbconvert_exporter": "python",
   "pygments_lexer": "ipython3",
   "version": "3.11.3"
  }
 },
 "nbformat": 4,
 "nbformat_minor": 2
}
